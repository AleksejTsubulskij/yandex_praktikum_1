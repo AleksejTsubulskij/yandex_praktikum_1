{
 "cells": [
  {
   "cell_type": "markdown",
   "id": "1e3ea090",
   "metadata": {
    "deletable": false,
    "editable": false,
    "id": "c81daeeb"
   },
   "source": [
    "# Исследование надежности заемщиков\n"
   ]
  },
  {
   "cell_type": "markdown",
   "id": "c52b0a0a",
   "metadata": {
    "deletable": false,
    "editable": false,
    "id": "827c20bf"
   },
   "source": [
    "Во второй части проекта вы выполните шаги 3 и 4. Их вручную проверит ревьюер.\n",
    "Чтобы вам не пришлось писать код заново для шагов 1 и 2, мы добавили авторские решения в ячейки с кодом. \n",
    "\n"
   ]
  },
  {
   "cell_type": "markdown",
   "id": "19ecac14",
   "metadata": {
    "deletable": false,
    "editable": false,
    "id": "744d7639"
   },
   "source": [
    "## Откройте таблицу и изучите общую информацию о данных"
   ]
  },
  {
   "cell_type": "markdown",
   "id": "18db397f",
   "metadata": {
    "deletable": false,
    "editable": false,
    "id": "e7a14c31"
   },
   "source": [
    "**Задание 1. Импортируйте библиотеку pandas. Считайте данные из csv-файла в датафрейм и сохраните в переменную `data`. Путь к файлу:**\n",
    "\n",
    "`/datasets/data.csv`"
   ]
  },
  {
   "cell_type": "code",
   "execution_count": 1,
   "id": "ed2e1bda",
   "metadata": {
    "deletable": false,
    "id": "7bcf75c9"
   },
   "outputs": [],
   "source": [
    "import pandas as pd\n",
    "import matplotlib.pyplot as plt\n",
    "\n",
    "try:\n",
    "    data = pd.read_csv('/datasets/data.csv')\n",
    "except:\n",
    "    data = pd.read_csv('https://code.s3.yandex.net/datasets/data.csv')"
   ]
  },
  {
   "cell_type": "markdown",
   "id": "4314e072",
   "metadata": {
    "deletable": false,
    "editable": false,
    "id": "b8038fe3"
   },
   "source": [
    "**Задание 2. Выведите первые 20 строчек датафрейма `data` на экран.**"
   ]
  },
  {
   "cell_type": "code",
   "execution_count": 2,
   "id": "13393e27",
   "metadata": {
    "deletable": false,
    "id": "2a7cab99",
    "outputId": "1a8f3ef2-d323-4ec2-ddf7-89670b5944c4"
   },
   "outputs": [
    {
     "data": {
      "text/html": [
       "<div>\n",
       "<style scoped>\n",
       "    .dataframe tbody tr th:only-of-type {\n",
       "        vertical-align: middle;\n",
       "    }\n",
       "\n",
       "    .dataframe tbody tr th {\n",
       "        vertical-align: top;\n",
       "    }\n",
       "\n",
       "    .dataframe thead th {\n",
       "        text-align: right;\n",
       "    }\n",
       "</style>\n",
       "<table border=\"1\" class=\"dataframe\">\n",
       "  <thead>\n",
       "    <tr style=\"text-align: right;\">\n",
       "      <th></th>\n",
       "      <th>children</th>\n",
       "      <th>days_employed</th>\n",
       "      <th>dob_years</th>\n",
       "      <th>education</th>\n",
       "      <th>education_id</th>\n",
       "      <th>family_status</th>\n",
       "      <th>family_status_id</th>\n",
       "      <th>gender</th>\n",
       "      <th>income_type</th>\n",
       "      <th>debt</th>\n",
       "      <th>total_income</th>\n",
       "      <th>purpose</th>\n",
       "    </tr>\n",
       "  </thead>\n",
       "  <tbody>\n",
       "    <tr>\n",
       "      <th>0</th>\n",
       "      <td>1</td>\n",
       "      <td>-8437.673028</td>\n",
       "      <td>42</td>\n",
       "      <td>высшее</td>\n",
       "      <td>0</td>\n",
       "      <td>женат / замужем</td>\n",
       "      <td>0</td>\n",
       "      <td>F</td>\n",
       "      <td>сотрудник</td>\n",
       "      <td>0</td>\n",
       "      <td>253875.639453</td>\n",
       "      <td>покупка жилья</td>\n",
       "    </tr>\n",
       "    <tr>\n",
       "      <th>1</th>\n",
       "      <td>1</td>\n",
       "      <td>-4024.803754</td>\n",
       "      <td>36</td>\n",
       "      <td>среднее</td>\n",
       "      <td>1</td>\n",
       "      <td>женат / замужем</td>\n",
       "      <td>0</td>\n",
       "      <td>F</td>\n",
       "      <td>сотрудник</td>\n",
       "      <td>0</td>\n",
       "      <td>112080.014102</td>\n",
       "      <td>приобретение автомобиля</td>\n",
       "    </tr>\n",
       "    <tr>\n",
       "      <th>2</th>\n",
       "      <td>0</td>\n",
       "      <td>-5623.422610</td>\n",
       "      <td>33</td>\n",
       "      <td>Среднее</td>\n",
       "      <td>1</td>\n",
       "      <td>женат / замужем</td>\n",
       "      <td>0</td>\n",
       "      <td>M</td>\n",
       "      <td>сотрудник</td>\n",
       "      <td>0</td>\n",
       "      <td>145885.952297</td>\n",
       "      <td>покупка жилья</td>\n",
       "    </tr>\n",
       "    <tr>\n",
       "      <th>3</th>\n",
       "      <td>3</td>\n",
       "      <td>-4124.747207</td>\n",
       "      <td>32</td>\n",
       "      <td>среднее</td>\n",
       "      <td>1</td>\n",
       "      <td>женат / замужем</td>\n",
       "      <td>0</td>\n",
       "      <td>M</td>\n",
       "      <td>сотрудник</td>\n",
       "      <td>0</td>\n",
       "      <td>267628.550329</td>\n",
       "      <td>дополнительное образование</td>\n",
       "    </tr>\n",
       "    <tr>\n",
       "      <th>4</th>\n",
       "      <td>0</td>\n",
       "      <td>340266.072047</td>\n",
       "      <td>53</td>\n",
       "      <td>среднее</td>\n",
       "      <td>1</td>\n",
       "      <td>гражданский брак</td>\n",
       "      <td>1</td>\n",
       "      <td>F</td>\n",
       "      <td>пенсионер</td>\n",
       "      <td>0</td>\n",
       "      <td>158616.077870</td>\n",
       "      <td>сыграть свадьбу</td>\n",
       "    </tr>\n",
       "    <tr>\n",
       "      <th>5</th>\n",
       "      <td>0</td>\n",
       "      <td>-926.185831</td>\n",
       "      <td>27</td>\n",
       "      <td>высшее</td>\n",
       "      <td>0</td>\n",
       "      <td>гражданский брак</td>\n",
       "      <td>1</td>\n",
       "      <td>M</td>\n",
       "      <td>компаньон</td>\n",
       "      <td>0</td>\n",
       "      <td>255763.565419</td>\n",
       "      <td>покупка жилья</td>\n",
       "    </tr>\n",
       "    <tr>\n",
       "      <th>6</th>\n",
       "      <td>0</td>\n",
       "      <td>-2879.202052</td>\n",
       "      <td>43</td>\n",
       "      <td>высшее</td>\n",
       "      <td>0</td>\n",
       "      <td>женат / замужем</td>\n",
       "      <td>0</td>\n",
       "      <td>F</td>\n",
       "      <td>компаньон</td>\n",
       "      <td>0</td>\n",
       "      <td>240525.971920</td>\n",
       "      <td>операции с жильем</td>\n",
       "    </tr>\n",
       "    <tr>\n",
       "      <th>7</th>\n",
       "      <td>0</td>\n",
       "      <td>-152.779569</td>\n",
       "      <td>50</td>\n",
       "      <td>СРЕДНЕЕ</td>\n",
       "      <td>1</td>\n",
       "      <td>женат / замужем</td>\n",
       "      <td>0</td>\n",
       "      <td>M</td>\n",
       "      <td>сотрудник</td>\n",
       "      <td>0</td>\n",
       "      <td>135823.934197</td>\n",
       "      <td>образование</td>\n",
       "    </tr>\n",
       "    <tr>\n",
       "      <th>8</th>\n",
       "      <td>2</td>\n",
       "      <td>-6929.865299</td>\n",
       "      <td>35</td>\n",
       "      <td>ВЫСШЕЕ</td>\n",
       "      <td>0</td>\n",
       "      <td>гражданский брак</td>\n",
       "      <td>1</td>\n",
       "      <td>F</td>\n",
       "      <td>сотрудник</td>\n",
       "      <td>0</td>\n",
       "      <td>95856.832424</td>\n",
       "      <td>на проведение свадьбы</td>\n",
       "    </tr>\n",
       "    <tr>\n",
       "      <th>9</th>\n",
       "      <td>0</td>\n",
       "      <td>-2188.756445</td>\n",
       "      <td>41</td>\n",
       "      <td>среднее</td>\n",
       "      <td>1</td>\n",
       "      <td>женат / замужем</td>\n",
       "      <td>0</td>\n",
       "      <td>M</td>\n",
       "      <td>сотрудник</td>\n",
       "      <td>0</td>\n",
       "      <td>144425.938277</td>\n",
       "      <td>покупка жилья для семьи</td>\n",
       "    </tr>\n",
       "    <tr>\n",
       "      <th>10</th>\n",
       "      <td>2</td>\n",
       "      <td>-4171.483647</td>\n",
       "      <td>36</td>\n",
       "      <td>высшее</td>\n",
       "      <td>0</td>\n",
       "      <td>женат / замужем</td>\n",
       "      <td>0</td>\n",
       "      <td>M</td>\n",
       "      <td>компаньон</td>\n",
       "      <td>0</td>\n",
       "      <td>113943.491460</td>\n",
       "      <td>покупка недвижимости</td>\n",
       "    </tr>\n",
       "    <tr>\n",
       "      <th>11</th>\n",
       "      <td>0</td>\n",
       "      <td>-792.701887</td>\n",
       "      <td>40</td>\n",
       "      <td>среднее</td>\n",
       "      <td>1</td>\n",
       "      <td>женат / замужем</td>\n",
       "      <td>0</td>\n",
       "      <td>F</td>\n",
       "      <td>сотрудник</td>\n",
       "      <td>0</td>\n",
       "      <td>77069.234271</td>\n",
       "      <td>покупка коммерческой недвижимости</td>\n",
       "    </tr>\n",
       "    <tr>\n",
       "      <th>12</th>\n",
       "      <td>0</td>\n",
       "      <td>NaN</td>\n",
       "      <td>65</td>\n",
       "      <td>среднее</td>\n",
       "      <td>1</td>\n",
       "      <td>гражданский брак</td>\n",
       "      <td>1</td>\n",
       "      <td>M</td>\n",
       "      <td>пенсионер</td>\n",
       "      <td>0</td>\n",
       "      <td>NaN</td>\n",
       "      <td>сыграть свадьбу</td>\n",
       "    </tr>\n",
       "    <tr>\n",
       "      <th>13</th>\n",
       "      <td>0</td>\n",
       "      <td>-1846.641941</td>\n",
       "      <td>54</td>\n",
       "      <td>неоконченное высшее</td>\n",
       "      <td>2</td>\n",
       "      <td>женат / замужем</td>\n",
       "      <td>0</td>\n",
       "      <td>F</td>\n",
       "      <td>сотрудник</td>\n",
       "      <td>0</td>\n",
       "      <td>130458.228857</td>\n",
       "      <td>приобретение автомобиля</td>\n",
       "    </tr>\n",
       "    <tr>\n",
       "      <th>14</th>\n",
       "      <td>0</td>\n",
       "      <td>-1844.956182</td>\n",
       "      <td>56</td>\n",
       "      <td>высшее</td>\n",
       "      <td>0</td>\n",
       "      <td>гражданский брак</td>\n",
       "      <td>1</td>\n",
       "      <td>F</td>\n",
       "      <td>компаньон</td>\n",
       "      <td>1</td>\n",
       "      <td>165127.911772</td>\n",
       "      <td>покупка жилой недвижимости</td>\n",
       "    </tr>\n",
       "    <tr>\n",
       "      <th>15</th>\n",
       "      <td>1</td>\n",
       "      <td>-972.364419</td>\n",
       "      <td>26</td>\n",
       "      <td>среднее</td>\n",
       "      <td>1</td>\n",
       "      <td>женат / замужем</td>\n",
       "      <td>0</td>\n",
       "      <td>F</td>\n",
       "      <td>сотрудник</td>\n",
       "      <td>0</td>\n",
       "      <td>116820.904450</td>\n",
       "      <td>строительство собственной недвижимости</td>\n",
       "    </tr>\n",
       "    <tr>\n",
       "      <th>16</th>\n",
       "      <td>0</td>\n",
       "      <td>-1719.934226</td>\n",
       "      <td>35</td>\n",
       "      <td>среднее</td>\n",
       "      <td>1</td>\n",
       "      <td>женат / замужем</td>\n",
       "      <td>0</td>\n",
       "      <td>F</td>\n",
       "      <td>сотрудник</td>\n",
       "      <td>0</td>\n",
       "      <td>289202.704229</td>\n",
       "      <td>недвижимость</td>\n",
       "    </tr>\n",
       "    <tr>\n",
       "      <th>17</th>\n",
       "      <td>0</td>\n",
       "      <td>-2369.999720</td>\n",
       "      <td>33</td>\n",
       "      <td>высшее</td>\n",
       "      <td>0</td>\n",
       "      <td>гражданский брак</td>\n",
       "      <td>1</td>\n",
       "      <td>M</td>\n",
       "      <td>сотрудник</td>\n",
       "      <td>0</td>\n",
       "      <td>90410.586745</td>\n",
       "      <td>строительство недвижимости</td>\n",
       "    </tr>\n",
       "    <tr>\n",
       "      <th>18</th>\n",
       "      <td>0</td>\n",
       "      <td>400281.136913</td>\n",
       "      <td>53</td>\n",
       "      <td>среднее</td>\n",
       "      <td>1</td>\n",
       "      <td>вдовец / вдова</td>\n",
       "      <td>2</td>\n",
       "      <td>F</td>\n",
       "      <td>пенсионер</td>\n",
       "      <td>0</td>\n",
       "      <td>56823.777243</td>\n",
       "      <td>на покупку подержанного автомобиля</td>\n",
       "    </tr>\n",
       "    <tr>\n",
       "      <th>19</th>\n",
       "      <td>0</td>\n",
       "      <td>-10038.818549</td>\n",
       "      <td>48</td>\n",
       "      <td>СРЕДНЕЕ</td>\n",
       "      <td>1</td>\n",
       "      <td>в разводе</td>\n",
       "      <td>3</td>\n",
       "      <td>F</td>\n",
       "      <td>сотрудник</td>\n",
       "      <td>0</td>\n",
       "      <td>242831.107982</td>\n",
       "      <td>на покупку своего автомобиля</td>\n",
       "    </tr>\n",
       "  </tbody>\n",
       "</table>\n",
       "</div>"
      ],
      "text/plain": [
       "    children  days_employed  dob_years            education  education_id  \\\n",
       "0          1   -8437.673028         42               высшее             0   \n",
       "1          1   -4024.803754         36              среднее             1   \n",
       "2          0   -5623.422610         33              Среднее             1   \n",
       "3          3   -4124.747207         32              среднее             1   \n",
       "4          0  340266.072047         53              среднее             1   \n",
       "5          0    -926.185831         27               высшее             0   \n",
       "6          0   -2879.202052         43               высшее             0   \n",
       "7          0    -152.779569         50              СРЕДНЕЕ             1   \n",
       "8          2   -6929.865299         35               ВЫСШЕЕ             0   \n",
       "9          0   -2188.756445         41              среднее             1   \n",
       "10         2   -4171.483647         36               высшее             0   \n",
       "11         0    -792.701887         40              среднее             1   \n",
       "12         0            NaN         65              среднее             1   \n",
       "13         0   -1846.641941         54  неоконченное высшее             2   \n",
       "14         0   -1844.956182         56               высшее             0   \n",
       "15         1    -972.364419         26              среднее             1   \n",
       "16         0   -1719.934226         35              среднее             1   \n",
       "17         0   -2369.999720         33               высшее             0   \n",
       "18         0  400281.136913         53              среднее             1   \n",
       "19         0  -10038.818549         48              СРЕДНЕЕ             1   \n",
       "\n",
       "       family_status  family_status_id gender income_type  debt  \\\n",
       "0    женат / замужем                 0      F   сотрудник     0   \n",
       "1    женат / замужем                 0      F   сотрудник     0   \n",
       "2    женат / замужем                 0      M   сотрудник     0   \n",
       "3    женат / замужем                 0      M   сотрудник     0   \n",
       "4   гражданский брак                 1      F   пенсионер     0   \n",
       "5   гражданский брак                 1      M   компаньон     0   \n",
       "6    женат / замужем                 0      F   компаньон     0   \n",
       "7    женат / замужем                 0      M   сотрудник     0   \n",
       "8   гражданский брак                 1      F   сотрудник     0   \n",
       "9    женат / замужем                 0      M   сотрудник     0   \n",
       "10   женат / замужем                 0      M   компаньон     0   \n",
       "11   женат / замужем                 0      F   сотрудник     0   \n",
       "12  гражданский брак                 1      M   пенсионер     0   \n",
       "13   женат / замужем                 0      F   сотрудник     0   \n",
       "14  гражданский брак                 1      F   компаньон     1   \n",
       "15   женат / замужем                 0      F   сотрудник     0   \n",
       "16   женат / замужем                 0      F   сотрудник     0   \n",
       "17  гражданский брак                 1      M   сотрудник     0   \n",
       "18    вдовец / вдова                 2      F   пенсионер     0   \n",
       "19         в разводе                 3      F   сотрудник     0   \n",
       "\n",
       "     total_income                                 purpose  \n",
       "0   253875.639453                           покупка жилья  \n",
       "1   112080.014102                 приобретение автомобиля  \n",
       "2   145885.952297                           покупка жилья  \n",
       "3   267628.550329              дополнительное образование  \n",
       "4   158616.077870                         сыграть свадьбу  \n",
       "5   255763.565419                           покупка жилья  \n",
       "6   240525.971920                       операции с жильем  \n",
       "7   135823.934197                             образование  \n",
       "8    95856.832424                   на проведение свадьбы  \n",
       "9   144425.938277                 покупка жилья для семьи  \n",
       "10  113943.491460                    покупка недвижимости  \n",
       "11   77069.234271       покупка коммерческой недвижимости  \n",
       "12            NaN                         сыграть свадьбу  \n",
       "13  130458.228857                 приобретение автомобиля  \n",
       "14  165127.911772              покупка жилой недвижимости  \n",
       "15  116820.904450  строительство собственной недвижимости  \n",
       "16  289202.704229                            недвижимость  \n",
       "17   90410.586745              строительство недвижимости  \n",
       "18   56823.777243      на покупку подержанного автомобиля  \n",
       "19  242831.107982            на покупку своего автомобиля  "
      ]
     },
     "execution_count": 2,
     "metadata": {},
     "output_type": "execute_result"
    }
   ],
   "source": [
    "data.head(20)"
   ]
  },
  {
   "cell_type": "markdown",
   "id": "c83d3c9d",
   "metadata": {
    "deletable": false,
    "editable": false,
    "id": "1c12e233"
   },
   "source": [
    "**Задание 3. Выведите основную информацию о датафрейме с помощью метода `info()`.**"
   ]
  },
  {
   "cell_type": "code",
   "execution_count": 3,
   "id": "ae2ff2c4",
   "metadata": {
    "deletable": false,
    "id": "2b757bca",
    "outputId": "15376089-8dad-46c9-b520-c05248d43158"
   },
   "outputs": [
    {
     "name": "stdout",
     "output_type": "stream",
     "text": [
      "<class 'pandas.core.frame.DataFrame'>\n",
      "RangeIndex: 21525 entries, 0 to 21524\n",
      "Data columns (total 12 columns):\n",
      " #   Column            Non-Null Count  Dtype  \n",
      "---  ------            --------------  -----  \n",
      " 0   children          21525 non-null  int64  \n",
      " 1   days_employed     19351 non-null  float64\n",
      " 2   dob_years         21525 non-null  int64  \n",
      " 3   education         21525 non-null  object \n",
      " 4   education_id      21525 non-null  int64  \n",
      " 5   family_status     21525 non-null  object \n",
      " 6   family_status_id  21525 non-null  int64  \n",
      " 7   gender            21525 non-null  object \n",
      " 8   income_type       21525 non-null  object \n",
      " 9   debt              21525 non-null  int64  \n",
      " 10  total_income      19351 non-null  float64\n",
      " 11  purpose           21525 non-null  object \n",
      "dtypes: float64(2), int64(5), object(5)\n",
      "memory usage: 2.0+ MB\n"
     ]
    }
   ],
   "source": [
    "data.info()"
   ]
  },
  {
   "cell_type": "markdown",
   "id": "767f213b",
   "metadata": {
    "deletable": false,
    "editable": false,
    "id": "333ec665"
   },
   "source": [
    "## Предобработка данных"
   ]
  },
  {
   "cell_type": "markdown",
   "id": "85fa6d5c",
   "metadata": {
    "deletable": false,
    "editable": false,
    "id": "02d92d53"
   },
   "source": [
    "### Удаление пропусков"
   ]
  },
  {
   "cell_type": "markdown",
   "id": "dbb2a7c8",
   "metadata": {
    "deletable": false,
    "editable": false,
    "id": "cd84967c"
   },
   "source": [
    "**Задание 4. Выведите количество пропущенных значений для каждого столбца. Используйте комбинацию двух методов.**"
   ]
  },
  {
   "cell_type": "code",
   "execution_count": 4,
   "id": "d61268e1",
   "metadata": {
    "deletable": false,
    "id": "7f9b2309",
    "outputId": "81f4d817-781c-465c-ed15-91ce4446810d"
   },
   "outputs": [
    {
     "data": {
      "text/plain": [
       "children               0\n",
       "days_employed       2174\n",
       "dob_years              0\n",
       "education              0\n",
       "education_id           0\n",
       "family_status          0\n",
       "family_status_id       0\n",
       "gender                 0\n",
       "income_type            0\n",
       "debt                   0\n",
       "total_income        2174\n",
       "purpose                0\n",
       "dtype: int64"
      ]
     },
     "execution_count": 4,
     "metadata": {},
     "output_type": "execute_result"
    }
   ],
   "source": [
    "data.isna().sum()"
   ]
  },
  {
   "cell_type": "code",
   "execution_count": 5,
   "id": "2cc28269",
   "metadata": {},
   "outputs": [
    {
     "data": {
      "text/plain": [
       "сотрудник          1105\n",
       "компаньон           508\n",
       "пенсионер           413\n",
       "госслужащий         147\n",
       "предприниматель       1\n",
       "Name: income_type, dtype: int64"
      ]
     },
     "execution_count": 5,
     "metadata": {},
     "output_type": "execute_result"
    }
   ],
   "source": [
    "data[data['total_income'].isna()]['income_type'].value_counts()"
   ]
  },
  {
   "cell_type": "code",
   "execution_count": 6,
   "id": "17d887f2",
   "metadata": {},
   "outputs": [
    {
     "data": {
      "text/plain": [
       "среднее                0.647654\n",
       "высшее                 0.228151\n",
       "СРЕДНЕЕ                0.030819\n",
       "Среднее                0.029899\n",
       "неоконченное высшее    0.025299\n",
       "Высшее                 0.011500\n",
       "ВЫСШЕЕ                 0.010580\n",
       "начальное              0.008740\n",
       "Неоконченное высшее    0.003220\n",
       "НЕОКОНЧЕННОЕ ВЫСШЕЕ    0.003220\n",
       "Начальное              0.000460\n",
       "НАЧАЛЬНОЕ              0.000460\n",
       "Name: education, dtype: float64"
      ]
     },
     "execution_count": 6,
     "metadata": {},
     "output_type": "execute_result"
    }
   ],
   "source": [
    "data[data['total_income'].isna()]['education'].value_counts(normalize=True)"
   ]
  },
  {
   "cell_type": "code",
   "execution_count": 7,
   "id": "e2968ee3",
   "metadata": {},
   "outputs": [
    {
     "data": {
      "text/plain": [
       "2174"
      ]
     },
     "execution_count": 7,
     "metadata": {},
     "output_type": "execute_result"
    }
   ],
   "source": [
    "len(data.loc[(data['days_employed'].isna()) & (data['total_income'].isna())])"
   ]
  },
  {
   "cell_type": "code",
   "execution_count": 8,
   "id": "56099e06",
   "metadata": {},
   "outputs": [
    {
     "data": {
      "text/plain": [
       "среднее                0.638792\n",
       "высшее                 0.219187\n",
       "СРЕДНЕЕ                0.035865\n",
       "Среднее                0.033031\n",
       "неоконченное высшее    0.031034\n",
       "ВЫСШЕЕ                 0.012729\n",
       "Высшее                 0.012451\n",
       "начальное              0.011614\n",
       "Неоконченное высшее    0.002184\n",
       "НЕОКОНЧЕННОЕ ВЫСШЕЕ    0.001347\n",
       "НАЧАЛЬНОЕ              0.000790\n",
       "Начальное              0.000697\n",
       "ученая степень         0.000186\n",
       "Ученая степень         0.000046\n",
       "УЧЕНАЯ СТЕПЕНЬ         0.000046\n",
       "Name: education, dtype: float64"
      ]
     },
     "execution_count": 8,
     "metadata": {},
     "output_type": "execute_result"
    }
   ],
   "source": [
    "data['education'].value_counts(normalize=True)"
   ]
  },
  {
   "cell_type": "code",
   "execution_count": 9,
   "id": "acbb6ac0",
   "metadata": {},
   "outputs": [
    {
     "data": {
      "text/html": [
       "<div>\n",
       "<style scoped>\n",
       "    .dataframe tbody tr th:only-of-type {\n",
       "        vertical-align: middle;\n",
       "    }\n",
       "\n",
       "    .dataframe tbody tr th {\n",
       "        vertical-align: top;\n",
       "    }\n",
       "\n",
       "    .dataframe thead th {\n",
       "        text-align: right;\n",
       "    }\n",
       "</style>\n",
       "<table border=\"1\" class=\"dataframe\">\n",
       "  <thead>\n",
       "    <tr style=\"text-align: right;\">\n",
       "      <th></th>\n",
       "      <th>children</th>\n",
       "      <th>days_employed</th>\n",
       "      <th>dob_years</th>\n",
       "      <th>education_id</th>\n",
       "      <th>family_status_id</th>\n",
       "      <th>debt</th>\n",
       "      <th>total_income</th>\n",
       "    </tr>\n",
       "    <tr>\n",
       "      <th>total_income</th>\n",
       "      <th></th>\n",
       "      <th></th>\n",
       "      <th></th>\n",
       "      <th></th>\n",
       "      <th></th>\n",
       "      <th></th>\n",
       "      <th></th>\n",
       "    </tr>\n",
       "  </thead>\n",
       "  <tbody>\n",
       "    <tr>\n",
       "      <th>False</th>\n",
       "      <td>0.537388</td>\n",
       "      <td>63046.497661</td>\n",
       "      <td>43.255336</td>\n",
       "      <td>0.819079</td>\n",
       "      <td>0.972249</td>\n",
       "      <td>0.081184</td>\n",
       "      <td>167422.302208</td>\n",
       "    </tr>\n",
       "    <tr>\n",
       "      <th>True</th>\n",
       "      <td>0.552438</td>\n",
       "      <td>NaN</td>\n",
       "      <td>43.632015</td>\n",
       "      <td>0.800828</td>\n",
       "      <td>0.975161</td>\n",
       "      <td>0.078197</td>\n",
       "      <td>NaN</td>\n",
       "    </tr>\n",
       "  </tbody>\n",
       "</table>\n",
       "</div>"
      ],
      "text/plain": [
       "              children  days_employed  dob_years  education_id  \\\n",
       "total_income                                                     \n",
       "False         0.537388   63046.497661  43.255336      0.819079   \n",
       "True          0.552438            NaN  43.632015      0.800828   \n",
       "\n",
       "              family_status_id      debt   total_income  \n",
       "total_income                                             \n",
       "False                 0.972249  0.081184  167422.302208  \n",
       "True                  0.975161  0.078197            NaN  "
      ]
     },
     "execution_count": 9,
     "metadata": {},
     "output_type": "execute_result"
    }
   ],
   "source": [
    "data.groupby(data['total_income'].isna()).mean()"
   ]
  },
  {
   "cell_type": "markdown",
   "id": "42290692",
   "metadata": {
    "deletable": false,
    "editable": false,
    "id": "db86e27b"
   },
   "source": [
    "**Задание 5. В двух столбцах есть пропущенные значения. Один из них — `days_employed`. Пропуски в этом столбце вы обработаете на следующем этапе. Другой столбец с пропущенными значениями — `total_income` — хранит данные о доходах. На сумму дохода сильнее всего влияет тип занятости, поэтому заполнить пропуски в этом столбце нужно медианным значением по каждому типу из столбца `income_type`. Например, у человека с типом занятости `сотрудник` пропуск в столбце `total_income` должен быть заполнен медианным доходом среди всех записей с тем же типом.**"
   ]
  },
  {
   "cell_type": "code",
   "execution_count": 10,
   "id": "322d1a40",
   "metadata": {
    "deletable": false,
    "id": "42006a93"
   },
   "outputs": [],
   "source": [
    "for t in data['income_type'].unique():\n",
    "    data.loc[(data['income_type'] == t) & (data['total_income'].isna()), 'total_income'] = \\\n",
    "    data.loc[(data['income_type'] == t), 'total_income'].median()"
   ]
  },
  {
   "cell_type": "markdown",
   "id": "35ac4e9f",
   "metadata": {
    "deletable": false,
    "editable": false,
    "id": "89da5ece"
   },
   "source": [
    "### Обработка аномальных значений"
   ]
  },
  {
   "cell_type": "markdown",
   "id": "5896bbdf",
   "metadata": {
    "deletable": false,
    "editable": false,
    "id": "57964554"
   },
   "source": [
    "**Задание 6. В данных могут встречаться артефакты (аномалии) — значения, которые не отражают действительность и появились по какой-то ошибке. таким артефактом будет отрицательное количество дней трудового стажа в столбце `days_employed`. Для реальных данных это нормально. Обработайте значения в этом столбце: замените все отрицательные значения положительными с помощью метода `abs()`.**"
   ]
  },
  {
   "cell_type": "code",
   "execution_count": 11,
   "id": "06108e9f",
   "metadata": {
    "deletable": false,
    "id": "f6f055bf"
   },
   "outputs": [],
   "source": [
    "data['days_employed'] = data['days_employed'].abs()"
   ]
  },
  {
   "cell_type": "markdown",
   "id": "f84c971d",
   "metadata": {
    "deletable": false,
    "editable": false,
    "id": "6107dd2f"
   },
   "source": [
    "**Задание 7. Для каждого типа занятости выведите медианное значение трудового стажа `days_employed` в днях.**"
   ]
  },
  {
   "cell_type": "code",
   "execution_count": 12,
   "id": "fd213505",
   "metadata": {
    "deletable": false,
    "id": "85a5faf6",
    "outputId": "801ef80e-522b-4668-f34e-565af7432bcf"
   },
   "outputs": [
    {
     "data": {
      "text/plain": [
       "income_type\n",
       "безработный        366413.652744\n",
       "в декрете            3296.759962\n",
       "госслужащий          2689.368353\n",
       "компаньон            1547.382223\n",
       "пенсионер          365213.306266\n",
       "предприниматель       520.848083\n",
       "сотрудник            1574.202821\n",
       "студент               578.751554\n",
       "Name: days_employed, dtype: float64"
      ]
     },
     "execution_count": 12,
     "metadata": {},
     "output_type": "execute_result"
    }
   ],
   "source": [
    "data.groupby('income_type')['days_employed'].agg('median')"
   ]
  },
  {
   "cell_type": "markdown",
   "id": "06678d19",
   "metadata": {
    "deletable": false,
    "editable": false,
    "id": "38d1a030"
   },
   "source": [
    "У двух типов (безработные и пенсионеры) получатся аномально большие значения. Исправить такие значения сложно, поэтому оставьте их как есть. Тем более этот столбец не понадобится вам для исследования."
   ]
  },
  {
   "cell_type": "markdown",
   "id": "88e487c1",
   "metadata": {
    "deletable": false,
    "editable": false,
    "id": "d8a9f147"
   },
   "source": [
    "**Задание 8. Выведите перечень уникальных значений столбца `children`.**"
   ]
  },
  {
   "cell_type": "code",
   "execution_count": 13,
   "id": "99836c60",
   "metadata": {
    "deletable": false,
    "id": "ef5056eb",
    "outputId": "6975b15c-7f95-4697-d16d-a0c79b657b03"
   },
   "outputs": [
    {
     "data": {
      "text/plain": [
       "array([ 1,  0,  3,  2, -1,  4, 20,  5])"
      ]
     },
     "execution_count": 13,
     "metadata": {},
     "output_type": "execute_result"
    }
   ],
   "source": [
    "data['children'].unique()"
   ]
  },
  {
   "cell_type": "markdown",
   "id": "eb226fa9",
   "metadata": {
    "deletable": false,
    "editable": false,
    "id": "40b9ebf2"
   },
   "source": [
    "**Задание 9. В столбце `children` есть два аномальных значения. Удалите строки, в которых встречаются такие аномальные значения из датафрейма `data`.**"
   ]
  },
  {
   "cell_type": "code",
   "execution_count": 14,
   "id": "8b08734f",
   "metadata": {
    "deletable": false,
    "id": "3ff9801d"
   },
   "outputs": [],
   "source": [
    "data = data[(data['children'] != -1) & (data['children'] != 20)]"
   ]
  },
  {
   "cell_type": "markdown",
   "id": "ec0b96b4",
   "metadata": {
    "deletable": false,
    "editable": false,
    "id": "bbc4d0ce"
   },
   "source": [
    "**Задание 10. Ещё раз выведите перечень уникальных значений столбца `children`, чтобы убедиться, что артефакты удалены.**"
   ]
  },
  {
   "cell_type": "code",
   "execution_count": 15,
   "id": "49d760d5",
   "metadata": {
    "deletable": false,
    "id": "ad4fa8b7",
    "outputId": "b2097101-d49d-44d9-901b-32a65c9463d1"
   },
   "outputs": [
    {
     "data": {
      "text/plain": [
       "array([1, 0, 3, 2, 4, 5])"
      ]
     },
     "execution_count": 15,
     "metadata": {},
     "output_type": "execute_result"
    }
   ],
   "source": [
    "data['children'].unique()"
   ]
  },
  {
   "cell_type": "markdown",
   "id": "dd943ac4",
   "metadata": {
    "deletable": false,
    "editable": false,
    "id": "75440b63"
   },
   "source": [
    "### Удаление пропусков (продолжение)"
   ]
  },
  {
   "cell_type": "markdown",
   "id": "5a34e210",
   "metadata": {
    "deletable": false,
    "editable": false,
    "id": "f4ea573f"
   },
   "source": [
    "**Задание 11. Заполните пропуски в столбце `days_employed` медианными значениями по каждого типа занятости `income_type`.**"
   ]
  },
  {
   "cell_type": "code",
   "execution_count": 16,
   "id": "77171feb",
   "metadata": {
    "deletable": false,
    "id": "af6b1a7e"
   },
   "outputs": [],
   "source": [
    "for t in data['income_type'].unique():\n",
    "    data.loc[(data['income_type'] == t) & (data['days_employed'].isna()), 'days_employed'] = \\\n",
    "    data.loc[(data['income_type'] == t), 'days_employed'].median()"
   ]
  },
  {
   "cell_type": "markdown",
   "id": "b8dc05a4",
   "metadata": {
    "deletable": false,
    "editable": false,
    "id": "2753f40d"
   },
   "source": [
    "**Задание 12. Убедитесь, что все пропуски заполнены. Проверьте себя и ещё раз выведите количество пропущенных значений для каждого столбца с помощью двух методов.**"
   ]
  },
  {
   "cell_type": "code",
   "execution_count": 17,
   "id": "5272856a",
   "metadata": {
    "deletable": false,
    "id": "55f78bc2",
    "outputId": "8da1e4e1-358e-4e87-98c9-f261bce0a7b2"
   },
   "outputs": [
    {
     "data": {
      "text/plain": [
       "children            0\n",
       "days_employed       0\n",
       "dob_years           0\n",
       "education           0\n",
       "education_id        0\n",
       "family_status       0\n",
       "family_status_id    0\n",
       "gender              0\n",
       "income_type         0\n",
       "debt                0\n",
       "total_income        0\n",
       "purpose             0\n",
       "dtype: int64"
      ]
     },
     "execution_count": 17,
     "metadata": {},
     "output_type": "execute_result"
    }
   ],
   "source": [
    "data.isna().sum()"
   ]
  },
  {
   "cell_type": "markdown",
   "id": "58f35c9b",
   "metadata": {
    "deletable": false,
    "editable": false,
    "id": "ddc81e43"
   },
   "source": [
    "### Изменение типов данных"
   ]
  },
  {
   "cell_type": "markdown",
   "id": "2286e573",
   "metadata": {
    "deletable": false,
    "editable": false,
    "id": "42d19d24"
   },
   "source": [
    "**Задание 13. Замените вещественный тип данных в столбце `total_income` на целочисленный с помощью метода `astype()`.**"
   ]
  },
  {
   "cell_type": "code",
   "execution_count": 18,
   "id": "a0f3298a",
   "metadata": {
    "deletable": false,
    "id": "920b65ad"
   },
   "outputs": [],
   "source": [
    "data['total_income'] = data['total_income'].astype(int)"
   ]
  },
  {
   "cell_type": "markdown",
   "id": "f1808517",
   "metadata": {
    "deletable": false,
    "editable": false,
    "id": "80c420ba"
   },
   "source": [
    "### Обработка дубликатов"
   ]
  },
  {
   "cell_type": "markdown",
   "id": "5edfcec6",
   "metadata": {
    "deletable": false,
    "editable": false
   },
   "source": [
    "**Задание 14. Обработайте неявные дубликаты в столбце `education`. В этом столбце есть одни и те же значения, но записанные по-разному: с использованием заглавных и строчных букв. Приведите их к нижнему регистру. Проверьте остальные столбцы.**"
   ]
  },
  {
   "cell_type": "code",
   "execution_count": 19,
   "id": "f4a776dc",
   "metadata": {
    "deletable": false
   },
   "outputs": [],
   "source": [
    "data['education'] = data['education'].str.lower()"
   ]
  },
  {
   "cell_type": "markdown",
   "id": "44709929",
   "metadata": {
    "deletable": false,
    "editable": false,
    "id": "dc587695"
   },
   "source": [
    "**Задание 15. Выведите на экран количество строк-дубликатов в данных. Если такие строки присутствуют, удалите их.**"
   ]
  },
  {
   "cell_type": "code",
   "execution_count": 20,
   "id": "d0cb3c33",
   "metadata": {
    "deletable": false,
    "id": "3ee445e4",
    "outputId": "9684deba-1934-42d1-99e1-cda61740f822"
   },
   "outputs": [
    {
     "data": {
      "text/plain": [
       "71"
      ]
     },
     "execution_count": 20,
     "metadata": {},
     "output_type": "execute_result"
    }
   ],
   "source": [
    "data.duplicated().sum()"
   ]
  },
  {
   "cell_type": "code",
   "execution_count": 21,
   "id": "68ebf9d6",
   "metadata": {
    "deletable": false,
    "id": "8575fe05"
   },
   "outputs": [],
   "source": [
    "data = data.drop_duplicates()"
   ]
  },
  {
   "cell_type": "markdown",
   "id": "a8ee9165",
   "metadata": {
    "deletable": false,
    "editable": false,
    "id": "9904cf55"
   },
   "source": [
    "### Категоризация данных"
   ]
  },
  {
   "cell_type": "markdown",
   "id": "90a0a871",
   "metadata": {
    "deletable": false,
    "editable": false,
    "id": "72fcc8a2"
   },
   "source": [
    "**Задание 16. На основании диапазонов, указанных ниже, создайте в датафрейме `data` столбец `total_income_category` с категориями:**\n",
    "\n",
    "- 0–30000 — `'E'`;\n",
    "- 30001–50000 — `'D'`;\n",
    "- 50001–200000 — `'C'`;\n",
    "- 200001–1000000 — `'B'`;\n",
    "- 1000001 и выше — `'A'`.\n",
    "\n",
    "\n",
    "**Например, кредитополучателю с доходом 25000 нужно назначить категорию `'E'`, а клиенту, получающему 235000, — `'B'`. Используйте собственную функцию с именем `categorize_income()` и метод `apply()`.**"
   ]
  },
  {
   "cell_type": "code",
   "execution_count": 22,
   "id": "c99425c6",
   "metadata": {
    "deletable": false,
    "id": "e1771346"
   },
   "outputs": [],
   "source": [
    "def categorize_income(income):\n",
    "    try:\n",
    "        if 0 <= income <= 30000:\n",
    "            return 'E'\n",
    "        elif 30001 <= income <= 50000:\n",
    "            return 'D'\n",
    "        elif 50001 <= income <= 200000:\n",
    "            return 'C'\n",
    "        elif 200001 <= income <= 1000000:\n",
    "            return 'B'\n",
    "        elif income >= 1000001:\n",
    "            return 'A'\n",
    "    except:\n",
    "        pass"
   ]
  },
  {
   "cell_type": "code",
   "execution_count": 23,
   "id": "20fe456a",
   "metadata": {
    "deletable": false,
    "id": "d5f3586d"
   },
   "outputs": [],
   "source": [
    "data['total_income_category'] = data['total_income'].apply(categorize_income)"
   ]
  },
  {
   "cell_type": "markdown",
   "id": "f509890f",
   "metadata": {
    "deletable": false,
    "editable": false,
    "id": "dde49b5c"
   },
   "source": [
    "**Задание 17. Выведите на экран перечень уникальных целей взятия кредита из столбца `purpose`.**"
   ]
  },
  {
   "cell_type": "code",
   "execution_count": 24,
   "id": "7dedd5e3",
   "metadata": {
    "deletable": false,
    "id": "f67ce9b3",
    "outputId": "673c12d9-7d7e-4ae0-9812-c622c89dd244"
   },
   "outputs": [
    {
     "data": {
      "text/plain": [
       "array(['покупка жилья', 'приобретение автомобиля',\n",
       "       'дополнительное образование', 'сыграть свадьбу',\n",
       "       'операции с жильем', 'образование', 'на проведение свадьбы',\n",
       "       'покупка жилья для семьи', 'покупка недвижимости',\n",
       "       'покупка коммерческой недвижимости', 'покупка жилой недвижимости',\n",
       "       'строительство собственной недвижимости', 'недвижимость',\n",
       "       'строительство недвижимости', 'на покупку подержанного автомобиля',\n",
       "       'на покупку своего автомобиля',\n",
       "       'операции с коммерческой недвижимостью',\n",
       "       'строительство жилой недвижимости', 'жилье',\n",
       "       'операции со своей недвижимостью', 'автомобили',\n",
       "       'заняться образованием', 'сделка с подержанным автомобилем',\n",
       "       'получение образования', 'автомобиль', 'свадьба',\n",
       "       'получение дополнительного образования', 'покупка своего жилья',\n",
       "       'операции с недвижимостью', 'получение высшего образования',\n",
       "       'свой автомобиль', 'сделка с автомобилем',\n",
       "       'профильное образование', 'высшее образование',\n",
       "       'покупка жилья для сдачи', 'на покупку автомобиля', 'ремонт жилью',\n",
       "       'заняться высшим образованием'], dtype=object)"
      ]
     },
     "execution_count": 24,
     "metadata": {},
     "output_type": "execute_result"
    }
   ],
   "source": [
    "data['purpose'].unique()"
   ]
  },
  {
   "cell_type": "markdown",
   "id": "bbf9ab0a",
   "metadata": {
    "deletable": false,
    "editable": false,
    "id": "85d0aef0"
   },
   "source": [
    "**Задание 18. Создайте функцию, которая на основании данных из столбца `purpose` сформирует новый столбец `purpose_category`, в который войдут следующие категории:**\n",
    "\n",
    "- `'операции с автомобилем'`,\n",
    "- `'операции с недвижимостью'`,\n",
    "- `'проведение свадьбы'`,\n",
    "- `'получение образования'`.\n",
    "\n",
    "**Например, если в столбце `purpose` находится подстрока `'на покупку автомобиля'`, то в столбце `purpose_category` должна появиться строка `'операции с автомобилем'`.**\n",
    "\n",
    "**Используйте собственную функцию с именем `categorize_purpose()` и метод `apply()`. Изучите данные в столбце `purpose` и определите, какие подстроки помогут вам правильно определить категорию.**"
   ]
  },
  {
   "cell_type": "code",
   "execution_count": 25,
   "id": "4366e724",
   "metadata": {
    "deletable": false,
    "id": "e149fab4"
   },
   "outputs": [],
   "source": [
    "def categorize_purpose(row):\n",
    "    try:\n",
    "        if 'автом' in row:\n",
    "            return 'операции с автомобилем'\n",
    "        elif 'жил' in row or 'недвиж' in row:\n",
    "            return 'операции с недвижимостью'\n",
    "        elif 'свад' in row:\n",
    "            return 'проведение свадьбы'\n",
    "        elif 'образов' in row:\n",
    "            return 'получение образования'\n",
    "    except:\n",
    "        return 'нет категории'"
   ]
  },
  {
   "cell_type": "code",
   "execution_count": 26,
   "id": "dd83ac8a",
   "metadata": {
    "deletable": false,
    "id": "bf36e69b"
   },
   "outputs": [],
   "source": [
    "data['purpose_category'] = data['purpose'].apply(categorize_purpose)"
   ]
  },
  {
   "cell_type": "markdown",
   "id": "04887bbf",
   "metadata": {
    "deletable": false,
    "editable": false,
    "id": "09b242bf"
   },
   "source": [
    "### Шаг 3. Исследуйте данные и ответьте на вопросы"
   ]
  },
  {
   "cell_type": "markdown",
   "id": "efff05c7",
   "metadata": {
    "deletable": false,
    "editable": false,
    "id": "c5d66278"
   },
   "source": [
    "#### 3.1 Есть ли зависимость между количеством детей и возвратом кредита в срок?"
   ]
  },
  {
   "cell_type": "code",
   "execution_count": 27,
   "id": "4820530c",
   "metadata": {},
   "outputs": [],
   "source": [
    "data_pivot=data.pivot_table(index='children',values='debt',aggfunc = {'count','sum','mean'} )"
   ]
  },
  {
   "cell_type": "code",
   "execution_count": 28,
   "id": "76d65344",
   "metadata": {},
   "outputs": [],
   "source": [
    "def made_pivot(df,index):\n",
    "    data_pivot=df.pivot_table(index=index,values='debt',aggfunc = {'count','sum','mean'} )\n",
    "    data_pivot=data_pivot.rename(columns={'count':'Количество кредитов','sum':'Число клиентов с просрочной по кредиту','mean':'Доля должников'})\n",
    "    data_pivot['Доля категории от числа всех клиентов']=data_pivot['Количество кредитов']/data.shape[0]\n",
    "    return data_pivot"
   ]
  },
  {
   "cell_type": "code",
   "execution_count": 29,
   "id": "a3b2f041",
   "metadata": {},
   "outputs": [
    {
     "data": {
      "text/html": [
       "<div>\n",
       "<style scoped>\n",
       "    .dataframe tbody tr th:only-of-type {\n",
       "        vertical-align: middle;\n",
       "    }\n",
       "\n",
       "    .dataframe tbody tr th {\n",
       "        vertical-align: top;\n",
       "    }\n",
       "\n",
       "    .dataframe thead th {\n",
       "        text-align: right;\n",
       "    }\n",
       "</style>\n",
       "<table border=\"1\" class=\"dataframe\">\n",
       "  <thead>\n",
       "    <tr style=\"text-align: right;\">\n",
       "      <th></th>\n",
       "      <th>Количество кредитов</th>\n",
       "      <th>Доля должников</th>\n",
       "      <th>Число клиентов с просрочной по кредиту</th>\n",
       "    </tr>\n",
       "    <tr>\n",
       "      <th>children</th>\n",
       "      <th></th>\n",
       "      <th></th>\n",
       "      <th></th>\n",
       "    </tr>\n",
       "  </thead>\n",
       "  <tbody>\n",
       "    <tr>\n",
       "      <th>0</th>\n",
       "      <td>14091.0</td>\n",
       "      <td>0.075438</td>\n",
       "      <td>1063.0</td>\n",
       "    </tr>\n",
       "    <tr>\n",
       "      <th>1</th>\n",
       "      <td>4808.0</td>\n",
       "      <td>0.092346</td>\n",
       "      <td>444.0</td>\n",
       "    </tr>\n",
       "    <tr>\n",
       "      <th>2</th>\n",
       "      <td>2052.0</td>\n",
       "      <td>0.094542</td>\n",
       "      <td>194.0</td>\n",
       "    </tr>\n",
       "    <tr>\n",
       "      <th>3</th>\n",
       "      <td>330.0</td>\n",
       "      <td>0.081818</td>\n",
       "      <td>27.0</td>\n",
       "    </tr>\n",
       "    <tr>\n",
       "      <th>4</th>\n",
       "      <td>41.0</td>\n",
       "      <td>0.097561</td>\n",
       "      <td>4.0</td>\n",
       "    </tr>\n",
       "    <tr>\n",
       "      <th>5</th>\n",
       "      <td>9.0</td>\n",
       "      <td>0.000000</td>\n",
       "      <td>0.0</td>\n",
       "    </tr>\n",
       "  </tbody>\n",
       "</table>\n",
       "</div>"
      ],
      "text/plain": [
       "          Количество кредитов  Доля должников  \\\n",
       "children                                        \n",
       "0                     14091.0        0.075438   \n",
       "1                      4808.0        0.092346   \n",
       "2                      2052.0        0.094542   \n",
       "3                       330.0        0.081818   \n",
       "4                        41.0        0.097561   \n",
       "5                         9.0        0.000000   \n",
       "\n",
       "          Число клиентов с просрочной по кредиту  \n",
       "children                                          \n",
       "0                                         1063.0  \n",
       "1                                          444.0  \n",
       "2                                          194.0  \n",
       "3                                           27.0  \n",
       "4                                            4.0  \n",
       "5                                            0.0  "
      ]
     },
     "execution_count": 29,
     "metadata": {},
     "output_type": "execute_result"
    }
   ],
   "source": [
    "data_pivot=data_pivot.rename(columns={'count':'Количество кредитов','sum':'Число клиентов с просрочной по кредиту','mean':'Доля должников'})\n",
    "data_pivot"
   ]
  },
  {
   "cell_type": "code",
   "execution_count": 30,
   "id": "ef5ab5d5",
   "metadata": {},
   "outputs": [],
   "source": [
    "data_pivot['Доля категории от числа всех клиентов']=data_pivot['Количество кредитов']/data.shape[0]"
   ]
  },
  {
   "cell_type": "code",
   "execution_count": 31,
   "id": "085680f4",
   "metadata": {},
   "outputs": [
    {
     "data": {
      "text/html": [
       "<div>\n",
       "<style scoped>\n",
       "    .dataframe tbody tr th:only-of-type {\n",
       "        vertical-align: middle;\n",
       "    }\n",
       "\n",
       "    .dataframe tbody tr th {\n",
       "        vertical-align: top;\n",
       "    }\n",
       "\n",
       "    .dataframe thead th {\n",
       "        text-align: right;\n",
       "    }\n",
       "</style>\n",
       "<table border=\"1\" class=\"dataframe\">\n",
       "  <thead>\n",
       "    <tr style=\"text-align: right;\">\n",
       "      <th></th>\n",
       "      <th>Количество кредитов</th>\n",
       "      <th>Доля должников</th>\n",
       "      <th>Число клиентов с просрочной по кредиту</th>\n",
       "      <th>Доля категории от числа всех клиентов</th>\n",
       "    </tr>\n",
       "    <tr>\n",
       "      <th>children</th>\n",
       "      <th></th>\n",
       "      <th></th>\n",
       "      <th></th>\n",
       "      <th></th>\n",
       "    </tr>\n",
       "  </thead>\n",
       "  <tbody>\n",
       "    <tr>\n",
       "      <th>0</th>\n",
       "      <td>14091.0</td>\n",
       "      <td>0.075438</td>\n",
       "      <td>1063.0</td>\n",
       "      <td>0.660588</td>\n",
       "    </tr>\n",
       "    <tr>\n",
       "      <th>1</th>\n",
       "      <td>4808.0</td>\n",
       "      <td>0.092346</td>\n",
       "      <td>444.0</td>\n",
       "      <td>0.225400</td>\n",
       "    </tr>\n",
       "    <tr>\n",
       "      <th>2</th>\n",
       "      <td>2052.0</td>\n",
       "      <td>0.094542</td>\n",
       "      <td>194.0</td>\n",
       "      <td>0.096198</td>\n",
       "    </tr>\n",
       "    <tr>\n",
       "      <th>3</th>\n",
       "      <td>330.0</td>\n",
       "      <td>0.081818</td>\n",
       "      <td>27.0</td>\n",
       "      <td>0.015470</td>\n",
       "    </tr>\n",
       "    <tr>\n",
       "      <th>4</th>\n",
       "      <td>41.0</td>\n",
       "      <td>0.097561</td>\n",
       "      <td>4.0</td>\n",
       "      <td>0.001922</td>\n",
       "    </tr>\n",
       "    <tr>\n",
       "      <th>5</th>\n",
       "      <td>9.0</td>\n",
       "      <td>0.000000</td>\n",
       "      <td>0.0</td>\n",
       "      <td>0.000422</td>\n",
       "    </tr>\n",
       "  </tbody>\n",
       "</table>\n",
       "</div>"
      ],
      "text/plain": [
       "          Количество кредитов  Доля должников  \\\n",
       "children                                        \n",
       "0                     14091.0        0.075438   \n",
       "1                      4808.0        0.092346   \n",
       "2                      2052.0        0.094542   \n",
       "3                       330.0        0.081818   \n",
       "4                        41.0        0.097561   \n",
       "5                         9.0        0.000000   \n",
       "\n",
       "          Число клиентов с просрочной по кредиту  \\\n",
       "children                                           \n",
       "0                                         1063.0   \n",
       "1                                          444.0   \n",
       "2                                          194.0   \n",
       "3                                           27.0   \n",
       "4                                            4.0   \n",
       "5                                            0.0   \n",
       "\n",
       "          Доля категории от числа всех клиентов  \n",
       "children                                         \n",
       "0                                      0.660588  \n",
       "1                                      0.225400  \n",
       "2                                      0.096198  \n",
       "3                                      0.015470  \n",
       "4                                      0.001922  \n",
       "5                                      0.000422  "
      ]
     },
     "metadata": {},
     "output_type": "display_data"
    }
   ],
   "source": [
    "display(data_pivot)"
   ]
  },
  {
   "cell_type": "code",
   "execution_count": 32,
   "id": "5ba13f27",
   "metadata": {
    "deletable": false,
    "id": "2cacfc4a"
   },
   "outputs": [
    {
     "data": {
      "text/html": [
       "<div>\n",
       "<style scoped>\n",
       "    .dataframe tbody tr th:only-of-type {\n",
       "        vertical-align: middle;\n",
       "    }\n",
       "\n",
       "    .dataframe tbody tr th {\n",
       "        vertical-align: top;\n",
       "    }\n",
       "\n",
       "    .dataframe thead tr th {\n",
       "        text-align: left;\n",
       "    }\n",
       "\n",
       "    .dataframe thead tr:last-of-type th {\n",
       "        text-align: right;\n",
       "    }\n",
       "</style>\n",
       "<table border=\"1\" class=\"dataframe\">\n",
       "  <thead>\n",
       "    <tr>\n",
       "      <th></th>\n",
       "      <th>ratio</th>\n",
       "    </tr>\n",
       "    <tr>\n",
       "      <th></th>\n",
       "      <th></th>\n",
       "    </tr>\n",
       "    <tr>\n",
       "      <th>children</th>\n",
       "      <th></th>\n",
       "    </tr>\n",
       "  </thead>\n",
       "  <tbody>\n",
       "    <tr>\n",
       "      <th>0</th>\n",
       "      <td>0.075438</td>\n",
       "    </tr>\n",
       "    <tr>\n",
       "      <th>1</th>\n",
       "      <td>0.092346</td>\n",
       "    </tr>\n",
       "    <tr>\n",
       "      <th>2</th>\n",
       "      <td>0.094542</td>\n",
       "    </tr>\n",
       "    <tr>\n",
       "      <th>3</th>\n",
       "      <td>0.081818</td>\n",
       "    </tr>\n",
       "    <tr>\n",
       "      <th>4</th>\n",
       "      <td>0.097561</td>\n",
       "    </tr>\n",
       "    <tr>\n",
       "      <th>5</th>\n",
       "      <td>0.000000</td>\n",
       "    </tr>\n",
       "  </tbody>\n",
       "</table>\n",
       "</div>"
      ],
      "text/plain": [
       "             ratio\n",
       "                  \n",
       "children          \n",
       "0         0.075438\n",
       "1         0.092346\n",
       "2         0.094542\n",
       "3         0.081818\n",
       "4         0.097561\n",
       "5         0.000000"
      ]
     },
     "execution_count": 32,
     "metadata": {},
     "output_type": "execute_result"
    }
   ],
   "source": [
    "kids =(data[['children','debt']]).groupby('children').agg({'debt': ['count', 'sum']})\n",
    "kids['ratio'] = kids['debt']['sum'] / kids['debt']['count']\n",
    "kids_1=kids.drop(['debt'], axis=1)\n",
    "kids_1"
   ]
  },
  {
   "cell_type": "code",
   "execution_count": 33,
   "id": "fc577730",
   "metadata": {},
   "outputs": [
    {
     "data": {
      "text/plain": [
       "0    0.660588\n",
       "1    0.225400\n",
       "2    0.096198\n",
       "3    0.015470\n",
       "4    0.001922\n",
       "5    0.000422\n",
       "Name: children, dtype: float64"
      ]
     },
     "execution_count": 33,
     "metadata": {},
     "output_type": "execute_result"
    }
   ],
   "source": [
    "data['children'].value_counts(normalize=True)"
   ]
  },
  {
   "cell_type": "code",
   "execution_count": 34,
   "id": "19bd40d1",
   "metadata": {},
   "outputs": [
    {
     "data": {
      "image/png": "[encoded data removed]",
      "text/plain": [
       "<Figure size 432x288 with 1 Axes>"
      ]
     },
     "metadata": {
      "needs_background": "light"
     },
     "output_type": "display_data"
    }
   ],
   "source": [
    "kids_1.plot(xlabel= 'Число детей', ylabel= 'Доля просроченных кредитов')\n",
    "plt.ylim([0.04, 0.1])\n",
    "plt.show()"
   ]
  },
  {
   "cell_type": "code",
   "execution_count": 35,
   "id": "5029865d",
   "metadata": {},
   "outputs": [],
   "source": [
    "# Ваш код будет здесь. Вы можете создавать новые ячейки."
   ]
  },
  {
   "cell_type": "markdown",
   "id": "004da9a9",
   "metadata": {
    "deletable": false,
    "id": "3a6b99ec"
   },
   "source": [
    "**Вывод:** \n",
    "Как мы видим существует прямая зависимость между количеством детей и долей просроченной задолженности.С появлением детей уровень  просроченной задолженности растет.Так доля просроченной задолженности растет на 22% ((0,092/0,074-1)*100) при наличии 1 ребенка по сравнению с отсутствием детей. Эту тенденцию подтверждает рост доли просроченной задолженнности в семьях с 2 детьми.\n",
    "Данных по семьям с 3 и более детей недостаточно, чтобы подтвердить какие либо зависимости так как  как видно из сводной таблицы их доля вместе меньше 2 процентов от числа всех клиентов. Таким образом явно выражена зависимость в увеличении просроченной задолженности с увеличением количества детей. "
   ]
  },
  {
   "cell_type": "markdown",
   "id": "3b4ff14b",
   "metadata": {
    "deletable": false,
    "editable": false,
    "id": "97be82ca"
   },
   "source": [
    "#### 3.2 Есть ли зависимость между семейным положением и возвратом кредита в срок?"
   ]
  },
  {
   "cell_type": "code",
   "execution_count": 36,
   "id": "bf5a0d57",
   "metadata": {
    "deletable": false,
    "id": "dc3f7ee8"
   },
   "outputs": [
    {
     "data": {
      "text/plain": [
       "family_status\n",
       "вдовец / вдова           0.066246\n",
       "в разводе                0.070648\n",
       "женат / замужем          0.075606\n",
       "гражданский брак         0.093130\n",
       "Не женат / не замужем    0.097639\n",
       "Name: debt, dtype: float64"
      ]
     },
     "execution_count": 36,
     "metadata": {},
     "output_type": "execute_result"
    }
   ],
   "source": [
    "family = data[['family_status','debt']]\n",
    "family_grouped = family.groupby('family_status')['debt'].sum()/family.groupby('family_status')['debt'].count()\n",
    "family_grouped=family_grouped.sort_values()\n",
    "family_grouped\n",
    "# Ваш код будет здесь. Вы можете создавать новые ячейки."
   ]
  },
  {
   "cell_type": "code",
   "execution_count": 37,
   "id": "97410520",
   "metadata": {},
   "outputs": [
    {
     "data": {
      "text/plain": [
       "женат / замужем          0.574797\n",
       "гражданский брак         0.193802\n",
       "Не женат / не замужем    0.131077\n",
       "в разводе                0.055740\n",
       "вдовец / вдова           0.044583\n",
       "Name: family_status, dtype: float64"
      ]
     },
     "execution_count": 37,
     "metadata": {},
     "output_type": "execute_result"
    }
   ],
   "source": [
    "family['family_status'].value_counts(normalize=True)"
   ]
  },
  {
   "cell_type": "code",
   "execution_count": 38,
   "id": "694b458a",
   "metadata": {},
   "outputs": [],
   "source": [
    "family_pivot = made_pivot(data,'family_status')"
   ]
  },
  {
   "cell_type": "code",
   "execution_count": 39,
   "id": "888e891c",
   "metadata": {},
   "outputs": [
    {
     "data": {
      "text/html": [
       "<div>\n",
       "<style scoped>\n",
       "    .dataframe tbody tr th:only-of-type {\n",
       "        vertical-align: middle;\n",
       "    }\n",
       "\n",
       "    .dataframe tbody tr th {\n",
       "        vertical-align: top;\n",
       "    }\n",
       "\n",
       "    .dataframe thead th {\n",
       "        text-align: right;\n",
       "    }\n",
       "</style>\n",
       "<table border=\"1\" class=\"dataframe\">\n",
       "  <thead>\n",
       "    <tr style=\"text-align: right;\">\n",
       "      <th></th>\n",
       "      <th>Количество кредитов</th>\n",
       "      <th>Доля должников</th>\n",
       "      <th>Число клиентов с просрочной по кредиту</th>\n",
       "      <th>Доля категории от числа всех клиентов</th>\n",
       "    </tr>\n",
       "    <tr>\n",
       "      <th>family_status</th>\n",
       "      <th></th>\n",
       "      <th></th>\n",
       "      <th></th>\n",
       "      <th></th>\n",
       "    </tr>\n",
       "  </thead>\n",
       "  <tbody>\n",
       "    <tr>\n",
       "      <th>Не женат / не замужем</th>\n",
       "      <td>2796.0</td>\n",
       "      <td>0.097639</td>\n",
       "      <td>273.0</td>\n",
       "      <td>0.131077</td>\n",
       "    </tr>\n",
       "    <tr>\n",
       "      <th>в разводе</th>\n",
       "      <td>1189.0</td>\n",
       "      <td>0.070648</td>\n",
       "      <td>84.0</td>\n",
       "      <td>0.055740</td>\n",
       "    </tr>\n",
       "    <tr>\n",
       "      <th>вдовец / вдова</th>\n",
       "      <td>951.0</td>\n",
       "      <td>0.066246</td>\n",
       "      <td>63.0</td>\n",
       "      <td>0.044583</td>\n",
       "    </tr>\n",
       "    <tr>\n",
       "      <th>гражданский брак</th>\n",
       "      <td>4134.0</td>\n",
       "      <td>0.093130</td>\n",
       "      <td>385.0</td>\n",
       "      <td>0.193802</td>\n",
       "    </tr>\n",
       "    <tr>\n",
       "      <th>женат / замужем</th>\n",
       "      <td>12261.0</td>\n",
       "      <td>0.075606</td>\n",
       "      <td>927.0</td>\n",
       "      <td>0.574797</td>\n",
       "    </tr>\n",
       "  </tbody>\n",
       "</table>\n",
       "</div>"
      ],
      "text/plain": [
       "                       Количество кредитов  Доля должников  \\\n",
       "family_status                                                \n",
       "Не женат / не замужем               2796.0        0.097639   \n",
       "в разводе                           1189.0        0.070648   \n",
       "вдовец / вдова                       951.0        0.066246   \n",
       "гражданский брак                    4134.0        0.093130   \n",
       "женат / замужем                    12261.0        0.075606   \n",
       "\n",
       "                       Число клиентов с просрочной по кредиту  \\\n",
       "family_status                                                   \n",
       "Не женат / не замужем                                   273.0   \n",
       "в разводе                                                84.0   \n",
       "вдовец / вдова                                           63.0   \n",
       "гражданский брак                                        385.0   \n",
       "женат / замужем                                         927.0   \n",
       "\n",
       "                       Доля категории от числа всех клиентов  \n",
       "family_status                                                 \n",
       "Не женат / не замужем                               0.131077  \n",
       "в разводе                                           0.055740  \n",
       "вдовец / вдова                                      0.044583  \n",
       "гражданский брак                                    0.193802  \n",
       "женат / замужем                                     0.574797  "
      ]
     },
     "metadata": {},
     "output_type": "display_data"
    }
   ],
   "source": [
    "display(family_pivot)"
   ]
  },
  {
   "cell_type": "code",
   "execution_count": 40,
   "id": "43c523e0",
   "metadata": {},
   "outputs": [
    {
     "data": {
      "image/png": "[encoded data removed]",
      "text/plain": [
       "<Figure size 648x216 with 1 Axes>"
      ]
     },
     "metadata": {
      "needs_background": "light"
     },
     "output_type": "display_data"
    }
   ],
   "source": [
    "family_grouped.plot(figsize=(9,3),xlabel= 'Семейное положение', ylabel= 'Доля просроченных кредитов')\n",
    "\n",
    "plt.show()"
   ]
  },
  {
   "cell_type": "markdown",
   "id": "c698e24d",
   "metadata": {
    "deletable": false,
    "id": "1cef7837"
   },
   "source": [
    "**Вывод:** \n",
    "Существует явная зависимость между  семейным положением и долей просроченной задолженности.Так клиенты банка которые не находятся в браке имеют значительно более высокий уровень задолженности, по сравнению с другими категориями. Клиенты банка в гражданском браке имеют более высокий уровень задолженности чем клиенты в браке. Неожиданно клиенты в разводе имеют более низкий уровень задолженности, чем клиенты находящиеся в браке .И самый низкий уровень задолженности имеют клиенты которые потеряли супругу/супруга. Исходя из текущих результатов можно предположить что имеется не только связь между браком и уровнем задолженности, а также связь между возрастом клиента и снижением доли просроченной задолженности. Причиной этого может быть более высокая ответственность и жизненный опыт таких людей.\n",
    "Сама выборка вдовцов /вдовы составляет 4,4% от всех категорий что может влиять на точность исследования.В данном случае имеет смысл разделить данные на две категории живущих в браке и нет, чтобы выборки были одинаковые по размеру."
   ]
  },
  {
   "cell_type": "markdown",
   "id": "f55d0547",
   "metadata": {
    "deletable": false,
    "editable": false,
    "id": "1e8b2fca"
   },
   "source": [
    "#### 3.3 Есть ли зависимость между уровнем дохода и возвратом кредита в срок?"
   ]
  },
  {
   "cell_type": "code",
   "execution_count": 41,
   "id": "dbf1fc63",
   "metadata": {
    "deletable": false,
    "id": "cd7e3720"
   },
   "outputs": [
    {
     "data": {
      "text/plain": [
       "total_income_category\n",
       "A    0.080000\n",
       "B    0.070602\n",
       "C    0.084982\n",
       "D    0.060172\n",
       "E    0.090909\n",
       "Name: debt, dtype: float64"
      ]
     },
     "execution_count": 41,
     "metadata": {},
     "output_type": "execute_result"
    }
   ],
   "source": [
    "income = data[['total_income_category','debt']]\n",
    "income_grouped = income.groupby('total_income_category')['debt'].sum()/income.groupby('total_income_category')['debt'].count()\n",
    "income_grouped\n",
    "# Ваш код будет здесь. Вы можете создавать новые ячейки."
   ]
  },
  {
   "cell_type": "code",
   "execution_count": 42,
   "id": "5c3cb8e7",
   "metadata": {},
   "outputs": [],
   "source": [
    "income_pivot=made_pivot(data,'total_income_category')"
   ]
  },
  {
   "cell_type": "code",
   "execution_count": 43,
   "id": "68904f40",
   "metadata": {},
   "outputs": [
    {
     "data": {
      "text/html": [
       "<div>\n",
       "<style scoped>\n",
       "    .dataframe tbody tr th:only-of-type {\n",
       "        vertical-align: middle;\n",
       "    }\n",
       "\n",
       "    .dataframe tbody tr th {\n",
       "        vertical-align: top;\n",
       "    }\n",
       "\n",
       "    .dataframe thead th {\n",
       "        text-align: right;\n",
       "    }\n",
       "</style>\n",
       "<table border=\"1\" class=\"dataframe\">\n",
       "  <thead>\n",
       "    <tr style=\"text-align: right;\">\n",
       "      <th></th>\n",
       "      <th>Количество кредитов</th>\n",
       "      <th>Доля должников</th>\n",
       "      <th>Число клиентов с просрочной по кредиту</th>\n",
       "      <th>Доля категории от числа всех клиентов</th>\n",
       "    </tr>\n",
       "    <tr>\n",
       "      <th>total_income_category</th>\n",
       "      <th></th>\n",
       "      <th></th>\n",
       "      <th></th>\n",
       "      <th></th>\n",
       "    </tr>\n",
       "  </thead>\n",
       "  <tbody>\n",
       "    <tr>\n",
       "      <th>A</th>\n",
       "      <td>25.0</td>\n",
       "      <td>0.080000</td>\n",
       "      <td>2.0</td>\n",
       "      <td>0.001172</td>\n",
       "    </tr>\n",
       "    <tr>\n",
       "      <th>B</th>\n",
       "      <td>5014.0</td>\n",
       "      <td>0.070602</td>\n",
       "      <td>354.0</td>\n",
       "      <td>0.235057</td>\n",
       "    </tr>\n",
       "    <tr>\n",
       "      <th>C</th>\n",
       "      <td>15921.0</td>\n",
       "      <td>0.084982</td>\n",
       "      <td>1353.0</td>\n",
       "      <td>0.746379</td>\n",
       "    </tr>\n",
       "    <tr>\n",
       "      <th>D</th>\n",
       "      <td>349.0</td>\n",
       "      <td>0.060172</td>\n",
       "      <td>21.0</td>\n",
       "      <td>0.016361</td>\n",
       "    </tr>\n",
       "    <tr>\n",
       "      <th>E</th>\n",
       "      <td>22.0</td>\n",
       "      <td>0.090909</td>\n",
       "      <td>2.0</td>\n",
       "      <td>0.001031</td>\n",
       "    </tr>\n",
       "  </tbody>\n",
       "</table>\n",
       "</div>"
      ],
      "text/plain": [
       "                       Количество кредитов  Доля должников  \\\n",
       "total_income_category                                        \n",
       "A                                     25.0        0.080000   \n",
       "B                                   5014.0        0.070602   \n",
       "C                                  15921.0        0.084982   \n",
       "D                                    349.0        0.060172   \n",
       "E                                     22.0        0.090909   \n",
       "\n",
       "                       Число клиентов с просрочной по кредиту  \\\n",
       "total_income_category                                           \n",
       "A                                                         2.0   \n",
       "B                                                       354.0   \n",
       "C                                                      1353.0   \n",
       "D                                                        21.0   \n",
       "E                                                         2.0   \n",
       "\n",
       "                       Доля категории от числа всех клиентов  \n",
       "total_income_category                                         \n",
       "A                                                   0.001172  \n",
       "B                                                   0.235057  \n",
       "C                                                   0.746379  \n",
       "D                                                   0.016361  \n",
       "E                                                   0.001031  "
      ]
     },
     "metadata": {},
     "output_type": "display_data"
    }
   ],
   "source": [
    "display(income_pivot)"
   ]
  },
  {
   "cell_type": "code",
   "execution_count": 44,
   "id": "31fb9448",
   "metadata": {},
   "outputs": [
    {
     "data": {
      "text/plain": [
       "C    0.746379\n",
       "B    0.235057\n",
       "D    0.016361\n",
       "A    0.001172\n",
       "E    0.001031\n",
       "Name: total_income_category, dtype: float64"
      ]
     },
     "execution_count": 44,
     "metadata": {},
     "output_type": "execute_result"
    }
   ],
   "source": [
    "data['total_income_category'].value_counts(normalize=True)"
   ]
  },
  {
   "cell_type": "code",
   "execution_count": 45,
   "id": "5f0fba9d",
   "metadata": {},
   "outputs": [
    {
     "data": {
      "text/plain": [
       "<AxesSubplot:xlabel='Категория дохода', ylabel='Доля просроченных кредитов'>"
      ]
     },
     "execution_count": 45,
     "metadata": {},
     "output_type": "execute_result"
    },
    {
     "data": {
      "image/png": "[encoded data removed]",
      "text/plain": [
       "<Figure size 504x216 with 1 Axes>"
      ]
     },
     "metadata": {
      "needs_background": "light"
     },
     "output_type": "display_data"
    }
   ],
   "source": [
    "income_grouped.plot(figsize=(7,3),xlabel= 'Категория дохода', ylabel= 'Доля просроченных кредитов')"
   ]
  },
  {
   "cell_type": "markdown",
   "id": "8bbb9dd8",
   "metadata": {
    "deletable": false,
    "id": "e8593def"
   },
   "source": [
    "**Вывод:** \n",
    "После изучения данных можно сделать вывод , что достаточно данных только для категорий B  и С , чтобы сделать обоснованные выводы. По данным этих категорий выявлено , что существует существенная зависимость между категорией дохода и уровнем просроченной задолженности. Так клиенты с более высоким доходом ( категория B) демонстрируют более низкий уровень просрочки по сравнению с категорией С.Причиной этого может быть то, что обладая более высоким доходом проще выплатить кредит. "
   ]
  },
  {
   "cell_type": "markdown",
   "id": "63d738ea",
   "metadata": {},
   "source": [
    "<div class=\"alert alert-info\">\n",
    "<b>Комментарий студента №5 Исправил выводы</b>"
   ]
  },
  {
   "cell_type": "markdown",
   "id": "40a1e09b",
   "metadata": {
    "deletable": false,
    "editable": false,
    "id": "99ecbd1f"
   },
   "source": [
    "#### 3.4 Как разные цели кредита влияют на его возврат в срок?"
   ]
  },
  {
   "cell_type": "code",
   "execution_count": 46,
   "id": "c2a9221d",
   "metadata": {
    "deletable": false,
    "id": "2b687290"
   },
   "outputs": [
    {
     "data": {
      "text/html": [
       "<div>\n",
       "<style scoped>\n",
       "    .dataframe tbody tr th:only-of-type {\n",
       "        vertical-align: middle;\n",
       "    }\n",
       "\n",
       "    .dataframe tbody tr th {\n",
       "        vertical-align: top;\n",
       "    }\n",
       "\n",
       "    .dataframe thead th {\n",
       "        text-align: right;\n",
       "    }\n",
       "</style>\n",
       "<table border=\"1\" class=\"dataframe\">\n",
       "  <thead>\n",
       "    <tr style=\"text-align: right;\">\n",
       "      <th></th>\n",
       "      <th>children</th>\n",
       "      <th>days_employed</th>\n",
       "      <th>dob_years</th>\n",
       "      <th>education</th>\n",
       "      <th>education_id</th>\n",
       "      <th>family_status</th>\n",
       "      <th>family_status_id</th>\n",
       "      <th>gender</th>\n",
       "      <th>income_type</th>\n",
       "      <th>debt</th>\n",
       "      <th>total_income</th>\n",
       "      <th>purpose</th>\n",
       "      <th>total_income_category</th>\n",
       "      <th>purpose_category</th>\n",
       "    </tr>\n",
       "  </thead>\n",
       "  <tbody>\n",
       "    <tr>\n",
       "      <th>0</th>\n",
       "      <td>1</td>\n",
       "      <td>8437.673028</td>\n",
       "      <td>42</td>\n",
       "      <td>высшее</td>\n",
       "      <td>0</td>\n",
       "      <td>женат / замужем</td>\n",
       "      <td>0</td>\n",
       "      <td>F</td>\n",
       "      <td>сотрудник</td>\n",
       "      <td>0</td>\n",
       "      <td>253875</td>\n",
       "      <td>покупка жилья</td>\n",
       "      <td>B</td>\n",
       "      <td>операции с недвижимостью</td>\n",
       "    </tr>\n",
       "    <tr>\n",
       "      <th>1</th>\n",
       "      <td>1</td>\n",
       "      <td>4024.803754</td>\n",
       "      <td>36</td>\n",
       "      <td>среднее</td>\n",
       "      <td>1</td>\n",
       "      <td>женат / замужем</td>\n",
       "      <td>0</td>\n",
       "      <td>F</td>\n",
       "      <td>сотрудник</td>\n",
       "      <td>0</td>\n",
       "      <td>112080</td>\n",
       "      <td>приобретение автомобиля</td>\n",
       "      <td>C</td>\n",
       "      <td>операции с автомобилем</td>\n",
       "    </tr>\n",
       "    <tr>\n",
       "      <th>2</th>\n",
       "      <td>0</td>\n",
       "      <td>5623.422610</td>\n",
       "      <td>33</td>\n",
       "      <td>среднее</td>\n",
       "      <td>1</td>\n",
       "      <td>женат / замужем</td>\n",
       "      <td>0</td>\n",
       "      <td>M</td>\n",
       "      <td>сотрудник</td>\n",
       "      <td>0</td>\n",
       "      <td>145885</td>\n",
       "      <td>покупка жилья</td>\n",
       "      <td>C</td>\n",
       "      <td>операции с недвижимостью</td>\n",
       "    </tr>\n",
       "    <tr>\n",
       "      <th>3</th>\n",
       "      <td>3</td>\n",
       "      <td>4124.747207</td>\n",
       "      <td>32</td>\n",
       "      <td>среднее</td>\n",
       "      <td>1</td>\n",
       "      <td>женат / замужем</td>\n",
       "      <td>0</td>\n",
       "      <td>M</td>\n",
       "      <td>сотрудник</td>\n",
       "      <td>0</td>\n",
       "      <td>267628</td>\n",
       "      <td>дополнительное образование</td>\n",
       "      <td>B</td>\n",
       "      <td>получение образования</td>\n",
       "    </tr>\n",
       "    <tr>\n",
       "      <th>4</th>\n",
       "      <td>0</td>\n",
       "      <td>340266.072047</td>\n",
       "      <td>53</td>\n",
       "      <td>среднее</td>\n",
       "      <td>1</td>\n",
       "      <td>гражданский брак</td>\n",
       "      <td>1</td>\n",
       "      <td>F</td>\n",
       "      <td>пенсионер</td>\n",
       "      <td>0</td>\n",
       "      <td>158616</td>\n",
       "      <td>сыграть свадьбу</td>\n",
       "      <td>C</td>\n",
       "      <td>проведение свадьбы</td>\n",
       "    </tr>\n",
       "    <tr>\n",
       "      <th>5</th>\n",
       "      <td>0</td>\n",
       "      <td>926.185831</td>\n",
       "      <td>27</td>\n",
       "      <td>высшее</td>\n",
       "      <td>0</td>\n",
       "      <td>гражданский брак</td>\n",
       "      <td>1</td>\n",
       "      <td>M</td>\n",
       "      <td>компаньон</td>\n",
       "      <td>0</td>\n",
       "      <td>255763</td>\n",
       "      <td>покупка жилья</td>\n",
       "      <td>B</td>\n",
       "      <td>операции с недвижимостью</td>\n",
       "    </tr>\n",
       "    <tr>\n",
       "      <th>6</th>\n",
       "      <td>0</td>\n",
       "      <td>2879.202052</td>\n",
       "      <td>43</td>\n",
       "      <td>высшее</td>\n",
       "      <td>0</td>\n",
       "      <td>женат / замужем</td>\n",
       "      <td>0</td>\n",
       "      <td>F</td>\n",
       "      <td>компаньон</td>\n",
       "      <td>0</td>\n",
       "      <td>240525</td>\n",
       "      <td>операции с жильем</td>\n",
       "      <td>B</td>\n",
       "      <td>операции с недвижимостью</td>\n",
       "    </tr>\n",
       "    <tr>\n",
       "      <th>7</th>\n",
       "      <td>0</td>\n",
       "      <td>152.779569</td>\n",
       "      <td>50</td>\n",
       "      <td>среднее</td>\n",
       "      <td>1</td>\n",
       "      <td>женат / замужем</td>\n",
       "      <td>0</td>\n",
       "      <td>M</td>\n",
       "      <td>сотрудник</td>\n",
       "      <td>0</td>\n",
       "      <td>135823</td>\n",
       "      <td>образование</td>\n",
       "      <td>C</td>\n",
       "      <td>получение образования</td>\n",
       "    </tr>\n",
       "    <tr>\n",
       "      <th>8</th>\n",
       "      <td>2</td>\n",
       "      <td>6929.865299</td>\n",
       "      <td>35</td>\n",
       "      <td>высшее</td>\n",
       "      <td>0</td>\n",
       "      <td>гражданский брак</td>\n",
       "      <td>1</td>\n",
       "      <td>F</td>\n",
       "      <td>сотрудник</td>\n",
       "      <td>0</td>\n",
       "      <td>95856</td>\n",
       "      <td>на проведение свадьбы</td>\n",
       "      <td>C</td>\n",
       "      <td>проведение свадьбы</td>\n",
       "    </tr>\n",
       "    <tr>\n",
       "      <th>9</th>\n",
       "      <td>0</td>\n",
       "      <td>2188.756445</td>\n",
       "      <td>41</td>\n",
       "      <td>среднее</td>\n",
       "      <td>1</td>\n",
       "      <td>женат / замужем</td>\n",
       "      <td>0</td>\n",
       "      <td>M</td>\n",
       "      <td>сотрудник</td>\n",
       "      <td>0</td>\n",
       "      <td>144425</td>\n",
       "      <td>покупка жилья для семьи</td>\n",
       "      <td>C</td>\n",
       "      <td>операции с недвижимостью</td>\n",
       "    </tr>\n",
       "    <tr>\n",
       "      <th>10</th>\n",
       "      <td>2</td>\n",
       "      <td>4171.483647</td>\n",
       "      <td>36</td>\n",
       "      <td>высшее</td>\n",
       "      <td>0</td>\n",
       "      <td>женат / замужем</td>\n",
       "      <td>0</td>\n",
       "      <td>M</td>\n",
       "      <td>компаньон</td>\n",
       "      <td>0</td>\n",
       "      <td>113943</td>\n",
       "      <td>покупка недвижимости</td>\n",
       "      <td>C</td>\n",
       "      <td>операции с недвижимостью</td>\n",
       "    </tr>\n",
       "    <tr>\n",
       "      <th>11</th>\n",
       "      <td>0</td>\n",
       "      <td>792.701887</td>\n",
       "      <td>40</td>\n",
       "      <td>среднее</td>\n",
       "      <td>1</td>\n",
       "      <td>женат / замужем</td>\n",
       "      <td>0</td>\n",
       "      <td>F</td>\n",
       "      <td>сотрудник</td>\n",
       "      <td>0</td>\n",
       "      <td>77069</td>\n",
       "      <td>покупка коммерческой недвижимости</td>\n",
       "      <td>C</td>\n",
       "      <td>операции с недвижимостью</td>\n",
       "    </tr>\n",
       "    <tr>\n",
       "      <th>12</th>\n",
       "      <td>0</td>\n",
       "      <td>365286.622650</td>\n",
       "      <td>65</td>\n",
       "      <td>среднее</td>\n",
       "      <td>1</td>\n",
       "      <td>гражданский брак</td>\n",
       "      <td>1</td>\n",
       "      <td>M</td>\n",
       "      <td>пенсионер</td>\n",
       "      <td>0</td>\n",
       "      <td>118514</td>\n",
       "      <td>сыграть свадьбу</td>\n",
       "      <td>C</td>\n",
       "      <td>проведение свадьбы</td>\n",
       "    </tr>\n",
       "    <tr>\n",
       "      <th>13</th>\n",
       "      <td>0</td>\n",
       "      <td>1846.641941</td>\n",
       "      <td>54</td>\n",
       "      <td>неоконченное высшее</td>\n",
       "      <td>2</td>\n",
       "      <td>женат / замужем</td>\n",
       "      <td>0</td>\n",
       "      <td>F</td>\n",
       "      <td>сотрудник</td>\n",
       "      <td>0</td>\n",
       "      <td>130458</td>\n",
       "      <td>приобретение автомобиля</td>\n",
       "      <td>C</td>\n",
       "      <td>операции с автомобилем</td>\n",
       "    </tr>\n",
       "    <tr>\n",
       "      <th>14</th>\n",
       "      <td>0</td>\n",
       "      <td>1844.956182</td>\n",
       "      <td>56</td>\n",
       "      <td>высшее</td>\n",
       "      <td>0</td>\n",
       "      <td>гражданский брак</td>\n",
       "      <td>1</td>\n",
       "      <td>F</td>\n",
       "      <td>компаньон</td>\n",
       "      <td>1</td>\n",
       "      <td>165127</td>\n",
       "      <td>покупка жилой недвижимости</td>\n",
       "      <td>C</td>\n",
       "      <td>операции с недвижимостью</td>\n",
       "    </tr>\n",
       "    <tr>\n",
       "      <th>15</th>\n",
       "      <td>1</td>\n",
       "      <td>972.364419</td>\n",
       "      <td>26</td>\n",
       "      <td>среднее</td>\n",
       "      <td>1</td>\n",
       "      <td>женат / замужем</td>\n",
       "      <td>0</td>\n",
       "      <td>F</td>\n",
       "      <td>сотрудник</td>\n",
       "      <td>0</td>\n",
       "      <td>116820</td>\n",
       "      <td>строительство собственной недвижимости</td>\n",
       "      <td>C</td>\n",
       "      <td>операции с недвижимостью</td>\n",
       "    </tr>\n",
       "    <tr>\n",
       "      <th>16</th>\n",
       "      <td>0</td>\n",
       "      <td>1719.934226</td>\n",
       "      <td>35</td>\n",
       "      <td>среднее</td>\n",
       "      <td>1</td>\n",
       "      <td>женат / замужем</td>\n",
       "      <td>0</td>\n",
       "      <td>F</td>\n",
       "      <td>сотрудник</td>\n",
       "      <td>0</td>\n",
       "      <td>289202</td>\n",
       "      <td>недвижимость</td>\n",
       "      <td>B</td>\n",
       "      <td>операции с недвижимостью</td>\n",
       "    </tr>\n",
       "    <tr>\n",
       "      <th>17</th>\n",
       "      <td>0</td>\n",
       "      <td>2369.999720</td>\n",
       "      <td>33</td>\n",
       "      <td>высшее</td>\n",
       "      <td>0</td>\n",
       "      <td>гражданский брак</td>\n",
       "      <td>1</td>\n",
       "      <td>M</td>\n",
       "      <td>сотрудник</td>\n",
       "      <td>0</td>\n",
       "      <td>90410</td>\n",
       "      <td>строительство недвижимости</td>\n",
       "      <td>C</td>\n",
       "      <td>операции с недвижимостью</td>\n",
       "    </tr>\n",
       "    <tr>\n",
       "      <th>18</th>\n",
       "      <td>0</td>\n",
       "      <td>400281.136913</td>\n",
       "      <td>53</td>\n",
       "      <td>среднее</td>\n",
       "      <td>1</td>\n",
       "      <td>вдовец / вдова</td>\n",
       "      <td>2</td>\n",
       "      <td>F</td>\n",
       "      <td>пенсионер</td>\n",
       "      <td>0</td>\n",
       "      <td>56823</td>\n",
       "      <td>на покупку подержанного автомобиля</td>\n",
       "      <td>C</td>\n",
       "      <td>операции с автомобилем</td>\n",
       "    </tr>\n",
       "    <tr>\n",
       "      <th>19</th>\n",
       "      <td>0</td>\n",
       "      <td>10038.818549</td>\n",
       "      <td>48</td>\n",
       "      <td>среднее</td>\n",
       "      <td>1</td>\n",
       "      <td>в разводе</td>\n",
       "      <td>3</td>\n",
       "      <td>F</td>\n",
       "      <td>сотрудник</td>\n",
       "      <td>0</td>\n",
       "      <td>242831</td>\n",
       "      <td>на покупку своего автомобиля</td>\n",
       "      <td>B</td>\n",
       "      <td>операции с автомобилем</td>\n",
       "    </tr>\n",
       "  </tbody>\n",
       "</table>\n",
       "</div>"
      ],
      "text/plain": [
       "    children  days_employed  dob_years            education  education_id  \\\n",
       "0          1    8437.673028         42               высшее             0   \n",
       "1          1    4024.803754         36              среднее             1   \n",
       "2          0    5623.422610         33              среднее             1   \n",
       "3          3    4124.747207         32              среднее             1   \n",
       "4          0  340266.072047         53              среднее             1   \n",
       "5          0     926.185831         27               высшее             0   \n",
       "6          0    2879.202052         43               высшее             0   \n",
       "7          0     152.779569         50              среднее             1   \n",
       "8          2    6929.865299         35               высшее             0   \n",
       "9          0    2188.756445         41              среднее             1   \n",
       "10         2    4171.483647         36               высшее             0   \n",
       "11         0     792.701887         40              среднее             1   \n",
       "12         0  365286.622650         65              среднее             1   \n",
       "13         0    1846.641941         54  неоконченное высшее             2   \n",
       "14         0    1844.956182         56               высшее             0   \n",
       "15         1     972.364419         26              среднее             1   \n",
       "16         0    1719.934226         35              среднее             1   \n",
       "17         0    2369.999720         33               высшее             0   \n",
       "18         0  400281.136913         53              среднее             1   \n",
       "19         0   10038.818549         48              среднее             1   \n",
       "\n",
       "       family_status  family_status_id gender income_type  debt  total_income  \\\n",
       "0    женат / замужем                 0      F   сотрудник     0        253875   \n",
       "1    женат / замужем                 0      F   сотрудник     0        112080   \n",
       "2    женат / замужем                 0      M   сотрудник     0        145885   \n",
       "3    женат / замужем                 0      M   сотрудник     0        267628   \n",
       "4   гражданский брак                 1      F   пенсионер     0        158616   \n",
       "5   гражданский брак                 1      M   компаньон     0        255763   \n",
       "6    женат / замужем                 0      F   компаньон     0        240525   \n",
       "7    женат / замужем                 0      M   сотрудник     0        135823   \n",
       "8   гражданский брак                 1      F   сотрудник     0         95856   \n",
       "9    женат / замужем                 0      M   сотрудник     0        144425   \n",
       "10   женат / замужем                 0      M   компаньон     0        113943   \n",
       "11   женат / замужем                 0      F   сотрудник     0         77069   \n",
       "12  гражданский брак                 1      M   пенсионер     0        118514   \n",
       "13   женат / замужем                 0      F   сотрудник     0        130458   \n",
       "14  гражданский брак                 1      F   компаньон     1        165127   \n",
       "15   женат / замужем                 0      F   сотрудник     0        116820   \n",
       "16   женат / замужем                 0      F   сотрудник     0        289202   \n",
       "17  гражданский брак                 1      M   сотрудник     0         90410   \n",
       "18    вдовец / вдова                 2      F   пенсионер     0         56823   \n",
       "19         в разводе                 3      F   сотрудник     0        242831   \n",
       "\n",
       "                                   purpose total_income_category  \\\n",
       "0                            покупка жилья                     B   \n",
       "1                  приобретение автомобиля                     C   \n",
       "2                            покупка жилья                     C   \n",
       "3               дополнительное образование                     B   \n",
       "4                          сыграть свадьбу                     C   \n",
       "5                            покупка жилья                     B   \n",
       "6                        операции с жильем                     B   \n",
       "7                              образование                     C   \n",
       "8                    на проведение свадьбы                     C   \n",
       "9                  покупка жилья для семьи                     C   \n",
       "10                    покупка недвижимости                     C   \n",
       "11       покупка коммерческой недвижимости                     C   \n",
       "12                         сыграть свадьбу                     C   \n",
       "13                 приобретение автомобиля                     C   \n",
       "14              покупка жилой недвижимости                     C   \n",
       "15  строительство собственной недвижимости                     C   \n",
       "16                            недвижимость                     B   \n",
       "17              строительство недвижимости                     C   \n",
       "18      на покупку подержанного автомобиля                     C   \n",
       "19            на покупку своего автомобиля                     B   \n",
       "\n",
       "            purpose_category  \n",
       "0   операции с недвижимостью  \n",
       "1     операции с автомобилем  \n",
       "2   операции с недвижимостью  \n",
       "3      получение образования  \n",
       "4         проведение свадьбы  \n",
       "5   операции с недвижимостью  \n",
       "6   операции с недвижимостью  \n",
       "7      получение образования  \n",
       "8         проведение свадьбы  \n",
       "9   операции с недвижимостью  \n",
       "10  операции с недвижимостью  \n",
       "11  операции с недвижимостью  \n",
       "12        проведение свадьбы  \n",
       "13    операции с автомобилем  \n",
       "14  операции с недвижимостью  \n",
       "15  операции с недвижимостью  \n",
       "16  операции с недвижимостью  \n",
       "17  операции с недвижимостью  \n",
       "18    операции с автомобилем  \n",
       "19    операции с автомобилем  "
      ]
     },
     "execution_count": 46,
     "metadata": {},
     "output_type": "execute_result"
    }
   ],
   "source": [
    "data.columns\n",
    "data.head(20)\n",
    "# Ваш код будет здесь. Вы можете создавать новые ячейки."
   ]
  },
  {
   "cell_type": "code",
   "execution_count": 47,
   "id": "7fdc95a7",
   "metadata": {},
   "outputs": [
    {
     "data": {
      "text/plain": [
       "purpose_category\n",
       "операции с автомобилем      0.093480\n",
       "операции с недвижимостью    0.072551\n",
       "получение образования       0.092528\n",
       "проведение свадьбы          0.079118\n",
       "Name: debt, dtype: float64"
      ]
     },
     "execution_count": 47,
     "metadata": {},
     "output_type": "execute_result"
    }
   ],
   "source": [
    "target=data[['purpose_category','debt']]\n",
    "target_grouped = target.groupby('purpose_category')['debt'].sum()/target.groupby('purpose_category')['debt'].count()\n",
    "target_grouped"
   ]
  },
  {
   "cell_type": "code",
   "execution_count": 48,
   "id": "1d1e69c9",
   "metadata": {},
   "outputs": [],
   "source": [
    "target_pivot=made_pivot(data,'purpose_category')"
   ]
  },
  {
   "cell_type": "code",
   "execution_count": 49,
   "id": "27f34ed3",
   "metadata": {},
   "outputs": [
    {
     "data": {
      "text/html": [
       "<div>\n",
       "<style scoped>\n",
       "    .dataframe tbody tr th:only-of-type {\n",
       "        vertical-align: middle;\n",
       "    }\n",
       "\n",
       "    .dataframe tbody tr th {\n",
       "        vertical-align: top;\n",
       "    }\n",
       "\n",
       "    .dataframe thead th {\n",
       "        text-align: right;\n",
       "    }\n",
       "</style>\n",
       "<table border=\"1\" class=\"dataframe\">\n",
       "  <thead>\n",
       "    <tr style=\"text-align: right;\">\n",
       "      <th></th>\n",
       "      <th>Количество кредитов</th>\n",
       "      <th>Доля должников</th>\n",
       "      <th>Число клиентов с просрочной по кредиту</th>\n",
       "      <th>Доля категории от числа всех клиентов</th>\n",
       "    </tr>\n",
       "    <tr>\n",
       "      <th>purpose_category</th>\n",
       "      <th></th>\n",
       "      <th></th>\n",
       "      <th></th>\n",
       "      <th></th>\n",
       "    </tr>\n",
       "  </thead>\n",
       "  <tbody>\n",
       "    <tr>\n",
       "      <th>операции с автомобилем</th>\n",
       "      <td>4279.0</td>\n",
       "      <td>0.093480</td>\n",
       "      <td>400.0</td>\n",
       "      <td>0.200600</td>\n",
       "    </tr>\n",
       "    <tr>\n",
       "      <th>операции с недвижимостью</th>\n",
       "      <td>10751.0</td>\n",
       "      <td>0.072551</td>\n",
       "      <td>780.0</td>\n",
       "      <td>0.504008</td>\n",
       "    </tr>\n",
       "    <tr>\n",
       "      <th>получение образования</th>\n",
       "      <td>3988.0</td>\n",
       "      <td>0.092528</td>\n",
       "      <td>369.0</td>\n",
       "      <td>0.186958</td>\n",
       "    </tr>\n",
       "    <tr>\n",
       "      <th>проведение свадьбы</th>\n",
       "      <td>2313.0</td>\n",
       "      <td>0.079118</td>\n",
       "      <td>183.0</td>\n",
       "      <td>0.108434</td>\n",
       "    </tr>\n",
       "  </tbody>\n",
       "</table>\n",
       "</div>"
      ],
      "text/plain": [
       "                          Количество кредитов  Доля должников  \\\n",
       "purpose_category                                                \n",
       "операции с автомобилем                 4279.0        0.093480   \n",
       "операции с недвижимостью              10751.0        0.072551   \n",
       "получение образования                  3988.0        0.092528   \n",
       "проведение свадьбы                     2313.0        0.079118   \n",
       "\n",
       "                          Число клиентов с просрочной по кредиту  \\\n",
       "purpose_category                                                   \n",
       "операции с автомобилем                                     400.0   \n",
       "операции с недвижимостью                                   780.0   \n",
       "получение образования                                      369.0   \n",
       "проведение свадьбы                                         183.0   \n",
       "\n",
       "                          Доля категории от числа всех клиентов  \n",
       "purpose_category                                                 \n",
       "операции с автомобилем                                 0.200600  \n",
       "операции с недвижимостью                               0.504008  \n",
       "получение образования                                  0.186958  \n",
       "проведение свадьбы                                     0.108434  "
      ]
     },
     "metadata": {},
     "output_type": "display_data"
    }
   ],
   "source": [
    "display(target_pivot)"
   ]
  },
  {
   "cell_type": "code",
   "execution_count": 50,
   "id": "5f9a1b60",
   "metadata": {},
   "outputs": [
    {
     "data": {
      "text/plain": [
       "операции с недвижимостью    0.504008\n",
       "операции с автомобилем      0.200600\n",
       "получение образования       0.186958\n",
       "проведение свадьбы          0.108434\n",
       "Name: purpose_category, dtype: float64"
      ]
     },
     "execution_count": 50,
     "metadata": {},
     "output_type": "execute_result"
    }
   ],
   "source": [
    "data['purpose_category'].value_counts(normalize=True)"
   ]
  },
  {
   "cell_type": "code",
   "execution_count": 51,
   "id": "983ce6c8",
   "metadata": {},
   "outputs": [
    {
     "data": {
      "text/plain": [
       "<AxesSubplot:xlabel='purpose', ylabel='Доля просроченных кредитов'>"
      ]
     },
     "execution_count": 51,
     "metadata": {},
     "output_type": "execute_result"
    },
    {
     "data": {
      "image/png": "[encoded data removed]",
      "text/plain": [
       "<Figure size 648x216 with 1 Axes>"
      ]
     },
     "metadata": {
      "needs_background": "light"
     },
     "output_type": "display_data"
    }
   ],
   "source": [
    "target_grouped.plot(figsize=(9,3),xlabel= 'purpose', ylabel= 'Доля просроченных кредитов')"
   ]
  },
  {
   "cell_type": "markdown",
   "id": "ffaca7d5",
   "metadata": {
    "deletable": false,
    "id": "b4bb2ce6"
   },
   "source": [
    "**Вывод:** Существует зависимость возврата кредита в срок с категорией цели кредита. Самые безопасные для банка категории это операции с недвижимостью и проведение свадьбы. Категории представлены неравномерно но в целом имеют достаточную выборку."
   ]
  },
  {
   "cell_type": "markdown",
   "id": "4e6821e3",
   "metadata": {
    "deletable": false,
    "editable": false,
    "id": "09c3ac4c"
   },
   "source": [
    "#### 3.5 Приведите возможные причины появления пропусков в исходных данных."
   ]
  },
  {
   "cell_type": "markdown",
   "id": "3e84a92c",
   "metadata": {
    "deletable": false,
    "id": "9da2ceda"
   },
   "source": [
    "*Ответ:* \n",
    "Проанализировав пропуски можно сделать вывод что, корреляция пропусков в столбцах total_income и days_employed сто процентов. То есть пропуски данных встречаются одновременно в этих двух столбцах. Также можно сделать вывод что эти пропуски  не связаны с другими столбцами.Причиной пропусков может быть человеческий фактор так клиенты могли совершить пропуски в заполнении данных , или не хотели  давать данную информацию.Кроме того, возможно ошибка была на этапе выгрузки данных - например ошибка при обьединении таблиц. "
   ]
  },
  {
   "cell_type": "markdown",
   "id": "ef82a2b0",
   "metadata": {
    "deletable": false,
    "editable": false,
    "id": "7b0487d6"
   },
   "source": [
    "#### 3.6 Объясните, почему заполнить пропуски медианным значением — лучшее решение для количественных переменных."
   ]
  },
  {
   "cell_type": "markdown",
   "id": "cba410a1",
   "metadata": {
    "deletable": false,
    "id": "7ecf2b8e"
   },
   "source": [
    "*Ответ:*  Медианное значение лучше всего отражает выборку в целом, в случае, если есть незаполненные данные. Среднее арифметическое отражает ситуацию некорректно, так как выбросы в данных могут значительно искажать среднее арифметическое , и при заполнении пропусков этим значением данные искажаются\n"
   ]
  },
  {
   "cell_type": "markdown",
   "id": "bd606471",
   "metadata": {
    "deletable": false,
    "editable": false,
    "id": "6db5255a"
   },
   "source": [
    "### Шаг 4: общий вывод."
   ]
  },
  {
   "cell_type": "markdown",
   "id": "eb1627cd",
   "metadata": {
    "deletable": false,
    "id": "bad65432"
   },
   "source": [
    "В ходе проведенного исследования были обнаружены пропуски в столбцах days_employed и total_income.  Пропуски в total_income были заполнены медианным значением по каждому типу из столбца income_type. Также были обнаружены и исправлены аномалии в столбце days_, employed- например, отрицательные значения. Также были исправлены аномальные значения в столбце children Причиной этих аномалий скорее всего был человеческий фактор, а именно ошибки или при заполнении, или при вычислении значений с помощью формул. Также в ходе исследования были найдены и исправлены явные и неявные дубликаты. После этого была проведена категоризация столбцов total_income_category и purpose_category. Наконец были построены сводные таблицы для каждой зависимости. После чего были выявлено что с увеличением числа детей у заемщиков растет вероятность просрочки по кредиту. Также выявлено, что наличия брака в настоящем или прошлом клиентов повышает вероятность что кредит будет отдан в срок. Кроме того, выявлено что с увеличением дохода вероятность отдачи кредита в срок также увеличивается. И наконец выявлено, что наибольшая вероятность отдачи кредита в срок у кредита на недвижимость, а самая низкая вероятность отдачи кредита у кредитов на автомобиль и кредитов на образование.\n",
    " Таким образом банку необходимо относится с осторожностью к клиентам, не вступавшим в брак, имеющим низкий доход и также берущим кредит на получение образования или на автомобиль. Предпочтения для выдачи кредита — это клиенты берущие ипотечный кредит, обладающие средним или высоким доходом, а также не имеющие детей \n"
   ]
  }
 ],
 "metadata": {
  "ExecuteTimeLog": [
   {
    "duration": 517,
    "start_time": "2023-06-29T11:12:38.543Z"
   },
   {
    "duration": 25,
    "start_time": "2023-06-29T11:12:39.062Z"
   },
   {
    "duration": 16,
    "start_time": "2023-06-29T11:12:39.088Z"
   },
   {
    "duration": 22,
    "start_time": "2023-06-29T11:12:39.106Z"
   },
   {
    "duration": 52,
    "start_time": "2023-06-29T11:12:39.130Z"
   },
   {
    "duration": 4,
    "start_time": "2023-06-29T11:12:39.183Z"
   },
   {
    "duration": 26,
    "start_time": "2023-06-29T11:12:39.188Z"
   },
   {
    "duration": 18,
    "start_time": "2023-06-29T11:12:39.216Z"
   },
   {
    "duration": 259,
    "start_time": "2023-06-29T11:12:39.236Z"
   },
   {
    "duration": 20,
    "start_time": "2023-06-29T11:12:39.499Z"
   },
   {
    "duration": 49,
    "start_time": "2023-06-29T11:12:39.520Z"
   },
   {
    "duration": 10,
    "start_time": "2023-06-29T11:12:39.570Z"
   },
   {
    "duration": 6,
    "start_time": "2023-06-29T11:12:39.582Z"
   },
   {
    "duration": 19,
    "start_time": "2023-06-29T11:12:39.589Z"
   },
   {
    "duration": 44,
    "start_time": "2023-06-29T11:12:39.611Z"
   },
   {
    "duration": 18,
    "start_time": "2023-06-29T11:12:39.657Z"
   },
   {
    "duration": 4,
    "start_time": "2023-06-29T11:12:39.676Z"
   },
   {
    "duration": 16,
    "start_time": "2023-06-29T11:12:39.681Z"
   },
   {
    "duration": 10,
    "start_time": "2023-06-29T11:12:39.698Z"
   },
   {
    "duration": 6,
    "start_time": "2023-06-29T11:12:39.709Z"
   },
   {
    "duration": 19,
    "start_time": "2023-06-29T11:12:39.716Z"
   },
   {
    "duration": 3,
    "start_time": "2023-06-29T11:12:39.754Z"
   },
   {
    "duration": 22,
    "start_time": "2023-06-29T11:12:39.758Z"
   },
   {
    "duration": 15,
    "start_time": "2023-06-29T11:12:39.781Z"
   },
   {
    "duration": 14,
    "start_time": "2023-06-29T11:12:39.798Z"
   },
   {
    "duration": 70,
    "start_time": "2023-06-29T11:19:38.653Z"
   },
   {
    "duration": 21,
    "start_time": "2023-06-29T11:19:45.700Z"
   },
   {
    "duration": 14,
    "start_time": "2023-06-29T11:20:36.687Z"
   },
   {
    "duration": 11,
    "start_time": "2023-06-29T11:20:59.788Z"
   },
   {
    "duration": 15,
    "start_time": "2023-06-29T11:24:39.329Z"
   },
   {
    "duration": 11,
    "start_time": "2023-06-29T11:31:36.021Z"
   },
   {
    "duration": 2,
    "start_time": "2023-06-29T11:31:37.391Z"
   },
   {
    "duration": 18,
    "start_time": "2023-06-29T11:31:40.931Z"
   },
   {
    "duration": 7,
    "start_time": "2023-06-29T11:32:33.931Z"
   },
   {
    "duration": 21,
    "start_time": "2023-06-29T11:32:48.087Z"
   },
   {
    "duration": 4,
    "start_time": "2023-06-29T11:33:13.357Z"
   },
   {
    "duration": 14,
    "start_time": "2023-06-29T11:33:21.602Z"
   },
   {
    "duration": 11,
    "start_time": "2023-06-29T11:33:32.349Z"
   },
   {
    "duration": 9,
    "start_time": "2023-06-29T11:34:07.389Z"
   },
   {
    "duration": 8,
    "start_time": "2023-06-29T11:34:17.071Z"
   },
   {
    "duration": 16,
    "start_time": "2023-06-29T11:36:17.394Z"
   },
   {
    "duration": 15,
    "start_time": "2023-06-29T11:36:26.115Z"
   },
   {
    "duration": 17,
    "start_time": "2023-06-29T11:36:54.595Z"
   },
   {
    "duration": 972,
    "start_time": "2023-06-29T12:08:58.032Z"
   },
   {
    "duration": 8,
    "start_time": "2023-06-29T12:09:11.291Z"
   },
   {
    "duration": 0,
    "start_time": "2023-06-29T12:09:30.848Z"
   },
   {
    "duration": 24,
    "start_time": "2023-06-29T12:10:38.204Z"
   },
   {
    "duration": 13,
    "start_time": "2023-06-29T12:10:54.688Z"
   },
   {
    "duration": 20,
    "start_time": "2023-06-29T12:11:03.372Z"
   },
   {
    "duration": 651,
    "start_time": "2023-06-29T12:12:24.099Z"
   },
   {
    "duration": 182,
    "start_time": "2023-06-29T12:12:45.351Z"
   },
   {
    "duration": 172,
    "start_time": "2023-06-29T12:12:57.964Z"
   },
   {
    "duration": 86,
    "start_time": "2023-06-29T12:13:07.641Z"
   },
   {
    "duration": 176,
    "start_time": "2023-06-29T12:13:17.095Z"
   },
   {
    "duration": 22,
    "start_time": "2023-06-29T12:14:17.507Z"
   },
   {
    "duration": 17,
    "start_time": "2023-06-29T12:14:32.023Z"
   },
   {
    "duration": 21,
    "start_time": "2023-06-29T12:14:40.893Z"
   },
   {
    "duration": 16,
    "start_time": "2023-06-29T12:14:53.229Z"
   },
   {
    "duration": 752,
    "start_time": "2023-06-29T12:15:12.784Z"
   },
   {
    "duration": 30,
    "start_time": "2023-06-29T12:15:13.537Z"
   },
   {
    "duration": 36,
    "start_time": "2023-06-29T12:15:13.570Z"
   },
   {
    "duration": 15,
    "start_time": "2023-06-29T12:15:13.610Z"
   },
   {
    "duration": 49,
    "start_time": "2023-06-29T12:15:13.627Z"
   },
   {
    "duration": 4,
    "start_time": "2023-06-29T12:15:13.678Z"
   },
   {
    "duration": 31,
    "start_time": "2023-06-29T12:15:13.683Z"
   },
   {
    "duration": 16,
    "start_time": "2023-06-29T12:15:13.716Z"
   },
   {
    "duration": 31,
    "start_time": "2023-06-29T12:15:13.733Z"
   },
   {
    "duration": 17,
    "start_time": "2023-06-29T12:15:13.767Z"
   },
   {
    "duration": 81,
    "start_time": "2023-06-29T12:15:13.787Z"
   },
   {
    "duration": 13,
    "start_time": "2023-06-29T12:15:13.870Z"
   },
   {
    "duration": 28,
    "start_time": "2023-06-29T12:15:13.885Z"
   },
   {
    "duration": 31,
    "start_time": "2023-06-29T12:15:13.916Z"
   },
   {
    "duration": 58,
    "start_time": "2023-06-29T12:15:13.950Z"
   },
   {
    "duration": 19,
    "start_time": "2023-06-29T12:15:14.010Z"
   },
   {
    "duration": 5,
    "start_time": "2023-06-29T12:15:14.030Z"
   },
   {
    "duration": 47,
    "start_time": "2023-06-29T12:15:14.037Z"
   },
   {
    "duration": 31,
    "start_time": "2023-06-29T12:15:14.085Z"
   },
   {
    "duration": 20,
    "start_time": "2023-06-29T12:15:14.118Z"
   },
   {
    "duration": 19,
    "start_time": "2023-06-29T12:15:14.141Z"
   },
   {
    "duration": 41,
    "start_time": "2023-06-29T12:15:14.162Z"
   },
   {
    "duration": 203,
    "start_time": "2023-06-29T12:15:14.205Z"
   },
   {
    "duration": 10,
    "start_time": "2023-06-29T12:15:14.410Z"
   },
   {
    "duration": 17,
    "start_time": "2023-06-29T12:15:14.422Z"
   },
   {
    "duration": 23,
    "start_time": "2023-06-29T12:15:14.441Z"
   },
   {
    "duration": 16,
    "start_time": "2023-06-29T12:15:14.466Z"
   },
   {
    "duration": 16,
    "start_time": "2023-06-29T12:15:14.486Z"
   },
   {
    "duration": 82,
    "start_time": "2023-06-29T12:18:10.638Z"
   },
   {
    "duration": 16,
    "start_time": "2023-06-29T12:18:17.465Z"
   },
   {
    "duration": 166,
    "start_time": "2023-06-29T12:18:21.032Z"
   },
   {
    "duration": 12,
    "start_time": "2023-06-29T12:18:31.167Z"
   },
   {
    "duration": 138,
    "start_time": "2023-06-29T12:18:32.797Z"
   },
   {
    "duration": 17,
    "start_time": "2023-06-29T12:19:00.661Z"
   },
   {
    "duration": 149,
    "start_time": "2023-06-29T12:19:08.358Z"
   },
   {
    "duration": 207,
    "start_time": "2023-06-29T12:19:18.257Z"
   },
   {
    "duration": 18,
    "start_time": "2023-06-29T12:19:29.061Z"
   },
   {
    "duration": 150,
    "start_time": "2023-06-29T12:19:41.731Z"
   },
   {
    "duration": 134,
    "start_time": "2023-06-29T12:23:26.846Z"
   },
   {
    "duration": 133,
    "start_time": "2023-06-29T12:23:33.749Z"
   },
   {
    "duration": 135,
    "start_time": "2023-06-29T12:23:38.805Z"
   },
   {
    "duration": 137,
    "start_time": "2023-06-29T12:23:49.096Z"
   },
   {
    "duration": 132,
    "start_time": "2023-06-29T12:24:06.801Z"
   },
   {
    "duration": 137,
    "start_time": "2023-06-29T12:24:14.346Z"
   },
   {
    "duration": 174,
    "start_time": "2023-06-29T12:24:23.440Z"
   },
   {
    "duration": 157,
    "start_time": "2023-06-29T12:24:32.154Z"
   },
   {
    "duration": 22,
    "start_time": "2023-06-29T12:25:48.635Z"
   },
   {
    "duration": 146,
    "start_time": "2023-06-29T12:25:50.335Z"
   },
   {
    "duration": 9,
    "start_time": "2023-06-29T12:25:56.993Z"
   },
   {
    "duration": 12,
    "start_time": "2023-06-29T12:32:50.632Z"
   },
   {
    "duration": 7,
    "start_time": "2023-06-29T12:32:57.109Z"
   },
   {
    "duration": 11,
    "start_time": "2023-06-29T12:33:51.243Z"
   },
   {
    "duration": 17,
    "start_time": "2023-06-29T12:40:53.534Z"
   },
   {
    "duration": 15,
    "start_time": "2023-06-29T12:41:00.047Z"
   },
   {
    "duration": 16,
    "start_time": "2023-06-29T12:41:36.006Z"
   },
   {
    "duration": 4,
    "start_time": "2023-06-29T12:42:59.864Z"
   },
   {
    "duration": 15,
    "start_time": "2023-06-29T12:44:23.731Z"
   },
   {
    "duration": 20,
    "start_time": "2023-06-29T12:44:30.752Z"
   },
   {
    "duration": 20,
    "start_time": "2023-06-29T12:45:19.334Z"
   },
   {
    "duration": 44,
    "start_time": "2023-07-02T08:22:37.313Z"
   },
   {
    "duration": 1083,
    "start_time": "2023-07-02T08:22:43.564Z"
   },
   {
    "duration": 22,
    "start_time": "2023-07-02T08:22:44.649Z"
   },
   {
    "duration": 17,
    "start_time": "2023-07-02T08:22:44.673Z"
   },
   {
    "duration": 11,
    "start_time": "2023-07-02T08:22:44.692Z"
   },
   {
    "duration": 36,
    "start_time": "2023-07-02T08:22:44.705Z"
   },
   {
    "duration": 28,
    "start_time": "2023-07-02T08:22:44.742Z"
   },
   {
    "duration": 12,
    "start_time": "2023-07-02T08:22:44.772Z"
   },
   {
    "duration": 6,
    "start_time": "2023-07-02T08:22:44.785Z"
   },
   {
    "duration": 7,
    "start_time": "2023-07-02T08:22:44.793Z"
   },
   {
    "duration": 17,
    "start_time": "2023-07-02T08:22:44.804Z"
   },
   {
    "duration": 59,
    "start_time": "2023-07-02T08:22:44.823Z"
   },
   {
    "duration": 11,
    "start_time": "2023-07-02T08:22:44.883Z"
   },
   {
    "duration": 5,
    "start_time": "2023-07-02T08:22:44.896Z"
   },
   {
    "duration": 19,
    "start_time": "2023-07-02T08:22:44.903Z"
   },
   {
    "duration": 35,
    "start_time": "2023-07-02T08:22:44.924Z"
   },
   {
    "duration": 20,
    "start_time": "2023-07-02T08:22:44.971Z"
   },
   {
    "duration": 4,
    "start_time": "2023-07-02T08:22:44.992Z"
   },
   {
    "duration": 39,
    "start_time": "2023-07-02T08:22:44.998Z"
   },
   {
    "duration": 29,
    "start_time": "2023-07-02T08:22:45.039Z"
   },
   {
    "duration": 25,
    "start_time": "2023-07-02T08:22:45.070Z"
   },
   {
    "duration": 23,
    "start_time": "2023-07-02T08:22:45.097Z"
   },
   {
    "duration": 56,
    "start_time": "2023-07-02T08:22:45.122Z"
   },
   {
    "duration": 15,
    "start_time": "2023-07-02T08:22:45.180Z"
   },
   {
    "duration": 179,
    "start_time": "2023-07-02T08:22:45.197Z"
   },
   {
    "duration": 6,
    "start_time": "2023-07-02T08:22:45.378Z"
   },
   {
    "duration": 7,
    "start_time": "2023-07-02T08:22:45.386Z"
   },
   {
    "duration": 20,
    "start_time": "2023-07-02T08:22:45.395Z"
   },
   {
    "duration": 13,
    "start_time": "2023-07-02T08:22:45.420Z"
   },
   {
    "duration": 45,
    "start_time": "2023-07-02T08:22:45.434Z"
   },
   {
    "duration": 6,
    "start_time": "2023-07-02T08:22:56.752Z"
   },
   {
    "duration": 144,
    "start_time": "2023-07-02T08:23:08.027Z"
   },
   {
    "duration": 128,
    "start_time": "2023-07-02T08:23:41.612Z"
   },
   {
    "duration": 20,
    "start_time": "2023-07-02T11:11:09.103Z"
   },
   {
    "duration": 31,
    "start_time": "2023-07-02T11:12:09.379Z"
   },
   {
    "duration": 28,
    "start_time": "2023-07-02T11:13:29.760Z"
   },
   {
    "duration": 145,
    "start_time": "2023-07-02T11:15:52.618Z"
   },
   {
    "duration": 202,
    "start_time": "2023-07-02T11:16:53.537Z"
   },
   {
    "duration": 129,
    "start_time": "2023-07-02T11:17:58.619Z"
   },
   {
    "duration": 181,
    "start_time": "2023-07-02T11:18:03.974Z"
   },
   {
    "duration": 166,
    "start_time": "2023-07-02T11:18:43.257Z"
   },
   {
    "duration": 124,
    "start_time": "2023-07-02T11:19:03.387Z"
   },
   {
    "duration": 232,
    "start_time": "2023-07-02T11:19:06.540Z"
   },
   {
    "duration": 173,
    "start_time": "2023-07-02T11:19:13.159Z"
   },
   {
    "duration": 4,
    "start_time": "2023-07-02T11:25:13.659Z"
   },
   {
    "duration": 122,
    "start_time": "2023-07-02T11:25:17.538Z"
   },
   {
    "duration": 151,
    "start_time": "2023-07-02T11:26:42.357Z"
   },
   {
    "duration": 188,
    "start_time": "2023-07-02T11:27:11.607Z"
   },
   {
    "duration": 11,
    "start_time": "2023-07-02T11:34:56.929Z"
   },
   {
    "duration": 82,
    "start_time": "2023-07-02T11:41:20.416Z"
   },
   {
    "duration": 11,
    "start_time": "2023-07-02T11:41:29.048Z"
   },
   {
    "duration": 13,
    "start_time": "2023-07-02T11:41:35.990Z"
   },
   {
    "duration": 8,
    "start_time": "2023-07-02T11:42:18.792Z"
   },
   {
    "duration": 12,
    "start_time": "2023-07-02T11:42:51.936Z"
   },
   {
    "duration": 1695,
    "start_time": "2023-07-02T11:43:09.350Z"
   },
   {
    "duration": 13,
    "start_time": "2023-07-02T11:43:36.947Z"
   },
   {
    "duration": 12,
    "start_time": "2023-07-02T11:43:47.197Z"
   },
   {
    "duration": 287,
    "start_time": "2023-07-02T11:47:41.437Z"
   },
   {
    "duration": 223,
    "start_time": "2023-07-02T11:47:45.540Z"
   },
   {
    "duration": 11,
    "start_time": "2023-07-02T11:56:04.619Z"
   },
   {
    "duration": 4,
    "start_time": "2023-07-02T12:29:23.319Z"
   },
   {
    "duration": 18,
    "start_time": "2023-07-02T12:30:23.029Z"
   },
   {
    "duration": 751,
    "start_time": "2023-07-02T12:30:37.048Z"
   },
   {
    "duration": 24,
    "start_time": "2023-07-02T12:30:37.801Z"
   },
   {
    "duration": 19,
    "start_time": "2023-07-02T12:30:37.827Z"
   },
   {
    "duration": 32,
    "start_time": "2023-07-02T12:30:37.848Z"
   },
   {
    "duration": 34,
    "start_time": "2023-07-02T12:30:37.882Z"
   },
   {
    "duration": 3,
    "start_time": "2023-07-02T12:30:37.917Z"
   },
   {
    "duration": 11,
    "start_time": "2023-07-02T12:30:37.922Z"
   },
   {
    "duration": 5,
    "start_time": "2023-07-02T12:30:37.935Z"
   },
   {
    "duration": 28,
    "start_time": "2023-07-02T12:30:37.941Z"
   },
   {
    "duration": 4,
    "start_time": "2023-07-02T12:30:37.972Z"
   },
   {
    "duration": 38,
    "start_time": "2023-07-02T12:30:37.981Z"
   },
   {
    "duration": 10,
    "start_time": "2023-07-02T12:30:38.021Z"
   },
   {
    "duration": 4,
    "start_time": "2023-07-02T12:30:38.032Z"
   },
   {
    "duration": 11,
    "start_time": "2023-07-02T12:30:38.037Z"
   },
   {
    "duration": 26,
    "start_time": "2023-07-02T12:30:38.072Z"
   },
   {
    "duration": 16,
    "start_time": "2023-07-02T12:30:38.099Z"
   },
   {
    "duration": 3,
    "start_time": "2023-07-02T12:30:38.117Z"
   },
   {
    "duration": 17,
    "start_time": "2023-07-02T12:30:38.122Z"
   },
   {
    "duration": 8,
    "start_time": "2023-07-02T12:30:38.141Z"
   },
   {
    "duration": 10,
    "start_time": "2023-07-02T12:30:38.168Z"
   },
   {
    "duration": 13,
    "start_time": "2023-07-02T12:30:38.180Z"
   },
   {
    "duration": 24,
    "start_time": "2023-07-02T12:30:38.194Z"
   },
   {
    "duration": 6,
    "start_time": "2023-07-02T12:30:38.220Z"
   },
   {
    "duration": 171,
    "start_time": "2023-07-02T12:30:38.227Z"
   },
   {
    "duration": 2,
    "start_time": "2023-07-02T12:30:38.400Z"
   },
   {
    "duration": 18,
    "start_time": "2023-07-02T12:30:38.404Z"
   },
   {
    "duration": 6,
    "start_time": "2023-07-02T12:30:38.424Z"
   },
   {
    "duration": 169,
    "start_time": "2023-07-02T12:30:38.433Z"
   },
   {
    "duration": 15,
    "start_time": "2023-07-02T12:30:38.604Z"
   },
   {
    "duration": 14,
    "start_time": "2023-07-02T12:30:38.621Z"
   },
   {
    "duration": 160,
    "start_time": "2023-07-02T12:30:38.636Z"
   },
   {
    "duration": 21,
    "start_time": "2023-07-02T12:30:38.798Z"
   },
   {
    "duration": 16,
    "start_time": "2023-07-02T12:30:38.821Z"
   },
   {
    "duration": 9,
    "start_time": "2023-07-02T12:30:50.030Z"
   },
   {
    "duration": 17,
    "start_time": "2023-07-02T12:31:15.229Z"
   },
   {
    "duration": 8,
    "start_time": "2023-07-02T12:31:44.005Z"
   },
   {
    "duration": 129,
    "start_time": "2023-07-02T12:32:48.396Z"
   },
   {
    "duration": 195,
    "start_time": "2023-07-02T12:32:55.909Z"
   },
   {
    "duration": 128,
    "start_time": "2023-07-02T12:33:10.012Z"
   },
   {
    "duration": 88,
    "start_time": "2023-07-02T12:37:45.860Z"
   },
   {
    "duration": 10,
    "start_time": "2023-07-02T12:37:58.353Z"
   },
   {
    "duration": 84,
    "start_time": "2023-07-02T12:39:03.640Z"
   },
   {
    "duration": 18,
    "start_time": "2023-07-02T12:39:07.067Z"
   },
   {
    "duration": 9,
    "start_time": "2023-07-02T12:39:41.294Z"
   },
   {
    "duration": 10,
    "start_time": "2023-07-02T12:40:26.274Z"
   },
   {
    "duration": 9,
    "start_time": "2023-07-02T12:40:56.419Z"
   },
   {
    "duration": 7,
    "start_time": "2023-07-02T12:41:18.691Z"
   },
   {
    "duration": 8,
    "start_time": "2023-07-02T12:43:01.007Z"
   },
   {
    "duration": 10,
    "start_time": "2023-07-02T12:43:04.139Z"
   },
   {
    "duration": 4,
    "start_time": "2023-07-02T15:25:49.658Z"
   },
   {
    "duration": 18,
    "start_time": "2023-07-02T15:25:58.374Z"
   },
   {
    "duration": 72,
    "start_time": "2023-07-02T15:26:17.420Z"
   },
   {
    "duration": 14,
    "start_time": "2023-07-02T15:26:26.402Z"
   },
   {
    "duration": 8,
    "start_time": "2023-07-02T15:35:45.657Z"
   },
   {
    "duration": 9,
    "start_time": "2023-07-02T15:35:50.184Z"
   },
   {
    "duration": 68,
    "start_time": "2023-07-02T15:47:16.408Z"
   },
   {
    "duration": 20,
    "start_time": "2023-07-02T15:51:27.816Z"
   },
   {
    "duration": 21,
    "start_time": "2023-07-02T15:52:09.865Z"
   },
   {
    "duration": 19,
    "start_time": "2023-07-02T15:52:16.804Z"
   },
   {
    "duration": 16,
    "start_time": "2023-07-02T16:11:55.431Z"
   },
   {
    "duration": 708,
    "start_time": "2023-07-02T18:13:39.697Z"
   },
   {
    "duration": 18,
    "start_time": "2023-07-02T18:13:40.408Z"
   },
   {
    "duration": 14,
    "start_time": "2023-07-02T18:13:40.428Z"
   },
   {
    "duration": 25,
    "start_time": "2023-07-02T18:13:40.444Z"
   },
   {
    "duration": 7,
    "start_time": "2023-07-02T18:13:40.476Z"
   },
   {
    "duration": 13,
    "start_time": "2023-07-02T18:13:40.484Z"
   },
   {
    "duration": 7,
    "start_time": "2023-07-02T18:13:40.499Z"
   },
   {
    "duration": 15,
    "start_time": "2023-07-02T18:13:40.507Z"
   },
   {
    "duration": 68,
    "start_time": "2023-07-02T18:13:40.523Z"
   },
   {
    "duration": 4,
    "start_time": "2023-07-02T18:13:40.594Z"
   },
   {
    "duration": 13,
    "start_time": "2023-07-02T18:13:40.600Z"
   },
   {
    "duration": 8,
    "start_time": "2023-07-02T18:13:40.615Z"
   },
   {
    "duration": 6,
    "start_time": "2023-07-02T18:13:40.625Z"
   },
   {
    "duration": 26,
    "start_time": "2023-07-02T18:13:40.634Z"
   },
   {
    "duration": 41,
    "start_time": "2023-07-02T18:13:40.663Z"
   },
   {
    "duration": 11,
    "start_time": "2023-07-02T18:13:40.705Z"
   },
   {
    "duration": 4,
    "start_time": "2023-07-02T18:13:40.717Z"
   },
   {
    "duration": 16,
    "start_time": "2023-07-02T18:13:40.722Z"
   },
   {
    "duration": 38,
    "start_time": "2023-07-02T18:13:40.739Z"
   },
   {
    "duration": 15,
    "start_time": "2023-07-02T18:13:40.779Z"
   },
   {
    "duration": 3,
    "start_time": "2023-07-02T18:13:40.796Z"
   },
   {
    "duration": 18,
    "start_time": "2023-07-02T18:13:40.800Z"
   },
   {
    "duration": 7,
    "start_time": "2023-07-02T18:13:40.820Z"
   },
   {
    "duration": 29,
    "start_time": "2023-07-02T18:13:40.829Z"
   },
   {
    "duration": 17,
    "start_time": "2023-07-02T18:13:40.862Z"
   },
   {
    "duration": 33,
    "start_time": "2023-07-02T18:13:40.881Z"
   },
   {
    "duration": 5,
    "start_time": "2023-07-02T18:13:40.916Z"
   },
   {
    "duration": 190,
    "start_time": "2023-07-02T18:13:40.923Z"
   },
   {
    "duration": 2,
    "start_time": "2023-07-02T18:13:41.115Z"
   },
   {
    "duration": 23,
    "start_time": "2023-07-02T18:13:41.119Z"
   },
   {
    "duration": 7,
    "start_time": "2023-07-02T18:13:41.143Z"
   },
   {
    "duration": 189,
    "start_time": "2023-07-02T18:13:41.160Z"
   },
   {
    "duration": 22,
    "start_time": "2023-07-02T18:13:41.351Z"
   },
   {
    "duration": 19,
    "start_time": "2023-07-02T18:13:41.375Z"
   },
   {
    "duration": 166,
    "start_time": "2023-07-02T18:13:41.396Z"
   },
   {
    "duration": 18,
    "start_time": "2023-07-02T18:13:41.567Z"
   },
   {
    "duration": 18,
    "start_time": "2023-07-02T18:13:41.587Z"
   },
   {
    "duration": 11,
    "start_time": "2023-07-02T18:13:41.607Z"
   },
   {
    "duration": 158,
    "start_time": "2023-07-02T18:13:41.620Z"
   },
   {
    "duration": 10,
    "start_time": "2023-07-02T18:14:39.255Z"
   },
   {
    "duration": 58,
    "start_time": "2023-07-03T16:11:24.224Z"
   },
   {
    "duration": 985,
    "start_time": "2023-07-03T16:11:44.850Z"
   },
   {
    "duration": 20,
    "start_time": "2023-07-03T16:11:45.838Z"
   },
   {
    "duration": 16,
    "start_time": "2023-07-03T16:11:45.870Z"
   },
   {
    "duration": 15,
    "start_time": "2023-07-03T16:11:45.888Z"
   },
   {
    "duration": 21,
    "start_time": "2023-07-03T16:11:45.904Z"
   },
   {
    "duration": 17,
    "start_time": "2023-07-03T16:11:45.926Z"
   },
   {
    "duration": 8,
    "start_time": "2023-07-03T16:11:45.945Z"
   },
   {
    "duration": 23,
    "start_time": "2023-07-03T16:11:45.954Z"
   },
   {
    "duration": 31,
    "start_time": "2023-07-03T16:11:45.979Z"
   },
   {
    "duration": 3,
    "start_time": "2023-07-03T16:11:46.013Z"
   },
   {
    "duration": 29,
    "start_time": "2023-07-03T16:11:46.017Z"
   },
   {
    "duration": 38,
    "start_time": "2023-07-03T16:11:46.049Z"
   },
   {
    "duration": 13,
    "start_time": "2023-07-03T16:11:46.089Z"
   },
   {
    "duration": 24,
    "start_time": "2023-07-03T16:11:46.103Z"
   },
   {
    "duration": 38,
    "start_time": "2023-07-03T16:11:46.129Z"
   },
   {
    "duration": 14,
    "start_time": "2023-07-03T16:11:46.169Z"
   },
   {
    "duration": 12,
    "start_time": "2023-07-03T16:11:46.184Z"
   },
   {
    "duration": 25,
    "start_time": "2023-07-03T16:11:46.197Z"
   },
   {
    "duration": 24,
    "start_time": "2023-07-03T16:11:46.224Z"
   },
   {
    "duration": 22,
    "start_time": "2023-07-03T16:11:46.250Z"
   },
   {
    "duration": 3,
    "start_time": "2023-07-03T16:11:46.274Z"
   },
   {
    "duration": 15,
    "start_time": "2023-07-03T16:11:46.279Z"
   },
   {
    "duration": 11,
    "start_time": "2023-07-03T16:11:46.295Z"
   },
   {
    "duration": 20,
    "start_time": "2023-07-03T16:11:46.308Z"
   },
   {
    "duration": 24,
    "start_time": "2023-07-03T16:11:46.330Z"
   },
   {
    "duration": 78,
    "start_time": "2023-07-03T16:11:46.356Z"
   },
   {
    "duration": 0,
    "start_time": "2023-07-03T16:11:46.436Z"
   },
   {
    "duration": 0,
    "start_time": "2023-07-03T16:11:46.438Z"
   },
   {
    "duration": 0,
    "start_time": "2023-07-03T16:11:46.438Z"
   },
   {
    "duration": 0,
    "start_time": "2023-07-03T16:11:46.440Z"
   },
   {
    "duration": 0,
    "start_time": "2023-07-03T16:11:46.440Z"
   },
   {
    "duration": 1,
    "start_time": "2023-07-03T16:11:46.441Z"
   },
   {
    "duration": 0,
    "start_time": "2023-07-03T16:11:46.442Z"
   },
   {
    "duration": 0,
    "start_time": "2023-07-03T16:11:46.444Z"
   },
   {
    "duration": 0,
    "start_time": "2023-07-03T16:11:46.445Z"
   },
   {
    "duration": 0,
    "start_time": "2023-07-03T16:11:46.446Z"
   },
   {
    "duration": 0,
    "start_time": "2023-07-03T16:11:46.447Z"
   },
   {
    "duration": 0,
    "start_time": "2023-07-03T16:11:46.447Z"
   },
   {
    "duration": 0,
    "start_time": "2023-07-03T16:11:46.449Z"
   },
   {
    "duration": 0,
    "start_time": "2023-07-03T16:11:46.459Z"
   },
   {
    "duration": 24,
    "start_time": "2023-07-03T16:12:33.651Z"
   },
   {
    "duration": 14,
    "start_time": "2023-07-03T16:12:58.637Z"
   },
   {
    "duration": 8,
    "start_time": "2023-07-03T16:13:22.330Z"
   },
   {
    "duration": 793,
    "start_time": "2023-07-03T16:13:28.996Z"
   },
   {
    "duration": 20,
    "start_time": "2023-07-03T16:13:29.792Z"
   },
   {
    "duration": 15,
    "start_time": "2023-07-03T16:13:29.814Z"
   },
   {
    "duration": 37,
    "start_time": "2023-07-03T16:13:29.831Z"
   },
   {
    "duration": 10,
    "start_time": "2023-07-03T16:13:29.869Z"
   },
   {
    "duration": 15,
    "start_time": "2023-07-03T16:13:29.881Z"
   },
   {
    "duration": 13,
    "start_time": "2023-07-03T16:13:29.897Z"
   },
   {
    "duration": 16,
    "start_time": "2023-07-03T16:13:29.911Z"
   },
   {
    "duration": 47,
    "start_time": "2023-07-03T16:13:29.929Z"
   },
   {
    "duration": 5,
    "start_time": "2023-07-03T16:13:29.981Z"
   },
   {
    "duration": 13,
    "start_time": "2023-07-03T16:13:29.988Z"
   },
   {
    "duration": 46,
    "start_time": "2023-07-03T16:13:30.003Z"
   },
   {
    "duration": 38,
    "start_time": "2023-07-03T16:13:30.051Z"
   },
   {
    "duration": 45,
    "start_time": "2023-07-03T16:13:30.091Z"
   },
   {
    "duration": 74,
    "start_time": "2023-07-03T16:13:30.138Z"
   },
   {
    "duration": 26,
    "start_time": "2023-07-03T16:13:30.214Z"
   },
   {
    "duration": 40,
    "start_time": "2023-07-03T16:13:30.242Z"
   },
   {
    "duration": 50,
    "start_time": "2023-07-03T16:13:30.284Z"
   },
   {
    "duration": 73,
    "start_time": "2023-07-03T16:13:30.336Z"
   },
   {
    "duration": 57,
    "start_time": "2023-07-03T16:13:30.411Z"
   },
   {
    "duration": 28,
    "start_time": "2023-07-03T16:13:30.470Z"
   },
   {
    "duration": 89,
    "start_time": "2023-07-03T16:13:30.500Z"
   },
   {
    "duration": 38,
    "start_time": "2023-07-03T16:13:30.591Z"
   },
   {
    "duration": 54,
    "start_time": "2023-07-03T16:13:30.631Z"
   },
   {
    "duration": 34,
    "start_time": "2023-07-03T16:13:30.687Z"
   },
   {
    "duration": 63,
    "start_time": "2023-07-03T16:13:30.722Z"
   },
   {
    "duration": 33,
    "start_time": "2023-07-03T16:13:30.787Z"
   },
   {
    "duration": 52,
    "start_time": "2023-07-03T16:13:30.824Z"
   },
   {
    "duration": 217,
    "start_time": "2023-07-03T16:13:30.878Z"
   },
   {
    "duration": 2,
    "start_time": "2023-07-03T16:13:31.097Z"
   },
   {
    "duration": 142,
    "start_time": "2023-07-03T16:13:31.100Z"
   },
   {
    "duration": 29,
    "start_time": "2023-07-03T16:13:31.244Z"
   },
   {
    "duration": 164,
    "start_time": "2023-07-03T16:13:31.278Z"
   },
   {
    "duration": 35,
    "start_time": "2023-07-03T16:13:31.444Z"
   },
   {
    "duration": 30,
    "start_time": "2023-07-03T16:13:31.484Z"
   },
   {
    "duration": 184,
    "start_time": "2023-07-03T16:13:31.516Z"
   },
   {
    "duration": 16,
    "start_time": "2023-07-03T16:13:31.702Z"
   },
   {
    "duration": 65,
    "start_time": "2023-07-03T16:13:31.719Z"
   },
   {
    "duration": 8,
    "start_time": "2023-07-03T16:13:31.786Z"
   },
   {
    "duration": 152,
    "start_time": "2023-07-03T16:13:31.796Z"
   },
   {
    "duration": 87,
    "start_time": "2023-07-03T16:16:30.958Z"
   },
   {
    "duration": 24,
    "start_time": "2023-07-03T17:08:25.014Z"
   },
   {
    "duration": 20,
    "start_time": "2023-07-03T17:09:46.810Z"
   },
   {
    "duration": 16,
    "start_time": "2023-07-03T17:09:52.524Z"
   },
   {
    "duration": 13,
    "start_time": "2023-07-03T17:11:09.238Z"
   },
   {
    "duration": 7,
    "start_time": "2023-07-03T17:11:11.750Z"
   },
   {
    "duration": 72,
    "start_time": "2023-07-03T17:12:13.727Z"
   },
   {
    "duration": 7,
    "start_time": "2023-07-03T17:12:15.522Z"
   },
   {
    "duration": 23,
    "start_time": "2023-07-03T17:14:50.640Z"
   },
   {
    "duration": 10,
    "start_time": "2023-07-03T17:14:52.276Z"
   },
   {
    "duration": 24,
    "start_time": "2023-07-03T17:21:38.973Z"
   },
   {
    "duration": 5,
    "start_time": "2023-07-03T17:21:46.296Z"
   },
   {
    "duration": 107,
    "start_time": "2023-07-03T17:21:49.507Z"
   },
   {
    "duration": 13,
    "start_time": "2023-07-03T17:21:53.487Z"
   },
   {
    "duration": 5,
    "start_time": "2023-07-03T17:22:18.896Z"
   },
   {
    "duration": 11,
    "start_time": "2023-07-03T17:22:20.700Z"
   },
   {
    "duration": 5,
    "start_time": "2023-07-03T17:22:24.309Z"
   },
   {
    "duration": 9,
    "start_time": "2023-07-03T17:22:25.713Z"
   },
   {
    "duration": 5,
    "start_time": "2023-07-03T17:22:29.517Z"
   },
   {
    "duration": 9,
    "start_time": "2023-07-03T17:22:31.301Z"
   },
   {
    "duration": 4,
    "start_time": "2023-07-03T17:22:38.913Z"
   },
   {
    "duration": 9,
    "start_time": "2023-07-03T17:22:40.699Z"
   },
   {
    "duration": 5,
    "start_time": "2023-07-03T17:22:51.900Z"
   },
   {
    "duration": 10,
    "start_time": "2023-07-03T17:22:54.141Z"
   },
   {
    "duration": 5,
    "start_time": "2023-07-03T17:30:49.202Z"
   },
   {
    "duration": 10,
    "start_time": "2023-07-03T17:31:07.134Z"
   },
   {
    "duration": 4,
    "start_time": "2023-07-03T17:31:17.014Z"
   },
   {
    "duration": 12,
    "start_time": "2023-07-03T17:31:18.514Z"
   },
   {
    "duration": 3,
    "start_time": "2023-07-03T17:31:38.714Z"
   },
   {
    "duration": 10,
    "start_time": "2023-07-03T17:31:41.941Z"
   },
   {
    "duration": 6,
    "start_time": "2023-07-03T17:32:24.276Z"
   },
   {
    "duration": 12,
    "start_time": "2023-07-03T17:32:24.401Z"
   },
   {
    "duration": 6,
    "start_time": "2023-07-03T17:33:08.372Z"
   },
   {
    "duration": 10,
    "start_time": "2023-07-03T17:33:22.613Z"
   },
   {
    "duration": 749,
    "start_time": "2023-07-03T17:33:34.006Z"
   },
   {
    "duration": 30,
    "start_time": "2023-07-03T17:33:34.757Z"
   },
   {
    "duration": 15,
    "start_time": "2023-07-03T17:33:34.789Z"
   },
   {
    "duration": 12,
    "start_time": "2023-07-03T17:33:34.806Z"
   },
   {
    "duration": 7,
    "start_time": "2023-07-03T17:33:34.820Z"
   },
   {
    "duration": 43,
    "start_time": "2023-07-03T17:33:34.829Z"
   },
   {
    "duration": 11,
    "start_time": "2023-07-03T17:33:34.874Z"
   },
   {
    "duration": 19,
    "start_time": "2023-07-03T17:33:34.886Z"
   },
   {
    "duration": 44,
    "start_time": "2023-07-03T17:33:34.907Z"
   },
   {
    "duration": 3,
    "start_time": "2023-07-03T17:33:34.954Z"
   },
   {
    "duration": 24,
    "start_time": "2023-07-03T17:33:34.961Z"
   },
   {
    "duration": 6,
    "start_time": "2023-07-03T17:33:34.986Z"
   },
   {
    "duration": 16,
    "start_time": "2023-07-03T17:33:34.993Z"
   },
   {
    "duration": 7,
    "start_time": "2023-07-03T17:33:35.011Z"
   },
   {
    "duration": 30,
    "start_time": "2023-07-03T17:33:35.020Z"
   },
   {
    "duration": 19,
    "start_time": "2023-07-03T17:33:35.052Z"
   },
   {
    "duration": 6,
    "start_time": "2023-07-03T17:33:35.073Z"
   },
   {
    "duration": 11,
    "start_time": "2023-07-03T17:33:35.081Z"
   },
   {
    "duration": 19,
    "start_time": "2023-07-03T17:33:35.094Z"
   },
   {
    "duration": 17,
    "start_time": "2023-07-03T17:33:35.115Z"
   },
   {
    "duration": 4,
    "start_time": "2023-07-03T17:33:35.133Z"
   },
   {
    "duration": 33,
    "start_time": "2023-07-03T17:33:35.139Z"
   },
   {
    "duration": 14,
    "start_time": "2023-07-03T17:33:35.176Z"
   },
   {
    "duration": 8,
    "start_time": "2023-07-03T17:33:35.192Z"
   },
   {
    "duration": 16,
    "start_time": "2023-07-03T17:33:35.202Z"
   },
   {
    "duration": 54,
    "start_time": "2023-07-03T17:33:35.220Z"
   },
   {
    "duration": 82,
    "start_time": "2023-07-03T17:33:35.276Z"
   },
   {
    "duration": 0,
    "start_time": "2023-07-03T17:33:35.363Z"
   },
   {
    "duration": 0,
    "start_time": "2023-07-03T17:33:35.364Z"
   },
   {
    "duration": 0,
    "start_time": "2023-07-03T17:33:35.365Z"
   },
   {
    "duration": 0,
    "start_time": "2023-07-03T17:33:35.366Z"
   },
   {
    "duration": 0,
    "start_time": "2023-07-03T17:33:35.369Z"
   },
   {
    "duration": 0,
    "start_time": "2023-07-03T17:33:35.370Z"
   },
   {
    "duration": 0,
    "start_time": "2023-07-03T17:33:35.372Z"
   },
   {
    "duration": 0,
    "start_time": "2023-07-03T17:33:35.373Z"
   },
   {
    "duration": 0,
    "start_time": "2023-07-03T17:33:35.375Z"
   },
   {
    "duration": 0,
    "start_time": "2023-07-03T17:33:35.376Z"
   },
   {
    "duration": 0,
    "start_time": "2023-07-03T17:33:35.377Z"
   },
   {
    "duration": 0,
    "start_time": "2023-07-03T17:33:35.378Z"
   },
   {
    "duration": 0,
    "start_time": "2023-07-03T17:33:35.379Z"
   },
   {
    "duration": 0,
    "start_time": "2023-07-03T17:33:35.380Z"
   },
   {
    "duration": 0,
    "start_time": "2023-07-03T17:33:35.382Z"
   },
   {
    "duration": 0,
    "start_time": "2023-07-03T17:33:35.383Z"
   },
   {
    "duration": 13,
    "start_time": "2023-07-03T17:34:07.847Z"
   },
   {
    "duration": 8,
    "start_time": "2023-07-03T17:34:11.618Z"
   },
   {
    "duration": 5,
    "start_time": "2023-07-03T17:34:20.820Z"
   },
   {
    "duration": 10,
    "start_time": "2023-07-03T17:34:22.276Z"
   },
   {
    "duration": 10,
    "start_time": "2023-07-03T17:54:09.135Z"
   },
   {
    "duration": 5,
    "start_time": "2023-07-03T18:01:31.339Z"
   },
   {
    "duration": 80,
    "start_time": "2023-07-03T18:03:04.727Z"
   },
   {
    "duration": 8,
    "start_time": "2023-07-03T18:03:15.673Z"
   },
   {
    "duration": 18,
    "start_time": "2023-07-03T18:03:27.772Z"
   },
   {
    "duration": 7,
    "start_time": "2023-07-03T18:03:42.741Z"
   },
   {
    "duration": 5,
    "start_time": "2023-07-03T18:03:56.707Z"
   },
   {
    "duration": 12,
    "start_time": "2023-07-03T18:04:08.162Z"
   },
   {
    "duration": 4,
    "start_time": "2023-07-03T18:04:51.617Z"
   },
   {
    "duration": 8,
    "start_time": "2023-07-03T18:04:56.147Z"
   },
   {
    "duration": 21,
    "start_time": "2023-07-03T18:05:01.790Z"
   },
   {
    "duration": 10,
    "start_time": "2023-07-03T18:05:09.732Z"
   },
   {
    "duration": 9,
    "start_time": "2023-07-03T18:05:48.130Z"
   },
   {
    "duration": 8,
    "start_time": "2023-07-03T18:07:01.410Z"
   },
   {
    "duration": 20,
    "start_time": "2023-07-03T18:07:02.867Z"
   },
   {
    "duration": 10,
    "start_time": "2023-07-03T18:07:04.142Z"
   },
   {
    "duration": 20,
    "start_time": "2023-07-03T18:08:15.411Z"
   },
   {
    "duration": 9,
    "start_time": "2023-07-03T18:08:16.919Z"
   },
   {
    "duration": 96,
    "start_time": "2023-07-04T14:37:33.321Z"
   },
   {
    "duration": 99,
    "start_time": "2023-07-04T14:44:33.440Z"
   },
   {
    "duration": 66,
    "start_time": "2023-07-04T14:54:46.481Z"
   },
   {
    "duration": 50,
    "start_time": "2023-07-04T15:41:16.296Z"
   },
   {
    "duration": 1883,
    "start_time": "2023-07-04T15:41:23.908Z"
   },
   {
    "duration": 24,
    "start_time": "2023-07-04T15:41:25.794Z"
   },
   {
    "duration": 17,
    "start_time": "2023-07-04T15:41:25.819Z"
   },
   {
    "duration": 12,
    "start_time": "2023-07-04T15:41:25.837Z"
   },
   {
    "duration": 38,
    "start_time": "2023-07-04T15:41:25.851Z"
   },
   {
    "duration": 34,
    "start_time": "2023-07-04T15:41:25.898Z"
   },
   {
    "duration": 25,
    "start_time": "2023-07-04T15:41:25.934Z"
   },
   {
    "duration": 97,
    "start_time": "2023-07-04T15:41:25.961Z"
   },
   {
    "duration": 60,
    "start_time": "2023-07-04T15:41:26.064Z"
   },
   {
    "duration": 4,
    "start_time": "2023-07-04T15:41:26.126Z"
   },
   {
    "duration": 27,
    "start_time": "2023-07-04T15:41:26.132Z"
   },
   {
    "duration": 47,
    "start_time": "2023-07-04T15:41:26.161Z"
   },
   {
    "duration": 10,
    "start_time": "2023-07-04T15:41:26.210Z"
   },
   {
    "duration": 5,
    "start_time": "2023-07-04T15:41:26.223Z"
   },
   {
    "duration": 49,
    "start_time": "2023-07-04T15:41:26.229Z"
   },
   {
    "duration": 12,
    "start_time": "2023-07-04T15:41:26.280Z"
   },
   {
    "duration": 21,
    "start_time": "2023-07-04T15:41:26.294Z"
   },
   {
    "duration": 16,
    "start_time": "2023-07-04T15:41:26.317Z"
   },
   {
    "duration": 45,
    "start_time": "2023-07-04T15:41:26.335Z"
   },
   {
    "duration": 33,
    "start_time": "2023-07-04T15:41:26.382Z"
   },
   {
    "duration": 4,
    "start_time": "2023-07-04T15:41:26.417Z"
   },
   {
    "duration": 21,
    "start_time": "2023-07-04T15:41:26.423Z"
   },
   {
    "duration": 17,
    "start_time": "2023-07-04T15:41:26.446Z"
   },
   {
    "duration": 41,
    "start_time": "2023-07-04T15:41:26.466Z"
   },
   {
    "duration": 20,
    "start_time": "2023-07-04T15:41:26.509Z"
   },
   {
    "duration": 36,
    "start_time": "2023-07-04T15:41:26.531Z"
   },
   {
    "duration": 13,
    "start_time": "2023-07-04T15:41:26.570Z"
   },
   {
    "duration": 37,
    "start_time": "2023-07-04T15:41:26.584Z"
   },
   {
    "duration": 9,
    "start_time": "2023-07-04T15:41:26.623Z"
   },
   {
    "duration": 40,
    "start_time": "2023-07-04T15:41:26.634Z"
   },
   {
    "duration": 63,
    "start_time": "2023-07-04T15:41:26.676Z"
   },
   {
    "duration": 6,
    "start_time": "2023-07-04T15:41:26.740Z"
   },
   {
    "duration": 243,
    "start_time": "2023-07-04T15:41:26.748Z"
   },
   {
    "duration": 4,
    "start_time": "2023-07-04T15:41:26.993Z"
   },
   {
    "duration": 16,
    "start_time": "2023-07-04T15:41:27.001Z"
   },
   {
    "duration": 16,
    "start_time": "2023-07-04T15:41:27.019Z"
   },
   {
    "duration": 31,
    "start_time": "2023-07-04T15:41:27.036Z"
   },
   {
    "duration": 22,
    "start_time": "2023-07-04T15:41:27.075Z"
   },
   {
    "duration": 191,
    "start_time": "2023-07-04T15:41:27.104Z"
   },
   {
    "duration": 18,
    "start_time": "2023-07-04T15:41:27.297Z"
   },
   {
    "duration": 49,
    "start_time": "2023-07-04T15:41:27.320Z"
   },
   {
    "duration": 47,
    "start_time": "2023-07-04T15:41:27.371Z"
   },
   {
    "duration": 14,
    "start_time": "2023-07-04T15:41:27.420Z"
   },
   {
    "duration": 175,
    "start_time": "2023-07-04T15:41:27.436Z"
   },
   {
    "duration": 20,
    "start_time": "2023-07-04T15:41:27.613Z"
   },
   {
    "duration": 39,
    "start_time": "2023-07-04T15:41:27.635Z"
   },
   {
    "duration": 53,
    "start_time": "2023-07-04T15:41:27.676Z"
   },
   {
    "duration": 10,
    "start_time": "2023-07-04T15:41:27.730Z"
   },
   {
    "duration": 25,
    "start_time": "2023-07-04T15:41:27.742Z"
   },
   {
    "duration": 206,
    "start_time": "2023-07-04T15:41:27.775Z"
   },
   {
    "duration": 14,
    "start_time": "2023-07-04T16:55:30.002Z"
   },
   {
    "duration": 7,
    "start_time": "2023-07-04T17:07:47.319Z"
   },
   {
    "duration": 814,
    "start_time": "2023-07-04T17:08:04.835Z"
   },
   {
    "duration": 21,
    "start_time": "2023-07-04T17:08:05.651Z"
   },
   {
    "duration": 36,
    "start_time": "2023-07-04T17:08:05.674Z"
   },
   {
    "duration": 20,
    "start_time": "2023-07-04T17:08:05.712Z"
   },
   {
    "duration": 9,
    "start_time": "2023-07-04T17:08:05.733Z"
   },
   {
    "duration": 22,
    "start_time": "2023-07-04T17:08:05.743Z"
   },
   {
    "duration": 29,
    "start_time": "2023-07-04T17:08:05.767Z"
   },
   {
    "duration": 37,
    "start_time": "2023-07-04T17:08:05.798Z"
   },
   {
    "duration": 38,
    "start_time": "2023-07-04T17:08:05.836Z"
   },
   {
    "duration": 4,
    "start_time": "2023-07-04T17:08:05.876Z"
   },
   {
    "duration": 18,
    "start_time": "2023-07-04T17:08:05.881Z"
   },
   {
    "duration": 10,
    "start_time": "2023-07-04T17:08:05.901Z"
   },
   {
    "duration": 12,
    "start_time": "2023-07-04T17:08:05.913Z"
   },
   {
    "duration": 39,
    "start_time": "2023-07-04T17:08:05.926Z"
   },
   {
    "duration": 37,
    "start_time": "2023-07-04T17:08:05.967Z"
   },
   {
    "duration": 8,
    "start_time": "2023-07-04T17:08:06.006Z"
   },
   {
    "duration": 22,
    "start_time": "2023-07-04T17:08:06.016Z"
   },
   {
    "duration": 36,
    "start_time": "2023-07-04T17:08:06.039Z"
   },
   {
    "duration": 26,
    "start_time": "2023-07-04T17:08:06.077Z"
   },
   {
    "duration": 17,
    "start_time": "2023-07-04T17:08:06.105Z"
   },
   {
    "duration": 3,
    "start_time": "2023-07-04T17:08:06.124Z"
   },
   {
    "duration": 15,
    "start_time": "2023-07-04T17:08:06.128Z"
   },
   {
    "duration": 18,
    "start_time": "2023-07-04T17:08:06.145Z"
   },
   {
    "duration": 4,
    "start_time": "2023-07-04T17:08:06.165Z"
   },
   {
    "duration": 30,
    "start_time": "2023-07-04T17:08:06.171Z"
   },
   {
    "duration": 25,
    "start_time": "2023-07-04T17:08:06.202Z"
   },
   {
    "duration": 4,
    "start_time": "2023-07-04T17:08:06.229Z"
   },
   {
    "duration": 17,
    "start_time": "2023-07-04T17:08:06.236Z"
   },
   {
    "duration": 26,
    "start_time": "2023-07-04T17:08:06.266Z"
   },
   {
    "duration": 11,
    "start_time": "2023-07-04T17:08:06.294Z"
   },
   {
    "duration": 21,
    "start_time": "2023-07-04T17:08:06.307Z"
   },
   {
    "duration": 8,
    "start_time": "2023-07-04T17:08:06.330Z"
   },
   {
    "duration": 171,
    "start_time": "2023-07-04T17:08:06.339Z"
   },
   {
    "duration": 2,
    "start_time": "2023-07-04T17:08:06.513Z"
   },
   {
    "duration": 44,
    "start_time": "2023-07-04T17:08:06.517Z"
   },
   {
    "duration": 15,
    "start_time": "2023-07-04T17:08:06.563Z"
   },
   {
    "duration": 23,
    "start_time": "2023-07-04T17:08:06.580Z"
   },
   {
    "duration": 10,
    "start_time": "2023-07-04T17:08:06.605Z"
   },
   {
    "duration": 177,
    "start_time": "2023-07-04T17:08:06.616Z"
   },
   {
    "duration": 13,
    "start_time": "2023-07-04T17:08:06.795Z"
   },
   {
    "duration": 29,
    "start_time": "2023-07-04T17:08:06.810Z"
   },
   {
    "duration": 34,
    "start_time": "2023-07-04T17:08:06.841Z"
   },
   {
    "duration": 24,
    "start_time": "2023-07-04T17:08:06.877Z"
   },
   {
    "duration": 134,
    "start_time": "2023-07-04T17:08:06.903Z"
   },
   {
    "duration": 31,
    "start_time": "2023-07-04T17:08:07.039Z"
   },
   {
    "duration": 17,
    "start_time": "2023-07-04T17:08:07.071Z"
   },
   {
    "duration": 20,
    "start_time": "2023-07-04T17:08:07.090Z"
   },
   {
    "duration": 8,
    "start_time": "2023-07-04T17:08:07.112Z"
   },
   {
    "duration": 17,
    "start_time": "2023-07-04T17:08:07.122Z"
   },
   {
    "duration": 132,
    "start_time": "2023-07-04T17:08:07.140Z"
   },
   {
    "duration": 6,
    "start_time": "2023-07-04T17:08:07.274Z"
   },
   {
    "duration": 6,
    "start_time": "2023-07-04T17:09:37.067Z"
   },
   {
    "duration": 6,
    "start_time": "2023-07-04T17:10:00.602Z"
   },
   {
    "duration": 72,
    "start_time": "2023-07-04T17:10:10.899Z"
   },
   {
    "duration": 7,
    "start_time": "2023-07-04T17:10:15.517Z"
   },
   {
    "duration": 65,
    "start_time": "2023-07-04T17:11:22.004Z"
   },
   {
    "duration": 80,
    "start_time": "2023-07-04T17:18:14.809Z"
   },
   {
    "duration": 587,
    "start_time": "2023-07-04T17:19:10.802Z"
   },
   {
    "duration": 261,
    "start_time": "2023-07-04T17:19:31.250Z"
   },
   {
    "duration": 131,
    "start_time": "2023-07-04T17:20:23.373Z"
   },
   {
    "duration": 20,
    "start_time": "2023-07-04T17:20:59.462Z"
   },
   {
    "duration": 227,
    "start_time": "2023-07-04T17:21:36.409Z"
   },
   {
    "duration": 938,
    "start_time": "2023-07-04T17:21:52.693Z"
   },
   {
    "duration": 18,
    "start_time": "2023-07-04T17:22:14.403Z"
   },
   {
    "duration": 17,
    "start_time": "2023-07-04T17:22:32.716Z"
   },
   {
    "duration": 27,
    "start_time": "2023-07-04T17:22:37.108Z"
   },
   {
    "duration": 139,
    "start_time": "2023-07-04T17:22:50.705Z"
   },
   {
    "duration": 1008,
    "start_time": "2023-07-04T17:22:59.014Z"
   },
   {
    "duration": 16,
    "start_time": "2023-07-04T17:24:10.847Z"
   },
   {
    "duration": 255,
    "start_time": "2023-07-04T17:24:32.573Z"
   },
   {
    "duration": 1058,
    "start_time": "2023-07-04T18:28:39.858Z"
   },
   {
    "duration": 19,
    "start_time": "2023-07-04T18:28:40.917Z"
   },
   {
    "duration": 24,
    "start_time": "2023-07-04T18:28:40.938Z"
   },
   {
    "duration": 10,
    "start_time": "2023-07-04T18:28:40.964Z"
   },
   {
    "duration": 11,
    "start_time": "2023-07-04T18:28:40.976Z"
   },
   {
    "duration": 7,
    "start_time": "2023-07-04T18:28:40.989Z"
   },
   {
    "duration": 11,
    "start_time": "2023-07-04T18:28:40.998Z"
   },
   {
    "duration": 14,
    "start_time": "2023-07-04T18:28:41.010Z"
   },
   {
    "duration": 28,
    "start_time": "2023-07-04T18:28:41.031Z"
   },
   {
    "duration": 31,
    "start_time": "2023-07-04T18:28:41.062Z"
   },
   {
    "duration": 3,
    "start_time": "2023-07-04T18:28:41.094Z"
   },
   {
    "duration": 14,
    "start_time": "2023-07-04T18:28:41.098Z"
   },
   {
    "duration": 7,
    "start_time": "2023-07-04T18:28:41.113Z"
   },
   {
    "duration": 10,
    "start_time": "2023-07-04T18:28:41.121Z"
   },
   {
    "duration": 5,
    "start_time": "2023-07-04T18:28:41.132Z"
   },
   {
    "duration": 35,
    "start_time": "2023-07-04T18:28:41.139Z"
   },
   {
    "duration": 8,
    "start_time": "2023-07-04T18:28:41.176Z"
   },
   {
    "duration": 9,
    "start_time": "2023-07-04T18:28:41.186Z"
   },
   {
    "duration": 26,
    "start_time": "2023-07-04T18:28:41.196Z"
   },
   {
    "duration": 25,
    "start_time": "2023-07-04T18:28:41.223Z"
   },
   {
    "duration": 18,
    "start_time": "2023-07-04T18:28:41.250Z"
   },
   {
    "duration": 2,
    "start_time": "2023-07-04T18:28:41.270Z"
   },
   {
    "duration": 13,
    "start_time": "2023-07-04T18:28:41.274Z"
   },
   {
    "duration": 5,
    "start_time": "2023-07-04T18:28:41.288Z"
   },
   {
    "duration": 3,
    "start_time": "2023-07-04T18:28:41.295Z"
   },
   {
    "duration": 33,
    "start_time": "2023-07-04T18:28:41.299Z"
   },
   {
    "duration": 19,
    "start_time": "2023-07-04T18:28:41.333Z"
   },
   {
    "duration": 3,
    "start_time": "2023-07-04T18:28:41.355Z"
   },
   {
    "duration": 12,
    "start_time": "2023-07-04T18:28:41.359Z"
   },
   {
    "duration": 7,
    "start_time": "2023-07-04T18:28:41.372Z"
   },
   {
    "duration": 10,
    "start_time": "2023-07-04T18:28:41.380Z"
   },
   {
    "duration": 18,
    "start_time": "2023-07-04T18:28:41.392Z"
   },
   {
    "duration": 21,
    "start_time": "2023-07-04T18:28:41.411Z"
   },
   {
    "duration": 140,
    "start_time": "2023-07-04T18:28:41.434Z"
   },
   {
    "duration": 3,
    "start_time": "2023-07-04T18:28:41.575Z"
   },
   {
    "duration": 16,
    "start_time": "2023-07-04T18:28:41.579Z"
   },
   {
    "duration": 7,
    "start_time": "2023-07-04T18:28:41.596Z"
   },
   {
    "duration": 34,
    "start_time": "2023-07-04T18:28:41.604Z"
   },
   {
    "duration": 8,
    "start_time": "2023-07-04T18:28:41.639Z"
   },
   {
    "duration": 138,
    "start_time": "2023-07-04T18:28:41.648Z"
   },
   {
    "duration": 10,
    "start_time": "2023-07-04T18:28:41.788Z"
   },
   {
    "duration": 15,
    "start_time": "2023-07-04T18:28:41.800Z"
   },
   {
    "duration": 20,
    "start_time": "2023-07-04T18:28:41.816Z"
   },
   {
    "duration": 8,
    "start_time": "2023-07-04T18:28:41.837Z"
   },
   {
    "duration": 127,
    "start_time": "2023-07-04T18:28:41.846Z"
   },
   {
    "duration": 15,
    "start_time": "2023-07-04T18:28:41.975Z"
   },
   {
    "duration": 16,
    "start_time": "2023-07-04T18:28:41.991Z"
   },
   {
    "duration": 33,
    "start_time": "2023-07-04T18:28:42.008Z"
   },
   {
    "duration": 8,
    "start_time": "2023-07-04T18:28:42.042Z"
   },
   {
    "duration": 8,
    "start_time": "2023-07-04T18:28:42.052Z"
   },
   {
    "duration": 126,
    "start_time": "2023-07-04T18:28:42.061Z"
   }
  ],
  "colab": {
   "name": "dpp_template_part2.ipynb",
   "provenance": []
  },
  "kernelspec": {
   "display_name": "Python 3 (ipykernel)",
   "language": "python",
   "name": "python3"
  },
  "language_info": {
   "codemirror_mode": {
    "name": "ipython",
    "version": 3
   },
   "file_extension": ".py",
   "mimetype": "text/x-python",
   "name": "python",
   "nbconvert_exporter": "python",
   "pygments_lexer": "ipython3",
   "version": "3.9.18"
  },
  "toc": {
   "base_numbering": 1,
   "nav_menu": {},
   "number_sections": true,
   "sideBar": true,
   "skip_h1_title": true,
   "title_cell": "Table of Contents",
   "title_sidebar": "Contents",
   "toc_cell": false,
   "toc_position": {},
   "toc_section_display": true,
   "toc_window_display": false
  }
 },
 "nbformat": 4,
 "nbformat_minor": 5
}
