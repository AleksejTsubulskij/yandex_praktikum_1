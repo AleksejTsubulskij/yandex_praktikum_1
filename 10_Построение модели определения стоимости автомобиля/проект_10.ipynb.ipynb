{
 "cells": [
  {
   "cell_type": "markdown",
   "metadata": {},
   "source": [
    "# Определение стоимости автомобилей"
   ]
  },
  {
   "cell_type": "markdown",
   "metadata": {},
   "source": [
    "Сервис по продаже автомобилей с пробегом «Не бит, не крашен» разрабатывает приложение для привлечения новых клиентов. В нём можно быстро узнать рыночную стоимость своего автомобиля. В вашем распоряжении исторические данные: технические характеристики, комплектации и цены автомобилей. Вам нужно построить модель для определения стоимости. \n",
    "\n",
    "Заказчику важны:\n",
    "\n",
    "- качество предсказания;\n",
    "- скорость предсказания;\n",
    "- время обучения."
   ]
  },
  {
   "cell_type": "markdown",
   "metadata": {},
   "source": [
    "## Подготовка данных"
   ]
  },
  {
   "cell_type": "code",
   "execution_count": 1,
   "metadata": {},
   "outputs": [],
   "source": [
    "pip install catboost\n"
   ]
  },
  {
   "cell_type": "code",
   "execution_count": 2,
   "metadata": {},
   "outputs": [],
   "source": [
    "pip install lightgbm"
   ]
  },
  {
   "cell_type": "code",
   "execution_count": 3,
   "metadata": {},
   "outputs": [
    {
     "data": {},
     "metadata": {},
     "output_type": "display_data"
    }
   ],
   "source": [
    "import pandas as pd\n",
    "import warnings\n",
    "import numpy as np\n",
    "warnings.simplefilter('ignore')\n",
    "from scipy import stats as st\n",
    "%matplotlib inline\n",
    "import seaborn as sns\n",
    "import matplotlib.pyplot as plt\n",
    "%config InlineBackend.figure_format = 'svg' \n",
    "from pylab import rcParams\n",
    "rcParams['figure.figsize'] = 8, 5\n",
    "from sklearn.utils import shuffle\n",
    "from sklearn.model_selection import (\n",
    "    GridSearchCV, \n",
    "    RandomizedSearchCV,\n",
    "    train_test_split\n",
    ")\n",
    "import lightgbm\n",
    "from lightgbm import LGBMRegressor\n",
    "from sklearn.ensemble import RandomForestRegressor\n",
    "from sklearn.compose import make_column_transformer\n",
    "from sklearn.metrics import mean_squared_error\n",
    "from sklearn.metrics import mean_absolute_error\n",
    "\n",
    "from sklearn.linear_model import LinearRegression\n",
    "\n",
    "from sklearn.pipeline import make_pipeline\n",
    "from sklearn.preprocessing import (StandardScaler)\n",
    "from IPython.core.display import display, HTML\n",
    "display(HTML(\"<style>.container { width:90% !important; }</style>\"))\n",
    "from sklearn.model_selection import cross_val_score\n",
    "from sklearn.metrics import make_scorer\n",
    "from sklearn.tree import DecisionTreeRegressor\n",
    "np.random.seed(0)\n",
    "\n",
    "import catboost\n",
    "from sklearn.model_selection import train_test_split\n",
    "from catboost import Pool, CatBoostRegressor, cv\n",
    "from sklearn.metrics import roc_auc_score\n",
    "from sklearn.pipeline import Pipeline\n",
    "from sklearn.preprocessing import (\n",
    "    OneHotEncoder,\n",
    "    OrdinalEncoder,\n",
    "    StandardScaler\n",
    ")"
   ]
  },
  {
   "cell_type": "code",
   "execution_count": 4,
   "metadata": {},
   "outputs": [
    {
     "data": {},
     "metadata": {},
     "output_type": "display_data"
    }
   ],
   "source": [
    "try :\n",
    "    data  = pd.read_csv('/datasets/autos.csv',parse_dates=['DateCrawled','DateCreated','LastSeen'])\n",
    "    \n",
    "except:\n",
    "    data  = pd.read_csv('autos.csv',parse_dates=['DateCrawled','DateCreated','LastSeen'])\n",
    "    \n",
    "display(data.head(10))\n"
   ]
  },
  {
   "cell_type": "code",
   "execution_count": 5,
   "metadata": {},
   "outputs": [],
   "source": [
    "#функция для получения общей информации о датафрейме\n",
    "def df_inf(data): \n",
    "    display(data.head())\n",
    "    display(data.describe(include='all').T)\n",
    "    display(data.info())\n",
    "    for column in data.columns:\n",
    "        display()\n",
    "        display(column)\n",
    "        display(data[column].unique())\n",
    "    display(data[data.duplicated()])\n",
    "    display(pd.DataFrame(round(data.isna().mean()*100,1)).style.background_gradient('coolwarm') )"
   ]
  },
  {
   "cell_type": "code",
   "execution_count": 6,
   "metadata": {
    "scrolled": false
   },
   "outputs": [
    {
     "data": {},
     "metadata": {},
     "output_type": "display_data"
    },
    {
     "data": {},
     "metadata": {},
     "output_type": "display_data"
    },
    {
     "data": {},
     "metadata": {},
     "output_type": "display_data"
    },
    {
     "data": {},
     "metadata": {},
     "output_type": "display_data"
    },
    {
     "data": {},
     "metadata": {},
     "output_type": "display_data"
    },
    {
     "data": {},
     "metadata": {},
     "output_type": "display_data"
    },
    {
     "data": {},
     "metadata": {},
     "output_type": "display_data"
    },
    {
     "data": {},
     "metadata": {},
     "output_type": "display_data"
    },
    {
     "data": {},
     "metadata": {},
     "output_type": "display_data"
    },
    {
     "data": {},
     "metadata": {},
     "output_type": "display_data"
    },
    {
     "data": {},
     "metadata": {},
     "output_type": "display_data"
    },
    {
     "data": {},
     "metadata": {},
     "output_type": "display_data"
    },
    {
     "data": {},
     "metadata": {},
     "output_type": "display_data"
    },
    {
     "data": {},
     "metadata": {},
     "output_type": "display_data"
    },
    {
     "data": {},
     "metadata": {},
     "output_type": "display_data"
    },
    {
     "data": {},
     "metadata": {},
     "output_type": "display_data"
    },
    {
     "data": {},
     "metadata": {},
     "output_type": "display_data"
    },
    {
     "data": {},
     "metadata": {},
     "output_type": "display_data"
    },
    {
     "data": {},
     "metadata": {},
     "output_type": "display_data"
    },
    {
     "data": {},
     "metadata": {},
     "output_type": "display_data"
    },
    {
     "data": {},
     "metadata": {},
     "output_type": "display_data"
    },
    {
     "data": {},
     "metadata": {},
     "output_type": "display_data"
    },
    {
     "data": {},
     "metadata": {},
     "output_type": "display_data"
    },
    {
     "data": {},
     "metadata": {},
     "output_type": "display_data"
    },
    {
     "data": {},
     "metadata": {},
     "output_type": "display_data"
    },
    {
     "data": {},
     "metadata": {},
     "output_type": "display_data"
    },
    {
     "data": {},
     "metadata": {},
     "output_type": "display_data"
    },
    {
     "data": {},
     "metadata": {},
     "output_type": "display_data"
    },
    {
     "data": {},
     "metadata": {},
     "output_type": "display_data"
    },
    {
     "data": {},
     "metadata": {},
     "output_type": "display_data"
    },
    {
     "data": {},
     "metadata": {},
     "output_type": "display_data"
    },
    {
     "data": {},
     "metadata": {},
     "output_type": "display_data"
    },
    {
     "data": {},
     "metadata": {},
     "output_type": "display_data"
    },
    {
     "data": {},
     "metadata": {},
     "output_type": "display_data"
    },
    {
     "data": {},
     "metadata": {},
     "output_type": "display_data"
    },
    {
     "data": {},
     "metadata": {},
     "output_type": "display_data"
    },
    {
     "data": {},
     "metadata": {},
     "output_type": "display_data"
    }
   ],
   "source": [
    "df_inf(data)"
   ]
  },
  {
   "cell_type": "markdown",
   "metadata": {},
   "source": [
    "Видим 1.нужно преобразовать время(преобразовали)\n",
    "\n",
    "2.нужно преобразовать столбцы с int64 - где то можно сделать int9, где то int32 \n",
    "\n",
    "3 обнаружены неправдоподобные данные в RegistrationYear,\n",
    "'Power', возм 'Model' дубликаты\n",
    "\n",
    "4 много пропусков\n",
    "\n",
    "5 'NumberOfPictures' всегда 0\n",
    "\n",
    "6 почтовый код явно не нужен "
   ]
  },
  {
   "cell_type": "code",
   "execution_count": 7,
   "metadata": {},
   "outputs": [
    {
     "data": {},
     "execution_count": 7,
     "metadata": {},
     "output_type": "execute_result"
    }
   ],
   "source": [
    "data[['Price','PostalCode']].corr()"
   ]
  },
  {
   "cell_type": "markdown",
   "metadata": {},
   "source": [
    "Видим очень слабую корреляцию цены с почтовым кодом , удалим его."
   ]
  },
  {
   "cell_type": "code",
   "execution_count": 8,
   "metadata": {
    "scrolled": false
   },
   "outputs": [
    {
     "data": {},
     "execution_count": 8,
     "metadata": {},
     "output_type": "execute_result"
    }
   ],
   "source": [
    "data.query('NumberOfPictures>0')"
   ]
  },
  {
   "cell_type": "markdown",
   "metadata": {},
   "source": [
    "Видим что у всех строк число фотографий 0 , значит столбец не информативен удалим его"
   ]
  },
  {
   "cell_type": "code",
   "execution_count": 9,
   "metadata": {},
   "outputs": [
    {
     "data": {},
     "execution_count": 9,
     "metadata": {},
     "output_type": "execute_result"
    }
   ],
   "source": [
    "data=data.drop(['NumberOfPictures','PostalCode'],axis=1)\n",
    "data.head()"
   ]
  },
  {
   "cell_type": "code",
   "execution_count": 10,
   "metadata": {},
   "outputs": [
    {
     "data": {},
     "execution_count": 10,
     "metadata": {},
     "output_type": "execute_result"
    }
   ],
   "source": [
    "data"
   ]
  },
  {
   "cell_type": "code",
   "execution_count": 11,
   "metadata": {},
   "outputs": [
    {
     "data": {},
     "execution_count": 11,
     "metadata": {},
     "output_type": "execute_result"
    }
   ],
   "source": [
    "data.astype({'Price': 'int32','RegistrationYear': 'int32','Power': 'int32','RegistrationMonth':'int8'}).dtypes"
   ]
  },
  {
   "cell_type": "code",
   "execution_count": 12,
   "metadata": {},
   "outputs": [],
   "source": [
    "data.info()"
   ]
  },
  {
   "cell_type": "markdown",
   "metadata": {},
   "source": [
    "преобразовали типы данных несколько снизив использование памяти"
   ]
  },
  {
   "cell_type": "code",
   "execution_count": 13,
   "metadata": {},
   "outputs": [],
   "source": [
    "data['Repaired']=data['Repaired'].fillna('noinf')\n"
   ]
  },
  {
   "cell_type": "code",
   "execution_count": 14,
   "metadata": {
    "scrolled": true
   },
   "outputs": [
    {
     "data": {},
     "execution_count": 14,
     "metadata": {},
     "output_type": "execute_result"
    }
   ],
   "source": [
    "data[data['VehicleType'].isna()].head(10)"
   ]
  },
  {
   "cell_type": "code",
   "execution_count": 15,
   "metadata": {},
   "outputs": [
    {
     "data": {},
     "execution_count": 15,
     "metadata": {},
     "output_type": "execute_result"
    }
   ],
   "source": [
    "data[data['FuelType'].isna()].head(10)"
   ]
  },
  {
   "cell_type": "markdown",
   "metadata": {},
   "source": [
    "Видим что пропуски не имеют какой либо явной зависимости. Для того чтобы не потерять эти данные создадим в пропусках отдельную категорию noinf. Кроме того это поможет предсказать цену клиентам которые не указывают данную информацию"
   ]
  },
  {
   "cell_type": "code",
   "execution_count": 16,
   "metadata": {
    "scrolled": true
   },
   "outputs": [
    {
     "data": {},
     "execution_count": 16,
     "metadata": {},
     "output_type": "execute_result"
    }
   ],
   "source": [
    "data.query('FuelType.isna()' )"
   ]
  },
  {
   "cell_type": "code",
   "execution_count": 17,
   "metadata": {
    "scrolled": true
   },
   "outputs": [
    {
     "data": {},
     "execution_count": 17,
     "metadata": {},
     "output_type": "execute_result"
    }
   ],
   "source": [
    "data.query('FuelType.isna() and Model==\"golf\"' )"
   ]
  },
  {
   "cell_type": "code",
   "execution_count": 18,
   "metadata": {
    "scrolled": true
   },
   "outputs": [
    {
     "data": {},
     "execution_count": 18,
     "metadata": {},
     "output_type": "execute_result"
    }
   ],
   "source": [
    "data.query(' Model==\"golf\"' )"
   ]
  },
  {
   "cell_type": "code",
   "execution_count": 19,
   "metadata": {},
   "outputs": [
    {
     "data": {},
     "execution_count": 19,
     "metadata": {},
     "output_type": "execute_result"
    }
   ],
   "source": [
    "data['FuelType'].unique()"
   ]
  },
  {
   "cell_type": "code",
   "execution_count": 20,
   "metadata": {},
   "outputs": [
    {
     "data": {},
     "execution_count": 20,
     "metadata": {},
     "output_type": "execute_result"
    }
   ],
   "source": [
    "data.groupby('Model')['Model'].value_counts().sort_values(ascending= False).tail(15)"
   ]
  },
  {
   "cell_type": "code",
   "execution_count": 21,
   "metadata": {},
   "outputs": [
    {
     "data": {},
     "execution_count": 21,
     "metadata": {},
     "output_type": "execute_result"
    }
   ],
   "source": [
    "data.query('Model==\"materia\"')"
   ]
  },
  {
   "cell_type": "markdown",
   "metadata": {},
   "source": [
    "Видим что для строк где известна модель машины с более менее высокой точностью можно восстановить пропуски  Gearbox FuelType Power , также где Power=0 заменим медианой по модели машины"
   ]
  },
  {
   "cell_type": "code",
   "execution_count": 22,
   "metadata": {},
   "outputs": [],
   "source": [
    "for model in data['Model'].unique():\n",
    "    data.loc[(data['Power']==0)&(data['Model']==model),'Power'] = data.loc[data['Model'] == model]['Power'].median()"
   ]
  },
  {
   "cell_type": "code",
   "execution_count": 23,
   "metadata": {},
   "outputs": [],
   "source": [
    "for model in data['Model'].unique():\n",
    "    data.loc[(data['Gearbox'].isna())&(data['Model']==model),'Gearbox'] = data.loc[data['Model'] == model]['Gearbox'].mode()"
   ]
  },
  {
   "cell_type": "code",
   "execution_count": 24,
   "metadata": {},
   "outputs": [],
   "source": [
    "for model in data.query('FuelType.isna()')['Model'].unique():\n",
    "    data.loc[(data['FuelType'].isna())&(data['Model']==model),'FuelType'] = data.loc[data['Model'] == model]['FuelType'].mode()"
   ]
  },
  {
   "cell_type": "code",
   "execution_count": 25,
   "metadata": {},
   "outputs": [],
   "source": [
    "for model in data['Model'].unique():\n",
    "    data.loc[(data['Power'].isna())&(data['Model']==model),'Power'] = data.loc[data['Model'] == model]['Power'].median()"
   ]
  },
  {
   "cell_type": "markdown",
   "metadata": {},
   "source": [
    "оставшиеся пропуски если есть заменим "
   ]
  },
  {
   "cell_type": "code",
   "execution_count": 26,
   "metadata": {
    "scrolled": true
   },
   "outputs": [],
   "source": [
    "for m in [ 'VehicleType','Model','Repaired']:\n",
    "    \n",
    "    data[m]=data[m].fillna('noinf')\n",
    "data['Gearbox']=data['Gearbox'].fillna('manual') "
   ]
  },
  {
   "cell_type": "code",
   "execution_count": 27,
   "metadata": {
    "scrolled": false
   },
   "outputs": [
    {
     "data": {},
     "metadata": {},
     "output_type": "display_data"
    }
   ],
   "source": [
    "display(pd.DataFrame(round(data.isna().mean()*100,1)).style.background_gradient('coolwarm') )"
   ]
  },
  {
   "cell_type": "code",
   "execution_count": 28,
   "metadata": {},
   "outputs": [],
   "source": [
    "d=data['Model'].unique().tolist()\n",
    "d=sorted(d)\n",
    "print(d)"
   ]
  },
  {
   "cell_type": "markdown",
   "metadata": {},
   "source": [
    "неявных дубликатов в моделях не обнаружено"
   ]
  },
  {
   "cell_type": "code",
   "execution_count": 29,
   "metadata": {
    "scrolled": true
   },
   "outputs": [
    {
     "data": {},
     "execution_count": 29,
     "metadata": {},
     "output_type": "execute_result"
    }
   ],
   "source": [
    "data.query('Price==0')"
   ]
  },
  {
   "cell_type": "markdown",
   "metadata": {},
   "source": [
    "Цена целевой признак поэтому обьявления с ценой 0 придется отбросить"
   ]
  },
  {
   "cell_type": "code",
   "execution_count": 30,
   "metadata": {},
   "outputs": [],
   "source": [
    "data= data.query('Price!=0')"
   ]
  },
  {
   "cell_type": "code",
   "execution_count": 31,
   "metadata": {},
   "outputs": [
    {
     "data": {},
     "execution_count": 31,
     "metadata": {},
     "output_type": "execute_result"
    },
    {
     "data": {},
     "metadata": {},
     "output_type": "display_data"
    }
   ],
   "source": [
    "data['Price'].hist(bins=10, figsize=(12,9))"
   ]
  },
  {
   "cell_type": "code",
   "execution_count": 32,
   "metadata": {
    "scrolled": true
   },
   "outputs": [
    {
     "data": {},
     "execution_count": 32,
     "metadata": {},
     "output_type": "execute_result"
    }
   ],
   "source": [
    " data.query('Price<100')"
   ]
  },
  {
   "cell_type": "code",
   "execution_count": 33,
   "metadata": {},
   "outputs": [],
   "source": [
    " data= data.query('Price>100')"
   ]
  },
  {
   "cell_type": "code",
   "execution_count": 34,
   "metadata": {},
   "outputs": [
    {
     "data": {},
     "execution_count": 34,
     "metadata": {},
     "output_type": "execute_result"
    }
   ],
   "source": [
    "data['RegistrationYear'].unique()"
   ]
  },
  {
   "cell_type": "code",
   "execution_count": 35,
   "metadata": {},
   "outputs": [
    {
     "data": {},
     "metadata": {},
     "output_type": "display_data"
    }
   ],
   "source": [
    "data['RegistrationYear'].hist(bins=100, figsize=(12,9));"
   ]
  },
  {
   "cell_type": "code",
   "execution_count": 36,
   "metadata": {},
   "outputs": [],
   "source": [
    "data=data.query('1970<=RegistrationYear<=2016')"
   ]
  },
  {
   "cell_type": "markdown",
   "metadata": {},
   "source": [
    "К сожалению придется отбросить обьявления с неправдоподобным годом "
   ]
  },
  {
   "cell_type": "code",
   "execution_count": 37,
   "metadata": {},
   "outputs": [
    {
     "data": {},
     "execution_count": 37,
     "metadata": {},
     "output_type": "execute_result"
    }
   ],
   "source": [
    "data['Power'].unique()"
   ]
  },
  {
   "cell_type": "code",
   "execution_count": 38,
   "metadata": {
    "scrolled": true
   },
   "outputs": [
    {
     "data": {},
     "execution_count": 38,
     "metadata": {},
     "output_type": "execute_result"
    }
   ],
   "source": [
    "data.query(\"VehicleType in ['wagon'] and RegistrationYear==2003 and Model in ['focus']\").head(10)"
   ]
  },
  {
   "cell_type": "code",
   "execution_count": 39,
   "metadata": {},
   "outputs": [
    {
     "data": {},
     "execution_count": 39,
     "metadata": {},
     "output_type": "execute_result"
    }
   ],
   "source": [
    "data.query(\"Power>500 \")"
   ]
  },
  {
   "cell_type": "code",
   "execution_count": 40,
   "metadata": {},
   "outputs": [
    {
     "data": {},
     "execution_count": 40,
     "metadata": {},
     "output_type": "execute_result"
    }
   ],
   "source": [
    "data.query(\"VehicleType in ['wagon'] and RegistrationYear==1996 and Model in ['a6']\").head(10)"
   ]
  },
  {
   "cell_type": "markdown",
   "metadata": {},
   "source": [
    "Видим сточки с неправдоподобным значением, заполним их медианой по марке машины"
   ]
  },
  {
   "cell_type": "code",
   "execution_count": 41,
   "metadata": {},
   "outputs": [],
   "source": [
    "for model in data['Model'].unique():\n",
    "    data.loc[(data['Power']>500 )&(data['Model']==model),'Power'] = data.loc[data['Model'] == model]['Power'].median()\n",
    "    data.loc[(data['Power']==0 )&(data['Model']==model),'Power'] = data.loc[data['Model'] == model]['Power'].median()"
   ]
  },
  {
   "cell_type": "code",
   "execution_count": 42,
   "metadata": {
    "scrolled": true
   },
   "outputs": [
    {
     "data": {},
     "execution_count": 42,
     "metadata": {},
     "output_type": "execute_result"
    }
   ],
   "source": [
    "data.loc[[1816,4060]]"
   ]
  },
  {
   "cell_type": "code",
   "execution_count": 43,
   "metadata": {},
   "outputs": [
    {
     "data": {},
     "execution_count": 43,
     "metadata": {},
     "output_type": "execute_result"
    }
   ],
   "source": [
    "data.query('Power== 0')"
   ]
  },
  {
   "cell_type": "markdown",
   "metadata": {},
   "source": [
    "Заменили данные о мощности машины медианой по марке машины, в том числе машины где марка была неизвестна и была заменена на 'noinf'"
   ]
  },
  {
   "cell_type": "code",
   "execution_count": 44,
   "metadata": {},
   "outputs": [
    {
     "data": {},
     "metadata": {},
     "output_type": "display_data"
    }
   ],
   "source": [
    "display(pd.DataFrame(round(data.isna().mean()*100,1)).style.background_gradient('coolwarm') )"
   ]
  },
  {
   "cell_type": "code",
   "execution_count": 45,
   "metadata": {},
   "outputs": [],
   "source": [
    "data['FuelType']=data['FuelType'].fillna('noinf')"
   ]
  },
  {
   "cell_type": "markdown",
   "metadata": {},
   "source": [
    "Вывод  по шагу 1.\n",
    "\n",
    "При изучении данных было выявлено множество пропусков и аномалий, также во многих столбцах можно было использовать менее затратные типы данных. Дубликаты не были выявлены. \n",
    "также были неправильно распознаны даты. \n",
    "Таким образом было преобразовано:\n",
    "    время \n",
    "    столбцы с int64 - где то было сделано int8, где то int32\n",
    "    были удалены неправдоподобные года регистрации в RegistrationYear\n",
    "    были оставлены неправдоподобные данные в 'Power' так как это положитенльо влияло на корреляцию с ценой\n",
    "    были заменены пропуски на noinf\n",
    "    удалены лишние столбцы 'NumberOfPictures' так как там  всегда 0 и PostalCode так как  почтовый код явно не нужен \n"
   ]
  },
  {
   "cell_type": "markdown",
   "metadata": {},
   "source": [
    "## Обучение моделей"
   ]
  },
  {
   "cell_type": "markdown",
   "metadata": {},
   "source": [
    "Выберем следующие регрессоры для обучения модели:\n",
    "\n",
    "LinearRegression\n",
    "\n",
    "\n",
    "RandomForestregressor\n",
    "LGBMRegressor\n",
    "Выберем следующие регрессоры для обучения модели:\n",
    "\n",
    "\n",
    "В качестве метрики для всех моделей будем использовать MSE и в финальной таблице переведем в RMSE. "
   ]
  },
  {
   "cell_type": "code",
   "execution_count": 46,
   "metadata": {
    "scrolled": true
   },
   "outputs": [
    {
     "data": {},
     "execution_count": 46,
     "metadata": {},
     "output_type": "execute_result"
    }
   ],
   "source": [
    "data.head()"
   ]
  },
  {
   "cell_type": "code",
   "execution_count": 47,
   "metadata": {},
   "outputs": [],
   "source": [
    "data=data.drop(['DateCrawled','DateCreated','LastSeen','RegistrationMonth','RegistrationYear'],axis=1)"
   ]
  },
  {
   "cell_type": "code",
   "execution_count": 48,
   "metadata": {},
   "outputs": [
    {
     "data": {},
     "execution_count": 48,
     "metadata": {},
     "output_type": "execute_result"
    }
   ],
   "source": [
    "data.head()"
   ]
  },
  {
   "cell_type": "markdown",
   "metadata": {},
   "source": [
    "Было решено что часть признаков лишние и не будут способствовать повышению качества моделей. Эти признаки были отброшены"
   ]
  },
  {
   "cell_type": "markdown",
   "metadata": {},
   "source": [
    "для моделей которые требуют кодирования признаков признаки назвали target features,\n",
    "для остальных моделей признаки назвали target_cat features_cat"
   ]
  },
  {
   "cell_type": "code",
   "execution_count": 49,
   "metadata": {},
   "outputs": [],
   "source": [
    "\n",
    "target = data['Price']\n",
    "features = data.drop('Price', axis=1)"
   ]
  },
  {
   "cell_type": "code",
   "execution_count": 50,
   "metadata": {},
   "outputs": [],
   "source": [
    "target_cat=data['Price']\n",
    "features_cat=data.drop('Price', axis=1)"
   ]
  },
  {
   "cell_type": "code",
   "execution_count": 51,
   "metadata": {},
   "outputs": [],
   "source": [
    "features_train_cat, features_valid_cat, target_train_cat, target_valid_cat = train_test_split(\n",
    "features_cat, target_cat, test_size=0.4, random_state=12345)\n",
    "features_valid_cat,features_test_cat,target_valid_cat, target_test_cat=train_test_split(features_valid_cat,target_valid_cat,test_size=0.50,random_state=12345)\n",
    "print('Размер тренерующей выборки', features_train_cat.shape[0])\n",
    "print('Размер валидационной выборки', features_valid_cat.shape[0])\n",
    "print('Размер тестовой выборки', features_test_cat.shape[0])"
   ]
  },
  {
   "cell_type": "code",
   "execution_count": 52,
   "metadata": {},
   "outputs": [],
   "source": [
    "features_train_ohe, features_valid_ohe, target_train_ohe, target_valid_ohe = train_test_split(\n",
    "features, target, test_size=0.4,random_state=12345)\n",
    "features_valid_ohe,features_test_ohe,target_valid_ohe, target_test_ohe=train_test_split(features_valid_ohe,target_valid_ohe,test_size=0.50,random_state=12345)\n",
    "print('Размер тренерующей выборки', features_train_ohe.shape[0])\n",
    "print('Размер валидационной выборки', features_valid_ohe.shape[0])\n",
    "print('Размер тестовой выборки', features_test_ohe.shape[0])"
   ]
  },
  {
   "cell_type": "code",
   "execution_count": 53,
   "metadata": {},
   "outputs": [],
   "source": [
    "#категориальные признаки для OHE \n",
    "ohe_features = features_train_ohe.select_dtypes(include='object').columns.to_list()\n",
    "print(ohe_features)\n",
    "num_features=['Price','Power','Kilometer']\n",
    "print(num_features)"
   ]
  },
  {
   "cell_type": "code",
   "execution_count": 54,
   "metadata": {},
   "outputs": [],
   "source": [
    "encoder_ohe = OneHotEncoder(drop='first', handle_unknown='ignore', sparse=False)\n",
    "# обучаем энкодер на заданных категориальных признаках тренировочной выборки\n",
    "encoder_ohe.fit(features_train_ohe[ohe_features])\n",
    "# добавляем закодированные признаки в X_train_ohe\n",
    "# encoder_ohe.get_feature_names_out() позволяет получить названия колонок\n",
    "features_train_ohe[\n",
    "    encoder_ohe.get_feature_names_out()\n",
    "] = encoder_ohe.transform(features_train_ohe[ohe_features])\n",
    "\n",
    "# удаляем незакодированные категориальные признаки (изначальные колонки)\n",
    "features_train_ohe = features_train_ohe.drop(ohe_features, axis=1)\n",
    "\n"
   ]
  },
  {
   "cell_type": "code",
   "execution_count": 55,
   "metadata": {},
   "outputs": [],
   "source": [
    "# энкодером, который обучен на ТРЕНИРОВОЧНОЙ ВЫБОРКЕ, кодируем валидационную и тестовую\n",
    "features_valid_ohe[\n",
    "    encoder_ohe.get_feature_names_out()\n",
    "] = encoder_ohe.transform(features_valid_ohe[ohe_features])\n",
    "\n",
    "features_valid_ohe = features_valid_ohe.drop(ohe_features, axis=1)\n",
    "\n",
    "features_test_ohe[\n",
    "    encoder_ohe.get_feature_names_out()\n",
    "] = encoder_ohe.transform(features_test_ohe[ohe_features])\n",
    "\n",
    "features_test_ohe = features_test_ohe.drop(ohe_features, axis=1)\n",
    "\n"
   ]
  },
  {
   "cell_type": "code",
   "execution_count": 56,
   "metadata": {},
   "outputs": [
    {
     "data": {},
     "execution_count": 56,
     "metadata": {},
     "output_type": "execute_result"
    }
   ],
   "source": [
    "features_valid_ohe.head()"
   ]
  },
  {
   "cell_type": "code",
   "execution_count": 57,
   "metadata": {},
   "outputs": [],
   "source": [
    "model_cat=CatBoostRegressor(cat_features=[ 'VehicleType', 'Gearbox',\n",
    "                'Model', 'FuelType', 'Brand','Repaired'])\n",
    "model_rfr =  make_pipeline(RandomForestRegressor())\n",
    "model_lr = make_pipeline(LinearRegression())\n",
    "model_LGBM= LGBMRegressor() \n",
    "n_iter_search = 12 "
   ]
  },
  {
   "cell_type": "code",
   "execution_count": 58,
   "metadata": {},
   "outputs": [],
   "source": [
    "parameters_cat = {'learning_rate':[0.5,0.6],\n",
    "                  'iterations':[100,200],\n",
    "                  'random_state':[12345],\n",
    "                  'depth': [4, 6]\n",
    "                 }\n",
    "parameters_lr = {'linearregression__normalize':[False]}\n",
    "parameters_rfr = {'randomforestregressor__n_estimators':[5,10],\n",
    "                  'randomforestregressor__max_depth':[3,8],\n",
    "                  'randomforestregressor__random_state':[12345]}\n",
    "parameters_LGBM={'num_leaves':[31, 100, 200], \n",
    "                'learning_rate':[0.1, 0.3, 0.5],\n",
    "                'random_state':[12345]}\n"
   ]
  },
  {
   "cell_type": "markdown",
   "metadata": {},
   "source": [
    "Проверим как маштабирование признаков влияет на линейные модели"
   ]
  },
  {
   "cell_type": "code",
   "execution_count": 59,
   "metadata": {
    "scrolled": true
   },
   "outputs": [],
   "source": [
    "%%time\n",
    "regressor = LinearRegression()\n",
    "\n",
    "\n",
    "cv_RMSE_LR = (cross_val_score(regressor, \n",
    "                             features_train_ohe, \n",
    "                             target_train_ohe, \n",
    "                             cv=5, \n",
    "                             scoring='neg_mean_squared_error').mean() * -1) ** 0.5\n",
    "print('Mean RMSE from CV of LinearRegression =', cv_RMSE_LR)"
   ]
  },
  {
   "cell_type": "code",
   "execution_count": 60,
   "metadata": {},
   "outputs": [],
   "source": [
    "%%time\n",
    "\n",
    "regressor = LinearRegression()\n",
    "scaller = StandardScaler()\n",
    "pipeline = Pipeline([(\"standard_scaller\", scaller),(\"linear_regression\", regressor)])\n",
    "\n",
    "cv_RMSE_LR_S = (cross_val_score(pipeline,\n",
    "                               features_train_ohe, \n",
    "                                target_train_ohe, \n",
    "                                cv=5, \n",
    "                                scoring='neg_mean_squared_error').mean() * -1) ** 0.5\n",
    "print('Mean RMSE from CV of LinearRegression =', cv_RMSE_LR_S)"
   ]
  },
  {
   "cell_type": "markdown",
   "metadata": {},
   "source": [
    "Видим что масштабирование признаков ухудшает модель. Откажемся от применение масштаба."
   ]
  },
  {
   "cell_type": "code",
   "execution_count": 61,
   "metadata": {},
   "outputs": [],
   "source": [
    "model=LinearRegression()\n",
    "random_search = RandomizedSearchCV(model_lr, \n",
    "                                   param_distributions=parameters_lr, \n",
    "                                   n_iter=10, \n",
    "                                   cv=3, \n",
    "                                   scoring = 'neg_mean_squared_error',\n",
    "                                      ) \n",
    "random_search.fit(features_train_ohe, target_train_ohe) \n",
    "lr_final =random_search.best_score_\n",
    "print(\"Лучшие параметры: {}\".format(random_search.best_params_)) \n",
    "print(\"Лучшая оценка : {}\".format(random_search.best_score_))\n"
   ]
  },
  {
   "cell_type": "markdown",
   "metadata": {},
   "source": [
    "random_search.cv_results_"
   ]
  },
  {
   "cell_type": "code",
   "execution_count": 62,
   "metadata": {},
   "outputs": [],
   "source": [
    "\n",
    "random_search = RandomizedSearchCV(model_cat, \n",
    "                                   param_distributions=parameters_cat, \n",
    "                                   n_iter=10, \n",
    "                                   cv=2, \n",
    "                                   verbose=True,scoring = 'neg_mean_squared_error'\n",
    "                                   \n",
    "                                  )\n",
    "                                   \n",
    "                                     \n",
    "random_search.fit(features_train_cat, target_train_cat) \n",
    "Cat_final =random_search.best_score_\n",
    "print(\"Лучшие параметры: {}\".format(random_search.best_params_)) \n",
    "print(\"Лучшая оценка : {}\".format(random_search.best_score_))\n"
   ]
  },
  {
   "cell_type": "code",
   "execution_count": 63,
   "metadata": {
    "scrolled": false
   },
   "outputs": [],
   "source": [
    "%%time\n",
    "random_search = RandomizedSearchCV(model_LGBM, \n",
    "                                   param_distributions=parameters_LGBM, \n",
    "                                   n_iter=10, \n",
    "                                   cv=3, \n",
    "                                   scoring = 'neg_mean_squared_error',\n",
    "                                   \n",
    "                                      ) \n",
    "random_search.fit(features_train_cat.astype('category'), target_train_cat) \n",
    "LGBM_final =random_search.best_score_\n",
    "print(\"Лучшие параметры: {}\".format(random_search.best_params_)) \n",
    "print(\"Лучшая оценка : {}\".format(random_search.best_score_))"
   ]
  },
  {
   "cell_type": "markdown",
   "metadata": {},
   "source": [
    "%%time\n",
    "categorical_feats=[ 'VehicleType', 'Gearbox',\n",
    "                'Model', 'FuelType', 'Brand','Repaired']\n",
    "data_1=data.copy()\n",
    "\n",
    "target_LGBMR=data_1['Price']\n",
    "features_LGBMR=data_1.drop('Price', axis=1)\n",
    "features_train_LGBMR, features_valid_LGBMR, target_train_LGBMR, target_valid_LGBMR = train_test_split(\n",
    "    features_LGBMR, target_LGBMR, test_size=0.25, random_state=12345)\n",
    "\n",
    "model_LGBM_1= LGBMRegressor(categorical_feats=[ 'VehicleType', 'Gearbox',\n",
    "                'Model', 'FuelType', 'Brand','Repaired']) \n",
    "random_search = RandomizedSearchCV(model_LGBM_1, \n",
    "                                   param_distributions=parameters_LGBM, \n",
    "                                   n_iter=10, \n",
    "                                   cv=3, \n",
    "                                   scoring = 'neg_mean_squared_error',\n",
    "                                   \n",
    "                                      ) \n",
    "random_search.fit(features_train_LGBMR.astype('category'), target_train_LGBMR) \n",
    "LGBM_final =random_search.best_score_\n",
    "print(\"Лучшие параметры: {}\".format(random_search.best_params_)) \n",
    "print(\"Лучшая оценка : {}\".format(random_search.best_score_))"
   ]
  },
  {
   "cell_type": "markdown",
   "metadata": {},
   "source": [
    "%%time\n",
    "random_search_rfr_rougher = RandomizedSearchCV(model_rfr, param_distributions=parameters_rfr , n_iter=n_iter_search, cv=5, n_jobs=-1,scoring = 'neg_mean_squared_error')\n",
    "random_search_rfr_rougher.fit(features_train_cat, target_train_cat)\n",
    "rfr_rougher =random_search_rfr_rougher.best_score_\n",
    "# Вывод результатов\n",
    "print(\"Лучшие параметры: {}\".format(random_search_rfr_rougher.best_params_)) \n",
    "print(\"Лучшая оценка : {}\".format(random_search_rfr_rougher.best_score_))\n"
   ]
  },
  {
   "cell_type": "markdown",
   "metadata": {},
   "source": [
    "Вывод по шагу 2\n",
    "Данные были избавлены от неважных признаков, были разбиты на обучающие и валидационные выборки\n",
    "Были изучены 4  модели. Зафиксированы лучшие гиперпараметры и время их выполнения."
   ]
  },
  {
   "cell_type": "markdown",
   "metadata": {},
   "source": [
    "## Анализ моделей"
   ]
  },
  {
   "cell_type": "code",
   "execution_count": 64,
   "metadata": {},
   "outputs": [
    {
     "data": {},
     "execution_count": 64,
     "metadata": {},
     "output_type": "execute_result"
    }
   ],
   "source": [
    "%%time\n",
    "model = LinearRegression(normalize=False)\n",
    "model.fit(features_train_ohe, target_train_ohe)"
   ]
  },
  {
   "cell_type": "code",
   "execution_count": 65,
   "metadata": {},
   "outputs": [],
   "source": [
    "%%time\n",
    "target_predict = model.predict(features_valid_ohe)"
   ]
  },
  {
   "cell_type": "code",
   "execution_count": 66,
   "metadata": {},
   "outputs": [],
   "source": [
    "final_RMSE_LR = mean_squared_error(target_valid_ohe, target_predict) ** 0.5"
   ]
  },
  {
   "cell_type": "code",
   "execution_count": 67,
   "metadata": {},
   "outputs": [
    {
     "data": {},
     "execution_count": 67,
     "metadata": {},
     "output_type": "execute_result"
    }
   ],
   "source": [
    "%%time\n",
    "\n",
    "model = CatBoostRegressor(learning_rate=0.6, \n",
    "                          random_state=12345, \n",
    "                          iterations=200,\n",
    "                         depth=6,\n",
    "                          cat_features=[ 'VehicleType', 'Gearbox',\n",
    "                'Model', 'FuelType', 'Brand','Repaired']) \n",
    "model.fit(features_train_cat, target_train_cat)"
   ]
  },
  {
   "cell_type": "code",
   "execution_count": 68,
   "metadata": {},
   "outputs": [],
   "source": [
    "%%time\n",
    "target_predict = model.predict(features_valid_cat)"
   ]
  },
  {
   "cell_type": "code",
   "execution_count": 69,
   "metadata": {},
   "outputs": [],
   "source": [
    "final_RMSE_CBR_ordinal = mean_squared_error(target_valid_cat, target_predict) ** 0.5"
   ]
  },
  {
   "cell_type": "code",
   "execution_count": 85,
   "metadata": {
    "scrolled": true
   },
   "outputs": [
    {
     "data": {},
     "execution_count": 85,
     "metadata": {},
     "output_type": "execute_result"
    }
   ],
   "source": [
    "%%time\n",
    "model = LGBMRegressor(learning_rate=0.1, \n",
    "                      num_leaves=200, \n",
    "                      random_state=12345)\n",
    "model.fit(features_train_ohe, target_train_ohe)"
   ]
  },
  {
   "cell_type": "code",
   "execution_count": 84,
   "metadata": {},
   "outputs": [
    {
     "data": {},
     "metadata": {},
     "output_type": "display_data"
    }
   ],
   "source": [
    "mp = pd.Series(model.feature_importances_,\n",
    "                         features_train_cat.columns)\n",
    "\n",
    "fig, ax = plt.subplots(figsize=(10,10))\n",
    "mp.plot.bar(ax=ax)\n",
    "ax.set_title(\"Важность признаков\")\n",
    "ax.set_ylabel('Важность')\n",
    "fig.tight_layout()"
   ]
  },
  {
   "cell_type": "code",
   "execution_count": 86,
   "metadata": {},
   "outputs": [],
   "source": [
    "%%time\n",
    "target_predict = model.predict(features_valid_ohe)"
   ]
  },
  {
   "cell_type": "code",
   "execution_count": 87,
   "metadata": {},
   "outputs": [],
   "source": [
    "final_RMSE_LGBMR = mean_squared_error(target_valid_ohe, target_predict) ** 0.5"
   ]
  },
  {
   "cell_type": "code",
   "execution_count": 74,
   "metadata": {},
   "outputs": [
    {
     "data": {},
     "execution_count": 74,
     "metadata": {},
     "output_type": "execute_result"
    }
   ],
   "source": [
    "%%time\n",
    "model = RandomForestRegressor(random_state=12345,\n",
    "                             n_estimators=10,\n",
    "                             max_depth=8)\n",
    "model.fit(features_train_ohe, target_train_ohe)"
   ]
  },
  {
   "cell_type": "code",
   "execution_count": 75,
   "metadata": {},
   "outputs": [],
   "source": [
    "%%time\n",
    "target_predict = model.predict(features_valid_ohe)\n"
   ]
  },
  {
   "cell_type": "markdown",
   "metadata": {},
   "source": [
    "final_RMSE_RFR = mean_squared_error(target_valid_ohe, target_predict) ** 0.5"
   ]
  },
  {
   "cell_type": "markdown",
   "metadata": {},
   "source": [
    "Сравним результаты моделей на валидационной выборке"
   ]
  },
  {
   "cell_type": "code",
   "execution_count": 88,
   "metadata": {},
   "outputs": [],
   "source": [
    "index = ['LinearRegression',\n",
    "         \n",
    "         \n",
    "         'CatBoostRegressor ',\n",
    "         \n",
    "         'LGBMRegressor'\n",
    "        ]\n",
    "d = {'RMSE модели на валидационной выборке':[final_RMSE_LR,\n",
    "                                           final_RMSE_CBR_ordinal,\n",
    "                                                \n",
    "                                              \n",
    "                                                final_RMSE_LGBMR\n",
    "                                           \n",
    "                                               ],\n",
    "        'Время обучения , сек':[2.81,\n",
    "                                     16.3 ,\n",
    "                                     1.53\n",
    "                                     \n",
    "                                     ],\n",
    "        'Время предсказания модели, сек':[0.081,\n",
    "                                          0.18,\n",
    "                                          0.373\n",
    "                                          \n",
    "                                         ]\n",
    "       }\n",
    "scores_data = pd.DataFrame(data=d, index=index)"
   ]
  },
  {
   "cell_type": "code",
   "execution_count": 89,
   "metadata": {
    "scrolled": false
   },
   "outputs": [
    {
     "data": {},
     "metadata": {},
     "output_type": "display_data"
    }
   ],
   "source": [
    "display(scores_data)"
   ]
  },
  {
   "cell_type": "code",
   "execution_count": 90,
   "metadata": {},
   "outputs": [
    {
     "data": {},
     "execution_count": 90,
     "metadata": {},
     "output_type": "execute_result"
    }
   ],
   "source": [
    "%%time\n",
    "model = LGBMRegressor(learning_rate=0.1, \n",
    "                      num_leaves=200, \n",
    "                      random_state=12345)\n",
    "model.fit(features_train_cat.astype('category'), target_train_cat)"
   ]
  },
  {
   "cell_type": "code",
   "execution_count": 95,
   "metadata": {},
   "outputs": [],
   "source": [
    "%%time\n",
    "target_predict = model.predict(features_test_cat.astype('category'))"
   ]
  },
  {
   "cell_type": "code",
   "execution_count": 96,
   "metadata": {},
   "outputs": [],
   "source": [
    "final_RMSE_LGBMR = mean_squared_error(target_test_ohe, target_predict) ** 0.5"
   ]
  },
  {
   "cell_type": "code",
   "execution_count": 97,
   "metadata": {},
   "outputs": [],
   "source": [
    "print( 'итоговый результат модели на тестовой выборке' ,final_RMSE_LGBMR)"
   ]
  },
  {
   "cell_type": "markdown",
   "metadata": {},
   "source": [
    "Итоговый вывод\n",
    "В ходе работы было выполнено:\n",
    "\n",
    "Загружены данные и проведена предобработка.\n",
    "Выполнено сравнение моделей с использованием различных наборов гиперпараметров.\n",
    "Все модели были проверены на валидационной выборке \n",
    "\n",
    "Лучшей моделью  показал себя LGMRegressor. Следом за ним идет CatBoostRegressor . Остальные модели не набрали необходимую точность. По скорости обучения и предсказания LGMRegressor также бесусловный лидер он обучался быстрее всех моделей даже линейной  и почти в 10 раз быстрее CatBoostRegressor\n",
    "\n",
    "Таким образом выбирается модель LGMRegressor\n",
    "Также посчитали ее RMSE на итоговой выборке он составил 2063"
   ]
  },
  {
   "cell_type": "markdown",
   "metadata": {},
   "source": [
    "## Чек-лист проверки"
   ]
  },
  {
   "cell_type": "markdown",
   "metadata": {},
   "source": [
    "Поставьте 'x' в выполненных пунктах. Далее нажмите Shift+Enter."
   ]
  },
  {
   "cell_type": "markdown",
   "metadata": {},
   "source": [
    "- [x]  Jupyter Notebook открыт\n",
    "- [ ]  Весь код выполняется без ошибок\n",
    "- [ ]  Ячейки с кодом расположены в порядке исполнения\n",
    "- [ ]  Выполнена загрузка и подготовка данных\n",
    "- [ ]  Выполнено обучение моделей\n",
    "- [ ]  Есть анализ скорости работы и качества моделей"
   ]
  },
  {
   "cell_type": "code",
   "execution_count": null,
   "metadata": {},
   "outputs": [],
   "source": []
  }
 ],
 "metadata": {
  "ExecuteTimeLog": [
   {
    "duration": 1724,
    "start_time": "2023-11-09T09:11:05.606Z"
   },
   {
    "duration": 1195,
    "start_time": "2023-11-09T09:12:24.544Z"
   },
   {
    "duration": 4,
    "start_time": "2023-11-09T09:16:32.008Z"
   },
   {
    "duration": 2223,
    "start_time": "2023-11-09T09:16:33.659Z"
   },
   {
    "duration": 48,
    "start_time": "2023-11-20T09:31:37.027Z"
   }
  ],
  "kernelspec": {
   "display_name": "Python 3 (ipykernel)",
   "language": "python",
   "name": "python3"
  },
  "language_info": {
   "codemirror_mode": {
    "name": "ipython",
    "version": 3
   },
   "file_extension": ".py",
   "mimetype": "text/x-python",
   "name": "python",
   "nbconvert_exporter": "python",
   "pygments_lexer": "ipython3",
   "version": "3.9.18"
  },
  "toc": {
   "base_numbering": 1,
   "nav_menu": {},
   "number_sections": true,
   "sideBar": true,
   "skip_h1_title": true,
   "title_cell": "Table of Contents",
   "title_sidebar": "Contents",
   "toc_cell": false,
   "toc_position": {},
   "toc_section_display": true,
   "toc_window_display": false
  }
 },
 "nbformat": 4,
 "nbformat_minor": 2
}
